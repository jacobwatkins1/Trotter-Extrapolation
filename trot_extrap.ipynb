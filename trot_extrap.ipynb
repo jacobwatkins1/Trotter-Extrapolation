{
 "cells": [
  {
   "cell_type": "markdown",
   "id": "b5c007c9-ef1d-48e0-a9a2-27ff9c95ff37",
   "metadata": {},
   "source": [
    "# Trotter Extrapolation\n",
    "\n",
    "## James D. Watson, Jacob Watkins\n",
    "## August 2023"
   ]
  },
  {
   "cell_type": "markdown",
   "id": "70f8d735-16c2-4ee0-860c-ad2bccde0d24",
   "metadata": {},
   "source": [
    "### TODO:\n",
    "\n",
    "- Generalize Trotter code to any order formula (currently first order), or at least 2nd order\n",
    "- Calculate observable (Magnetization? Something local to one qubit?)"
   ]
  },
  {
   "cell_type": "markdown",
   "id": "06cf71a0-6a31-4865-a0db-a916f87f6d40",
   "metadata": {},
   "source": [
    "## Theory"
   ]
  },
  {
   "cell_type": "markdown",
   "id": "0b45fdaf-3f74-4887-bdc9-8860d1c538a2",
   "metadata": {},
   "source": [
    "From Equation (1) of [this text](https://arxiv.org/abs/1711.10980), we want to simulate the 1D Heisenberg model.\n",
    "\n",
    "$$\n",
    "H = \\sum_{i=1}^n \\sigma_i \\cdot \\sigma_{i+1} + h_j \\sigma_j^z\n",
    "$$\n",
    "\n",
    "with $h_j \\in [-h,h]$ randomly and uniformly sampled. Suppose we wish to simulate $e^{-i H T}$ on a quantum computer using product formulas. A natural choice is to split according to even-odd staggering of the interaction term, and then do the $Z$ rotations in their own grouping. If $n$ is odd, there will be one term left over. I don't think we should fret, probably just choose even $n$ for simplicity since we are only exploring our method. "
   ]
  },
  {
   "cell_type": "code",
   "execution_count": 2,
   "id": "a44fc2f7-ab7d-44eb-b0b1-fbdf442207f1",
   "metadata": {
    "tags": []
   },
   "outputs": [],
   "source": [
    "# Imports\n",
    "\n",
    "import numpy as np\n",
    "import scipy.linalg as sla\n",
    "import numpy.linalg as nla\n",
    "import matplotlib.pyplot as plt"
   ]
  },
  {
   "cell_type": "markdown",
   "id": "be8104a6-55ec-4a94-8e77-2239c7588c08",
   "metadata": {
    "tags": []
   },
   "source": [
    "## Useful Pauli and qubit manipulations"
   ]
  },
  {
   "cell_type": "code",
   "execution_count": 3,
   "id": "6e00eefe-fab1-4b46-8b9a-e250629167fa",
   "metadata": {
    "tags": []
   },
   "outputs": [],
   "source": [
    "# Computes Kronecker (tensor) product of a list of matrices\n",
    "# Example:\n",
    "# Input: [X,Y,Z,Y]\n",
    "# Return: X \\ox Y \\ox Z \\ox Y\n",
    "def kron_list(matrix_list):\n",
    "    result = matrix_list[0]\n",
    "    for i in range(1,len(matrix_list)):\n",
    "        result = np.kron(result,matrix_list[i])\n",
    "        \n",
    "    return result\n",
    "\n",
    "# Pauli matrices\n",
    "I = np.array([[1.,0],[0,1.]], dtype='complex')\n",
    "X = np.array([[0,1.],[1.,0]], dtype='complex')\n",
    "Y = np.array([[0,-1.j],[1.j,0]], dtype='complex')\n",
    "Z = np.array([[1.,0],[0,-1.]], dtype='complex')\n",
    "\n",
    "# Converts string representation of paulis to list of matrices,\n",
    "# Example:\n",
    "# Input: \"XYZY\"\n",
    "# Return: [X,Y,Z,Y]\n",
    "def paulistring_to_list(paulistring): \n",
    "    matrix_list = list(paulistring)\n",
    "    translate = {'I':I, 'X':X, 'Y':Y, 'Z':Z}\n",
    "    for p in range(len(paulistring)):\n",
    "        matrix_list[p] = translate[matrix_list[p]]\n",
    "    return matrix_list\n",
    "\n",
    "# Computes generalized pauli matrix, given a string in standard form,\n",
    "# Example:\n",
    "# Input: \"XYZY\"\n",
    "# Return: X \\ox Y \\ox Z \\ox Y\n",
    "def pauli_matrix(paulistring):\n",
    "    return kron_list(paulistring_to_list(paulistring))\n",
    "\n",
    "# Computes generalized pauli matrix, specified by non-identity pieces. Nonidentities encoded as dictionary\n",
    "# of the form {k:'P', ..., } where k is the integer location and P is a pauli\n",
    "# Example:\n",
    "# Input: {0: 'X', 3:'Z', 5:'X'}, 6\n",
    "# Return: X\\ox I \\ox  Z \\ox I \\ox I \\ox X\n",
    "def sparse_pauli(nonidentities, nqubits):\n",
    "    #starting string is all identity\n",
    "    paulilist = []\n",
    "    for i in range(0, nqubits):\n",
    "        paulilist.append('I')\n",
    "    \n",
    "    #Change string to paulis specified by dictionary\n",
    "    for key in nonidentities:\n",
    "        paulilist[key] = nonidentities[key]\n",
    "    paulistring = ''.join(paulilist)\n",
    "    \n",
    "    return pauli_matrix(paulistring) \n",
    "\n",
    "# Returns the matrix of \\sigma . \\sigma between sites i and j\n",
    "# Example:\n",
    "# Input: 0,1,4\n",
    "# Return: X\\ox X \\ox I \\ox I + Y\\ox Y \\ox I \\ox I + Z\\ox Z \\ox I \\ox I\n",
    "def sigma_dot_sigma(i,j,nqubits):\n",
    "    return sparse_pauli({i:'X',j:'X'},nqubits) + sparse_pauli({i:'Y',j:'Y'},nqubits) + sparse_pauli({i:'Z',j:'Z'},nqubits)\n",
    "\n",
    "# Qubit computational basis\n",
    "zero = np.array([1.,0], dtype ='complex')\n",
    "one = np.array([0,1.], dtype ='complex')\n",
    "\n",
    "# Convert bitstring to list of single-qubit kets\n",
    "# Example: \n",
    "# Input: \"0101\"\n",
    "# Output: list( (1,0), (0,1), (1,0), (0,1) )\n",
    "def bitstring_to_list(bitstring):\n",
    "    bitlist = list(bitstring)\n",
    "    translate = {'0':zero, '1':one}\n",
    "    for b in range(len(bitstring)):\n",
    "        bitlist[b] = translate[bitlist[b]]\n",
    "    return bitlist\n",
    "\n",
    "# Convert bitstring to full vector/array describing each qubit.\n",
    "# Example: \n",
    "# Input: \"0101\"\n",
    "# Output:  (1,0) \\ox (0,1) \\ox (1,0) \\ox (0,1) \n",
    "def basis_ket(bitstring):\n",
    "    return kron_list(bitstring_to_list(bitstring))\n",
    "\n",
    "\n",
    "# Outputs a bit string with certain positions set to 1, and otherwise set to zero:\n",
    "# Example: \n",
    "# Input: [0,1,2],3\n",
    "# Output:  (0,0,0,0,0,0,0,0,1)\n",
    "def sparse_bitstring(ones, nqubits):\n",
    "    bitlist = []\n",
    "    for i in range(0,nqubits):\n",
    "        bitlist.append('0')\n",
    "    \n",
    "    #Flip certain bits to one, as specified by dictionary\n",
    "    for qubit in ones:\n",
    "        bitlist[qubit] = '1'\n",
    "    bitstring = ''.join(bitlist)\n",
    "    \n",
    "    return basis_ket(bitstring)"
   ]
  },
  {
   "cell_type": "markdown",
   "id": "dd8bb0f9-b88a-4427-8810-62a48cc883b0",
   "metadata": {},
   "source": [
    "## Chebyshev functions\n",
    "\n",
    "`np.polynomial.chebyshev` is a class for chebyshev polynomials. Looks new and somewhat untested."
   ]
  },
  {
   "cell_type": "code",
   "execution_count": 4,
   "id": "4be6507b-b85e-4760-aa0b-49a0dc598fe4",
   "metadata": {
    "tags": []
   },
   "outputs": [],
   "source": [
    "def cheb_nodes(n, width = 1, center = 0):\n",
    "    nodes = np.zeros(n)\n",
    "    for j in range(n):\n",
    "        nodes[n-j-1] = center + (width/2)* np.cos((2*j+1)*np.pi/(2*n))\n",
    "    return nodes"
   ]
  },
  {
   "cell_type": "markdown",
   "id": "b75a9bf3-a7c4-4e27-aad1-f30d652b607b",
   "metadata": {
    "tags": []
   },
   "source": [
    "## Simulation functions"
   ]
  },
  {
   "cell_type": "code",
   "execution_count": 5,
   "id": "e715826b-5467-4cb2-b571-b0cacfda74af",
   "metadata": {
    "tags": []
   },
   "outputs": [],
   "source": [
    "# Generates the 1D Heisenberg chain Hamiltonian specified in the introduction.\n",
    "def heisenbergH(nqubits, hlist):\n",
    "    H = sigma_dot_sigma(0,1,nqubits) + hlist[0]*sparse_pauli({0:'Z'}, nqubits)\n",
    "    for j in range(1, nqubits):\n",
    "        H += sigma_dot_sigma(j, (j+1)%nqubits, nqubits) + hlist[j]*sparse_pauli({j:'Z'}, nqubits)\n",
    "    return H\n",
    "\n",
    "# Generates the exact time evolution.\n",
    "def Uexact(H, T):\n",
    "    return sla.expm(-1.j*H*T)\n",
    "\n",
    "# TODO: generalize for higher order formulas (or at least 2).\n",
    "# First term in Hlist is applied to state first\n",
    "def Utrot_short(Hlist, t, order = 1):\n",
    "    m = len(Hlist) # number of terms\n",
    "    result = sla.expm(-1.j*Hlist[0]*t)\n",
    "    for k in range(1,m):\n",
    "        result = sla.expm(-1.j*Hlist[k]*t) @ result\n",
    "    \n",
    "    return result\n",
    "    \n",
    "# Code only works for first order\n",
    "def Utrot_long(Hlist, T, steps, order = 1):\n",
    "    single_step = Utrot_short(Hlist, T/steps, order)\n",
    "    \n",
    "    integer_steps = int( np.floor(steps) )\n",
    "    fractional_step = steps - integer_steps\n",
    "    \n",
    "    integer_step_evolve = nla.matrix_power(single_step, integer_steps)\n",
    "    fractional_step_evolve = sla.fractional_matrix_power(single_step, fractional_step)\n",
    "    \n",
    "    total_evolution = integer_step_evolve @ fractional_step_evolve \n",
    "    \n",
    "    return total_evolution\n",
    "\n",
    "# Computes the 1-norm characterising the Hamiltonian & number of steps needed.\n",
    "def Heisenberg_one_norm(nqubits, hlist):\n",
    "    \n",
    "    # First compute norm associated with the 2 qubit \\sigma.\\sigma terms.\n",
    "    norm = (nqubits-1)*3\n",
    "    \n",
    "    # Compute part of norm associated with single-qubit terms.\n",
    "    k = 0\n",
    "    for k in range(nqubits):\n",
    "        norm += np.abs( hlist[k] )\n",
    "        \n",
    "    return norm"
   ]
  },
  {
   "cell_type": "markdown",
   "id": "56895233",
   "metadata": {},
   "source": [
    "# Generate Breakdown of the Heisenberg Hamiltonian"
   ]
  },
  {
   "cell_type": "code",
   "execution_count": 6,
   "id": "9e701aa5",
   "metadata": {},
   "outputs": [],
   "source": [
    "## Define the even, odd and potential terms for an arbitrary nunber of qubits and a given hlist.\n",
    "\n",
    "def Even_Heisenberg_Terms(nqubits):\n",
    "    Even = sigma_dot_sigma(0, 1, nqubits)\n",
    "    for j in range(2,nqubits,2):\n",
    "        Even += sigma_dot_sigma(j, (j+1)%nqubits, nqubits)\n",
    "        \n",
    "    return Even\n",
    "\n",
    "def Odd_Heisenberg_Terms(nqubits):\n",
    "    \n",
    "    Odd = sigma_dot_sigma(1, 2%nqubits, nqubits)\n",
    "    for j in range(3,nqubits,2):\n",
    "        Odd += sigma_dot_sigma(j, (j+1)%nqubits, nqubits)\n",
    "        \n",
    "        \n",
    "    return Odd\n",
    "\n",
    "def Potential_Heisenberg_Terms(nqubits, hlist):\n",
    "    \n",
    "    Potential = np.sum([hlist[j]*sparse_pauli({j:'Z'}, nqubits) for j in range(nqubits)], axis = 0)\n",
    "        \n",
    "    return Potential\n",
    "\n",
    "\n"
   ]
  },
  {
   "cell_type": "markdown",
   "id": "19395b8d",
   "metadata": {},
   "source": [
    "# Local Observable and Expectation Value Functions"
   ]
  },
  {
   "cell_type": "code",
   "execution_count": 7,
   "id": "e2617173",
   "metadata": {},
   "outputs": [],
   "source": [
    "## Define a Local Observable:\n",
    "\n",
    "## Computes  Hermitian observable, specified by Pauli strings. Input is a list of dictionaries: nonidentities encoded as dictionary\n",
    "## of the form {k:'P', ..., } where k is the integer location and P is a pauli. Pauli strings are then input as list.\n",
    "# Example:\n",
    "# Input: [{0: 'X', 3:'Z', 5:'X'}, {1: 'X'}], 6\n",
    "# Return: X\\ox I \\ox  Z \\ox I \\ox I \\ox X + I\\ox X \\ox  I \\ox I \\ox I \\ox I\n",
    "def observable(List_Pauli_strings, nqubits):\n",
    "\n",
    "    local_observable = 0\n",
    "    for k in range(len(List_Pauli_strings)):\n",
    "        local_observable +=  sparse_pauli( List_Pauli_strings[k], nqubits )\n",
    "    \n",
    "    return local_observable\n",
    "\n",
    "## Take expectation value of 'observable' with respect to to 'state'\n",
    "# Example:\n",
    "# Input: sparse_bitstring([0], 1), observable([{0: 'Z'}], 1) \n",
    "# Output: -1\n",
    "def expectation_value(state, observable):\n",
    "    \n",
    "    normalisation =   np.vdot(state, state )  \n",
    "    # Throw an exception if the state is not normalised.\n",
    "    if (normalisation -1) > 0.00001:\n",
    "        raise ValueError(\"State is not normalised\")\n",
    "    \n",
    "    # Calculate the expectation of the state. Use vdot to get complex conjugate.\n",
    "    expectation = np.vdot(state, observable.dot(state) )\n",
    "    \n",
    "    # Throw an exception if there is a significant imaginary part to the expectation value.\n",
    "    if np.abs(expectation.imag) > 0.00001:\n",
    "        raise ValueError(\"Expectation value should be entirely real\")\n",
    "        \n",
    "    # Return only the real part of the expectation value (imaginary part should be zero).\n",
    "    return np.real(expectation)\n",
    "\n",
    "## Finds the expectation value with respect to the Trotterized time evolution. Define the function in terms of x = 1/steps.\n",
    "# Example: \n",
    "# Input: [Even, Odd, Potential], sparse_bitstring([0,1], 2), 10, 0.01, observable([{0: 'Z'}], 2) \n",
    "# Output: -1 + 0.j\n",
    "def Trotterized_Expectation(Hlist, initial_state, time, x, observable, order = 1):\n",
    "    \n",
    "    steps = 1/x\n",
    "    \n",
    "    # Calculate the Trotterized time-evolution operator and apply to the initial state.\n",
    "    Trotterized_evolution_operator = Utrot_long(Hlist, time, steps, order )\n",
    "    time_evolved_state = initial_state  @ Trotterized_evolution_operator\n",
    "    \n",
    "    return expectation_value(time_evolved_state, observable)\n",
    "    \n",
    "## Computes the time-evolved expectation value from the *exact* evolution.  \n",
    "# Example: \n",
    "# Input: heisenbergH(nqubits, hlist), sparse_bitstring([0,1], 2), 10, observable([{0: 'Z'}], 2) \n",
    "# Output: -1 + 0.j\n",
    "def Exact_Expectation(Hamiltonian, initial_state, time, observable):\n",
    "    \n",
    "    # Calculate the exact evolution operator.\n",
    "    evolution_operator = Uexact(Hamiltonian, time)\n",
    "    # Apply the exact evolution to the initial state.\n",
    "    time_evolved_state = initial_state  @ evolution_operator\n",
    "    \n",
    "    return expectation_value(time_evolved_state, observable)\n",
    "\n",
    "## Compares the difference between the exact and Trotterized expecation values.\n",
    "def difference_function(Hlist, initial_state, time, x, observable, nqubits, order = 1 ):\n",
    "    \n",
    "    # Calculate full Heisenberg Hamiltonian. hlist = Hlist[2]\n",
    "    Hamiltonian = heisenbergH(nqubits, Hlist[2])\n",
    "    #Hamiltonian = np.sum(Hlist,axis=0)\n",
    "    \n",
    "    # Calculate the difference between the exact evolution and the Trotter-zed evolution.\n",
    "    diff = Exact_Expectation(Hamiltonian, initial_state, time, observable) - Trotterized_Expectation(Hlist, initial_state, time, x, observable, order = 1)\n",
    "    \n",
    "    return diff\n",
    "\n",
    "## Calculates the minimum number of steps required analyticity to be maintained (using the one-norm bound).\n",
    "def min_step_number(nqubits, hlist, time):\n",
    "    \n",
    "    one_norm = Heisenberg_one_norm(nqubits, hlist)\n",
    "    min_step_no = np.ceil(one_norm*time)\n",
    "    \n",
    "    return float(min_step_no)\n"
   ]
  },
  {
   "cell_type": "code",
   "execution_count": 58,
   "id": "656deb1c",
   "metadata": {},
   "outputs": [],
   "source": [
    "## Plot the difference function for different step values.\n",
    "nqubits = 6\n",
    "h = 1\n",
    "#time = 100000000\n",
    "\n",
    "T1 = 10**8\n",
    "T2 = 10**(2)\n",
    "T3 = 10**(-2)\n",
    "\n",
    "\n",
    "# Define the Hamiltonian and the groupings of its terms.\n",
    "hlist = (np.random.rand(nqubits)*2 -1)*h\n",
    "Hlist = [Even_Heisenberg_Terms(nqubits), Odd_Heisenberg_Terms(nqubits), Potential_Heisenberg_Terms(nqubits, hlist)]\n",
    "time = 1/Heisenberg_one_norm(nqubits, hlist)\n",
    "\n",
    "if sla.norm(heisenbergH(nqubits, hlist) - np.sum(Hlist,axis=0),2) > 0.0000001:\n",
    "    raise ValueError(\"Trotterised Hamiltonian is not equal to actual Hamiltonian\")\n",
    "\n",
    "\n",
    "local_obs = observable([{0: 'Z'},{nqubits-1: 'Z'}, {1: 'X'} ], nqubits)\n",
    "temp_list =[0]*nqubits\n",
    "temp_list[nqubits//2] = 1\n",
    "#temp_list[0] = 1\n",
    "#temp_list[1] = 1\n",
    "state = sparse_bitstring(temp_list, nqubits)\n",
    "\n",
    "#max_s_value = 1/min_step_number(nqubits, hlist, time)\n",
    "max_s_value = 1\n",
    "s_step_size = max_s_value/1000\n",
    "\n",
    "s_value_array = np.arange(s_step_size, max_s_value, s_step_size)\n",
    "output_list_1 = [difference_function(Hlist, state, T1, s, local_obs, nqubits, order = 1 ) for s in s_value_array]\n",
    "output_list_2 = [difference_function(Hlist, state, T2, s, local_obs, nqubits, order = 1 ) for s in s_value_array]\n",
    "output_list_3 = [difference_function(Hlist, state, T3, s, local_obs, nqubits, order = 1 ) for s in s_value_array]\n",
    "\n",
    "difference_list = np.array(output_list_1) - np.array(output_list_2)\n",
    "\n"
   ]
  },
  {
   "cell_type": "code",
   "execution_count": 61,
   "id": "a9b527c0",
   "metadata": {},
   "outputs": [
    {
     "name": "stdout",
     "output_type": "stream",
     "text": [
      "[0.001 0.002 0.003 0.004 0.005 0.006 0.007 0.008 0.009 0.01  0.011 0.012\n",
      " 0.013 0.014 0.015 0.016 0.017 0.018 0.019 0.02  0.021 0.022 0.023 0.024\n",
      " 0.025 0.026 0.027 0.028 0.029 0.03  0.031 0.032 0.033 0.034 0.035 0.036\n",
      " 0.037 0.038 0.039 0.04  0.041 0.042 0.043 0.044 0.045 0.046 0.047 0.048\n",
      " 0.049 0.05  0.051 0.052 0.053 0.054 0.055 0.056 0.057 0.058 0.059 0.06\n",
      " 0.061 0.062 0.063 0.064 0.065 0.066 0.067 0.068 0.069 0.07  0.071 0.072\n",
      " 0.073 0.074 0.075 0.076 0.077 0.078 0.079 0.08  0.081 0.082 0.083 0.084\n",
      " 0.085 0.086 0.087 0.088 0.089 0.09  0.091 0.092 0.093 0.094 0.095 0.096\n",
      " 0.097 0.098 0.099 0.1   0.101 0.102 0.103 0.104 0.105 0.106 0.107 0.108\n",
      " 0.109 0.11  0.111 0.112 0.113 0.114 0.115 0.116 0.117 0.118 0.119 0.12\n",
      " 0.121 0.122 0.123 0.124 0.125 0.126 0.127 0.128 0.129 0.13  0.131 0.132\n",
      " 0.133 0.134 0.135 0.136 0.137 0.138 0.139 0.14  0.141 0.142 0.143 0.144\n",
      " 0.145 0.146 0.147 0.148 0.149 0.15  0.151 0.152 0.153 0.154 0.155 0.156\n",
      " 0.157 0.158 0.159 0.16  0.161 0.162 0.163 0.164 0.165 0.166 0.167 0.168\n",
      " 0.169 0.17  0.171 0.172 0.173 0.174 0.175 0.176 0.177 0.178 0.179 0.18\n",
      " 0.181 0.182 0.183 0.184 0.185 0.186 0.187 0.188 0.189 0.19  0.191 0.192\n",
      " 0.193 0.194 0.195 0.196 0.197 0.198 0.199 0.2   0.201 0.202 0.203 0.204\n",
      " 0.205 0.206 0.207 0.208 0.209 0.21  0.211 0.212 0.213 0.214 0.215 0.216\n",
      " 0.217 0.218 0.219 0.22  0.221 0.222 0.223 0.224 0.225 0.226 0.227 0.228\n",
      " 0.229 0.23  0.231 0.232 0.233 0.234 0.235 0.236 0.237 0.238 0.239 0.24\n",
      " 0.241 0.242 0.243 0.244 0.245 0.246 0.247 0.248 0.249 0.25  0.251 0.252\n",
      " 0.253 0.254 0.255 0.256 0.257 0.258 0.259 0.26  0.261 0.262 0.263 0.264\n",
      " 0.265 0.266 0.267 0.268 0.269 0.27  0.271 0.272 0.273 0.274 0.275 0.276\n",
      " 0.277 0.278 0.279 0.28  0.281 0.282 0.283 0.284 0.285 0.286 0.287 0.288\n",
      " 0.289 0.29  0.291 0.292 0.293 0.294 0.295 0.296 0.297 0.298 0.299 0.3\n",
      " 0.301 0.302 0.303 0.304 0.305 0.306 0.307 0.308 0.309 0.31  0.311 0.312\n",
      " 0.313 0.314 0.315 0.316 0.317 0.318 0.319 0.32  0.321 0.322 0.323 0.324\n",
      " 0.325 0.326 0.327 0.328 0.329 0.33  0.331 0.332 0.333 0.334 0.335 0.336\n",
      " 0.337 0.338 0.339 0.34  0.341 0.342 0.343 0.344 0.345 0.346 0.347 0.348\n",
      " 0.349 0.35  0.351 0.352 0.353 0.354 0.355 0.356 0.357 0.358 0.359 0.36\n",
      " 0.361 0.362 0.363 0.364 0.365 0.366 0.367 0.368 0.369 0.37  0.371 0.372\n",
      " 0.373 0.374 0.375 0.376 0.377 0.378 0.379 0.38  0.381 0.382 0.383 0.384\n",
      " 0.385 0.386 0.387 0.388 0.389 0.39  0.391 0.392 0.393 0.394 0.395 0.396\n",
      " 0.397 0.398 0.399 0.4   0.401 0.402 0.403 0.404 0.405 0.406 0.407 0.408\n",
      " 0.409 0.41  0.411 0.412 0.413 0.414 0.415 0.416 0.417 0.418 0.419 0.42\n",
      " 0.421 0.422 0.423 0.424 0.425 0.426 0.427 0.428 0.429 0.43  0.431 0.432\n",
      " 0.433 0.434 0.435 0.436 0.437 0.438 0.439 0.44  0.441 0.442 0.443 0.444\n",
      " 0.445 0.446 0.447 0.448 0.449 0.45  0.451 0.452 0.453 0.454 0.455 0.456\n",
      " 0.457 0.458 0.459 0.46  0.461 0.462 0.463 0.464 0.465 0.466 0.467 0.468\n",
      " 0.469 0.47  0.471 0.472 0.473 0.474 0.475 0.476 0.477 0.478 0.479 0.48\n",
      " 0.481 0.482 0.483 0.484 0.485 0.486 0.487 0.488 0.489 0.49  0.491 0.492\n",
      " 0.493 0.494 0.495 0.496 0.497 0.498 0.499 0.5   0.501 0.502 0.503 0.504\n",
      " 0.505 0.506 0.507 0.508 0.509 0.51  0.511 0.512 0.513 0.514 0.515 0.516\n",
      " 0.517 0.518 0.519 0.52  0.521 0.522 0.523 0.524 0.525 0.526 0.527 0.528\n",
      " 0.529 0.53  0.531 0.532 0.533 0.534 0.535 0.536 0.537 0.538 0.539 0.54\n",
      " 0.541 0.542 0.543 0.544 0.545 0.546 0.547 0.548 0.549 0.55  0.551 0.552\n",
      " 0.553 0.554 0.555 0.556 0.557 0.558 0.559 0.56  0.561 0.562 0.563 0.564\n",
      " 0.565 0.566 0.567 0.568 0.569 0.57  0.571 0.572 0.573 0.574 0.575 0.576\n",
      " 0.577 0.578 0.579 0.58  0.581 0.582 0.583 0.584 0.585 0.586 0.587 0.588\n",
      " 0.589 0.59  0.591 0.592 0.593 0.594 0.595 0.596 0.597 0.598 0.599 0.6\n",
      " 0.601 0.602 0.603 0.604 0.605 0.606 0.607 0.608 0.609 0.61  0.611 0.612\n",
      " 0.613 0.614 0.615 0.616 0.617 0.618 0.619 0.62  0.621 0.622 0.623 0.624\n",
      " 0.625 0.626 0.627 0.628 0.629 0.63  0.631 0.632 0.633 0.634 0.635 0.636\n",
      " 0.637 0.638 0.639 0.64  0.641 0.642 0.643 0.644 0.645 0.646 0.647 0.648\n",
      " 0.649 0.65  0.651 0.652 0.653 0.654 0.655 0.656 0.657 0.658 0.659 0.66\n",
      " 0.661 0.662 0.663 0.664 0.665 0.666 0.667 0.668 0.669 0.67  0.671 0.672\n",
      " 0.673 0.674 0.675 0.676 0.677 0.678 0.679 0.68  0.681 0.682 0.683 0.684\n",
      " 0.685 0.686 0.687 0.688 0.689 0.69  0.691 0.692 0.693 0.694 0.695 0.696\n",
      " 0.697 0.698 0.699 0.7   0.701 0.702 0.703 0.704 0.705 0.706 0.707 0.708\n",
      " 0.709 0.71  0.711 0.712 0.713 0.714 0.715 0.716 0.717 0.718 0.719 0.72\n",
      " 0.721 0.722 0.723 0.724 0.725 0.726 0.727 0.728 0.729 0.73  0.731 0.732\n",
      " 0.733 0.734 0.735 0.736 0.737 0.738 0.739 0.74  0.741 0.742 0.743 0.744\n",
      " 0.745 0.746 0.747 0.748 0.749 0.75  0.751 0.752 0.753 0.754 0.755 0.756\n",
      " 0.757 0.758 0.759 0.76  0.761 0.762 0.763 0.764 0.765 0.766 0.767 0.768\n",
      " 0.769 0.77  0.771 0.772 0.773 0.774 0.775 0.776 0.777 0.778 0.779 0.78\n",
      " 0.781 0.782 0.783 0.784 0.785 0.786 0.787 0.788 0.789 0.79  0.791 0.792\n",
      " 0.793 0.794 0.795 0.796 0.797 0.798 0.799 0.8   0.801 0.802 0.803 0.804\n",
      " 0.805 0.806 0.807 0.808 0.809 0.81  0.811 0.812 0.813 0.814 0.815 0.816\n",
      " 0.817 0.818 0.819 0.82  0.821 0.822 0.823 0.824 0.825 0.826 0.827 0.828\n",
      " 0.829 0.83  0.831 0.832 0.833 0.834 0.835 0.836 0.837 0.838 0.839 0.84\n",
      " 0.841 0.842 0.843 0.844 0.845 0.846 0.847 0.848 0.849 0.85  0.851 0.852\n",
      " 0.853 0.854 0.855 0.856 0.857 0.858 0.859 0.86  0.861 0.862 0.863 0.864\n",
      " 0.865 0.866 0.867 0.868 0.869 0.87  0.871 0.872 0.873 0.874 0.875 0.876\n",
      " 0.877 0.878 0.879 0.88  0.881 0.882 0.883 0.884 0.885 0.886 0.887 0.888\n",
      " 0.889 0.89  0.891 0.892 0.893 0.894 0.895 0.896 0.897 0.898 0.899 0.9\n",
      " 0.901 0.902 0.903 0.904 0.905 0.906 0.907 0.908 0.909 0.91  0.911 0.912\n",
      " 0.913 0.914 0.915 0.916 0.917 0.918 0.919 0.92  0.921 0.922 0.923 0.924\n",
      " 0.925 0.926 0.927 0.928 0.929 0.93  0.931 0.932 0.933 0.934 0.935 0.936\n",
      " 0.937 0.938 0.939 0.94  0.941 0.942 0.943 0.944 0.945 0.946 0.947 0.948\n",
      " 0.949 0.95  0.951 0.952 0.953 0.954 0.955 0.956 0.957 0.958 0.959 0.96\n",
      " 0.961 0.962 0.963 0.964 0.965 0.966 0.967 0.968 0.969 0.97  0.971 0.972\n",
      " 0.973 0.974 0.975 0.976 0.977 0.978 0.979 0.98  0.981 0.982 0.983 0.984\n",
      " 0.985 0.986 0.987 0.988 0.989 0.99  0.991 0.992 0.993 0.994 0.995 0.996\n",
      " 0.997 0.998 0.999]\n"
     ]
    },
    {
     "data": {
      "image/png": "[encoded data removed]",
      "text/plain": [
       "<Figure size 640x480 with 1 Axes>"
      ]
     },
     "metadata": {},
     "output_type": "display_data"
    }
   ],
   "source": [
    "plt.plot(s_value_array, output_list_3)\n",
    "plt.xlabel('s = 1/Number of Steps')\n",
    "plt.ylabel('Observable Error')\n",
    "print(s_value_array)"
   ]
  },
  {
   "cell_type": "code",
   "execution_count": 54,
   "id": "9e02cefa",
   "metadata": {},
   "outputs": [
    {
     "name": "stdout",
     "output_type": "stream",
     "text": [
      "[ 9.17920948e-01  9.15377510e-01  8.46949462e-01  8.98698863e-01\n",
      "  8.74086584e-01  8.75809659e-01  3.36626807e-01  9.07119332e-01\n",
      "  4.92790246e-01 -4.85978493e-02  4.96308785e-01  7.10012633e-01\n",
      "  5.62940152e-01 -1.88882194e-02  2.84192133e-01 -9.84133662e-02\n",
      "  6.62127074e-01 -3.41260997e-02  2.86135387e-01  8.00592314e-01\n",
      "  6.24751775e-01  1.73895778e-01  2.10392301e-01  4.85070206e-01\n",
      "  1.32454384e-01  5.51087855e-01 -4.22288847e-01  9.92734481e-02\n",
      "  4.47191630e-01  6.03355118e-01  4.14971340e-01  6.54853512e-01\n",
      "  6.00301007e-01  2.15276265e-02  4.01789393e-01  9.45223863e-01\n",
      " -3.96945014e-01  7.94936061e-01  7.09117860e-01  7.75598303e-01\n",
      "  9.30129454e-01  8.71874139e-01  9.20876786e-01  9.18257850e-01\n",
      "  9.17997314e-01  9.21159390e-01  9.15869917e-01  6.43929834e-01\n",
      " -3.08825917e-01  5.19517485e-01  3.16552264e-01  3.10311021e-02\n",
      "  3.81471117e-01  5.95585636e-01  9.87509573e-01  3.54911009e-01\n",
      "  1.25536606e-01  3.01535348e-01  5.59786716e-01  3.14839480e-01\n",
      "  5.08710008e-01 -3.97772136e-01 -5.58585293e-01 -2.25842186e-01\n",
      "  3.61805273e-01  8.40762189e-01  8.82292113e-01  4.66810858e-01\n",
      "  6.51372971e-01 -1.79618169e-01 -1.16231964e-02  3.10354005e-01\n",
      " -2.93343903e-01  3.42637490e-01  4.89954716e-01  1.61859457e-02\n",
      "  2.52810842e-01 -2.90302378e-01  8.79359990e-01  7.35106427e-01\n",
      "  6.91963395e-01  8.07515030e-01  8.73193044e-01  8.38486512e-01\n",
      "  1.02525016e+00  9.26326319e-01  9.15171243e-01  9.18256829e-01\n",
      "  9.17334367e-01  8.74268673e-01  9.07815622e-01  9.18736504e-01\n",
      "  7.34630642e-01  7.60965550e-01  8.16982905e-01  1.09361603e+00\n",
      "  3.18947805e-01  2.76713756e-01  4.38008525e-01  1.79469142e-01\n",
      "  6.30481302e-01  3.55210070e-01  6.23482888e-01  2.61271776e-01\n",
      "  4.01782292e-02 -6.11975886e-02  3.96699751e-01  4.34847812e-01\n",
      "  7.41764654e-01  8.88381319e-01  7.88985592e-01  4.57935565e-01\n",
      "  4.48744007e-01  3.11015159e-01  6.20671826e-01  3.96021403e-01\n",
      " -2.71182045e-01  4.75499625e-01 -1.97091814e-01  2.50263700e-01\n",
      "  3.30993375e-01  4.58639183e-01  3.61104344e-01  2.53676681e-01\n",
      "  5.00133830e-01  9.05903223e-01  7.26968067e-01  7.86183191e-01\n",
      "  1.62115850e+00  9.18442267e-01  9.17916076e-01  9.18267419e-01\n",
      "  9.17819864e-01  9.16931394e-01  9.12879453e-01  6.55441861e-01\n",
      "  1.23784827e+00  3.43170507e-02  7.92007581e-02  1.76826605e-01\n",
      "  2.39090313e-01  9.31021966e-02  1.02212325e+00  1.32169726e-01\n",
      "  1.74686236e-02  4.66111494e-01  6.37452314e-02  9.30603853e-02\n",
      "  4.70616854e-01  1.66866163e-01 -1.47388896e-01 -1.59669478e-01\n",
      " -9.02287017e-02  5.03564281e-02  2.63373670e-01  5.64278415e-01\n",
      "  8.15302930e-01  5.45564395e-01  2.91273776e-01  7.27658785e-02\n",
      "  4.40662779e-01  6.01916376e-02  3.44719975e-01  1.90541769e-01\n",
      "  4.44953016e-01 -9.15441083e-03  4.49824880e-01  5.88220900e-01\n",
      "  1.58803962e-01  1.24653889e+00  7.42568393e-01  9.62084242e-01\n",
      "  9.29278160e-01  9.16525128e-01  9.18201059e-01  9.18247680e-01\n",
      "  8.74855552e-01  9.09147931e-01  7.80477084e-01  8.18762794e-01\n",
      "  1.13654292e+00  7.97897722e-01  5.08318775e-01  1.13515752e+00\n",
      "  6.88553229e-01  8.33845361e-02  6.30043598e-01  5.01116901e-01\n",
      "  2.86908721e-01  4.16047466e-01 -1.63470167e-02  2.26690101e-01\n",
      "  2.49848014e-01  6.70894164e-01  8.54001217e-01  8.93399834e-01\n",
      "  9.00316302e-01  9.10020677e-01  8.86723188e-01  8.47774786e-01\n",
      "  6.30461629e-01  6.75943787e-01  6.14169145e-01  5.19395231e-01\n",
      "  1.66147254e-01 -7.48420937e-02 -2.06358551e-01  3.24548178e-01\n",
      "  3.89228006e-01  4.37943226e-01  7.05815055e-01  5.77361011e-01\n",
      "  7.02047411e-01  9.56154458e-01  8.87057242e-01  2.39965323e-01\n",
      "  9.07680800e-01  9.13451330e-01  9.18235866e-01  9.18255292e-01\n",
      "  9.16703653e-01  1.05295003e+00  8.77269701e-01  8.57457502e-01\n",
      "  1.15805069e+00  2.80437419e-01  1.64336538e-01  7.88125672e-01\n",
      "  2.70936075e-01 -1.22040386e-01  4.79342159e-02  1.23918461e-01\n",
      "  9.12527210e-01 -2.09039536e-01  9.83976812e-02 -2.85969880e-01\n",
      " -5.63627131e-01 -6.05578834e-01 -7.35166674e-01 -8.44473377e-01\n",
      " -9.45015008e-01 -9.76441959e-01 -9.22365646e-01 -7.90109675e-01\n",
      " -3.95057156e-01 -4.51183939e-02  9.89553962e-02  3.54845882e-02\n",
      "  2.99469380e-01  2.32155751e-02  4.03533653e-01  8.07813171e-01\n",
      "  1.71440818e-01  3.93071895e-01  8.06993787e-01  4.29692594e-01\n",
      "  6.15561630e-01  1.33454628e+00  8.87873836e-01  8.95194434e-01\n",
      "  8.62641417e-01  9.15061851e-01  9.18267986e-01  9.18220634e-01\n",
      "  9.17037372e-01  9.19121057e-01  7.43540070e-01  9.45734973e-01\n",
      "  3.76909372e-01  9.00861294e-01  8.70112315e-01  6.06373873e-01\n",
      "  8.23961380e-01  7.07864926e-01  3.12273231e-01  2.54847841e-01\n",
      "  5.16735535e-01  2.88242350e-01  5.22569403e-02 -4.86241773e-02\n",
      "  4.00811124e-01  2.23228701e-01 -3.85518928e-02 -1.77240789e-02\n",
      "  3.01146069e-03  4.22829277e-02  1.34038678e-01  2.60236775e-01\n",
      "  2.58146742e-01  4.91341574e-01  1.04673197e-01  5.02534352e-01\n",
      " -5.43803527e-01  5.34159315e-01 -2.73942698e-02  5.69287455e-01\n",
      "  1.11706267e-02  6.98846166e-01  9.53128267e-01  6.22308096e-01\n",
      "  7.44249860e-01  9.89434984e-01  7.34080165e-01  6.53391306e-01\n",
      "  9.13301543e-01  9.09517788e-01  9.18279247e-01  9.18244707e-01\n",
      "  9.17502195e-01  9.22391003e-01  8.86888885e-01  6.25763350e-01\n",
      "  7.87451060e-01  7.21867813e-01  5.78501105e-01  6.16582063e-01\n",
      " -1.74211489e-01  3.80942583e-01 -1.84524544e-02  4.31380175e-01\n",
      "  1.35186213e-01 -4.11781849e-02  1.34852634e-01  6.99143328e-01\n",
      "  3.22432759e-01  5.34363117e-01  7.58886243e-01  8.57349372e-01\n",
      "  9.07523566e-01  9.08994624e-01  8.66131854e-01  8.00158668e-01\n",
      "  7.38030214e-01  6.80135291e-01  5.39868653e-01  4.94858181e-01\n",
      " -1.51944678e-01  2.32001951e-01  5.64704470e-01  9.13017914e-01\n",
      "  9.67837148e-02  2.69052567e-01  6.99533583e-01  5.01950881e-01\n",
      "  1.28683151e-01  7.14458239e-01  6.26082948e-01  1.01760652e+00\n",
      "  9.13330468e-01  9.18072550e-01  9.18306710e-01  9.18208895e-01\n",
      "  9.17330719e-01  8.86776428e-01  7.91017804e-01  8.96104567e-01\n",
      "  7.67583682e-01  7.69535918e-01  1.05675408e+00  7.46597713e-01\n",
      "  4.32521142e-01  3.12234980e-01  1.90285484e-01  2.82885925e-01\n",
      "  1.29804871e+00  4.48707664e-01  4.49391049e-01  5.90675225e-01\n",
      "  5.02431079e-01  5.54202900e-01  6.38879529e-01  7.13823000e-01\n",
      "  7.50977121e-01  7.44593264e-01  7.20108828e-01  5.78437113e-01\n",
      "  5.23468186e-01  2.17458152e-01  7.05710768e-01  2.82637772e-01\n",
      "  3.39293888e-01  2.94671267e-01  2.23798888e-01  1.01161276e+00\n",
      "  2.24906201e-01  6.26363630e-02  8.66980096e-01  5.78535608e-01\n",
      "  3.92273990e-01  1.01993215e+00  8.36901499e-01  9.10218645e-01\n",
      "  8.95291590e-01  9.17338177e-01  9.18254001e-01  9.18213581e-01\n",
      "  9.14372042e-01  9.03137130e-01  9.21646568e-01  8.84425086e-01\n",
      "  9.39167537e-01  3.44905603e-01  6.62861468e-01  3.18524012e-01\n",
      " -2.59213304e-01  7.51449428e-01 -2.14042198e-01  3.43886904e-01\n",
      "  7.76751654e-01  3.31534852e-01  6.79312335e-01  4.13620093e-01\n",
      "  5.13578786e-01  5.58809931e-01  6.65135334e-01  6.96918853e-01\n",
      "  7.16167821e-01  7.10974427e-01  6.91912084e-01  5.52082252e-01\n",
      "  4.66806733e-01  2.96798078e-01  3.84377764e-01  2.59527101e-01\n",
      "  2.05275334e-01  5.87262336e-01 -2.59085387e-02  7.32210939e-01\n",
      "  2.71835065e-01  1.17681997e-01  7.06108536e-01 -4.35173925e-02\n",
      "  9.27733491e-01  8.55706302e-01  8.80674859e-01  9.51404973e-01\n",
      "  9.08150443e-01  9.18086347e-01  9.18256469e-01  9.18129779e-01\n",
      "  9.16363509e-01  9.07918517e-01  8.58321913e-01  8.10354760e-01\n",
      "  7.15215207e-01  6.97944004e-01  1.22764078e+00 -2.83901104e-02\n",
      "  5.85437665e-01  7.69859913e-01  4.89276028e-02  3.43125941e-01\n",
      "  2.34014316e-01  1.08304592e-01  1.45631107e-01  1.77853087e-01\n",
      "  3.74962554e-01  4.70137759e-01  6.77780504e-01  7.92862807e-01\n",
      "  8.52578989e-01  8.40766666e-01  7.85775524e-01  6.37823728e-01\n",
      "  4.81151506e-01  4.72835825e-01  4.13309806e-01  2.66669238e-01\n",
      "  5.10533552e-01  1.57791742e-01 -9.00118969e-02  2.30396851e-03\n",
      " -7.15981859e-02  4.33685363e-01  7.27651099e-01  7.17958834e-01\n",
      "  1.09092225e+00  8.44287383e-01  8.65188163e-01  9.01233074e-01\n",
      "  9.10632069e-01  9.17436817e-01  9.18256939e-01  9.18247732e-01\n",
      "  9.16834848e-01  9.26785247e-01  8.91457389e-01  8.34238424e-01\n",
      "  8.68813184e-01  5.25602724e-01  4.90330251e-01  8.24165558e-02\n",
      "  8.16950159e-01  7.37691608e-01  1.35808587e-01  5.25507675e-01\n",
      "  2.30425141e-01  1.43375549e-01  4.93658511e-01  4.19786274e-01\n",
      "  7.05278658e-01  7.99540266e-01  8.66587042e-01  9.06723182e-01\n",
      "  9.16851620e-01  9.14441481e-01  9.08858501e-01  9.06504222e-01\n",
      "  8.96212398e-01  8.59121927e-01  7.86883153e-01  5.22570401e-01\n",
      "  4.69512858e-01  8.07760046e-02 -2.52066401e-01  7.38996989e-01\n",
      "  2.46075022e-01  5.44004708e-01  7.06317508e-01  5.09109921e-01\n",
      "  8.89748826e-01  5.15326096e-01  8.56797451e-01  9.12659910e-01\n",
      "  9.12841094e-01  9.18254261e-01  9.18258026e-01  9.18180145e-01\n",
      "  9.18109096e-01  9.02812270e-01  8.12018654e-01  9.10376956e-01\n",
      "  6.33386060e-01  6.24702094e-01  9.14463446e-01  6.68396047e-01\n",
      "  9.20197473e-01 -4.14993352e-02  3.34856500e-01  1.58790635e-01\n",
      "  1.09252895e-01  6.02691860e-01  7.29296577e-01  8.75234813e-01\n",
      "  7.26231425e-01  7.38693760e-01  7.79571855e-01  8.02303781e-01\n",
      "  8.08456714e-01  7.98800178e-01  7.23532347e-01  6.93902130e-01\n",
      "  3.93575512e-01  5.06298396e-01  1.88034736e-01  2.09256596e-01\n",
      "  4.05904305e-01 -1.07180724e-01  5.82486793e-01  6.73769497e-01\n",
      "  3.17693296e-01  8.41233458e-01  6.94569695e-01  8.71982994e-01\n",
      "  4.80142797e-01  7.51223927e-01  9.17744065e-01  8.83284729e-01\n",
      "  9.17059084e-01  9.18109481e-01  9.18257954e-01  9.18153841e-01\n",
      "  9.35725441e-01  9.11646762e-01  8.83293796e-01  9.09956235e-01\n",
      "  7.30712577e-01  8.57635448e-01  8.73690229e-01  7.81035245e-02\n",
      "  1.49227347e-01  4.80360497e-01 -2.17181868e-01  1.45144637e-02\n",
      " -1.57460252e-01  3.59856310e-01  2.50504530e-01  4.32147373e-01\n",
      "  1.07335413e-01  3.81954853e-01  3.54438707e-01  5.37246580e-01\n",
      "  5.61866304e-01  5.46051743e-01  4.47030892e-01  4.30026618e-01\n",
      " -3.68272638e-02  7.35934962e-02 -2.34843673e-01  3.56200627e-01\n",
      "  3.08300432e-01  4.59378894e-01  2.23901025e-01  6.27288697e-01\n",
      "  1.96293502e-01  8.07698389e-01  4.63306992e-01  3.53287579e-01\n",
      "  4.11802283e-01  8.63424719e-01  8.81080899e-01  9.17453444e-01\n",
      "  9.17110781e-01  9.18206690e-01  9.18257973e-01  8.74381143e-01\n",
      "  9.19038937e-01  9.05252598e-01  8.83598260e-01  9.13743985e-01\n",
      "  7.43145747e-01  1.02741488e+00  7.74407012e-01  5.24240582e-01\n",
      "  7.78378681e-01  3.26611294e-01  1.57494130e-01  6.54549961e-01\n",
      "  1.26733093e-02  1.45469171e-01  3.06544337e-01  2.86722542e-01\n",
      "  1.07752445e-01  2.25258087e-01  1.36265471e-01  2.48984690e-01\n",
      "  2.47930322e-01  2.46977782e-01  3.17152146e-01  2.63397427e-01\n",
      "  7.53286781e-02  1.47392624e-01 -1.71580085e-01  2.61467684e-01\n",
      "  4.98957222e-01  5.88021596e-01  5.74399576e-01 -1.94355883e-02\n",
      "  2.07057188e-01  4.89271206e-01  2.31855592e-01  1.00560024e+00\n",
      "  8.89111407e-01  9.19362271e-01  9.06140829e-01  9.15200357e-01\n",
      "  9.16265316e-01  9.18115693e-01  9.18257984e-01  9.18082414e-01\n",
      "  9.18670052e-01  9.10759540e-01  9.06379188e-01  8.72301758e-01\n",
      "  8.66391143e-01  8.32242620e-01  6.41006846e-01  4.54960763e-01\n",
      "  3.38190515e-01  3.75001663e-01  4.18429308e-01  7.26398160e-01\n",
      "  4.45878802e-01  2.00598522e-02  1.84751564e-01 -7.47450164e-02\n",
      "  1.32641171e-01  2.73794246e-03 -1.42583264e-02 -5.43408486e-02\n",
      " -7.31898749e-02 -7.11116392e-02 -1.46312310e-01 -1.41261445e-02\n",
      " -1.01030213e-01 -3.22404365e-02 -1.36476414e-02  2.74178102e-01\n",
      "  4.19827596e-01  7.31179996e-02  3.13451235e-01  5.21112999e-01\n",
      "  5.52635502e-01  5.26996108e-01  7.38824869e-01  6.79859608e-01\n",
      "  8.28254586e-01  8.51258142e-01  8.93238092e-01  9.15507452e-01\n",
      "  9.16595553e-01  9.18258256e-01  9.18257992e-01  9.18183494e-01\n",
      "  9.18117425e-01  9.00191899e-01  8.90527857e-01  8.84278162e-01\n",
      "  4.98492037e-01  6.09605334e-01  8.08444124e-01  6.85533585e-01\n",
      "  8.43550710e-01  1.48483482e-01  1.19156866e-01  9.03633494e-02\n",
      "  6.68756340e-01  2.39163186e-01 -1.70086650e-01 -4.90638020e-01\n",
      " -2.95467718e-01 -2.73005773e-01 -2.76629690e-01 -3.43324683e-01\n",
      " -3.63054493e-01 -3.63430555e-01 -4.81723322e-01 -3.28073339e-01\n",
      " -4.37622160e-01  2.28514991e-01 -1.12890652e-01 -4.10108742e-01\n",
      " -1.56964147e-01 -3.44386970e-02  2.31748569e-01  1.18960260e-01\n",
      "  5.42733117e-01  9.63615684e-01  8.41543559e-01  7.35558937e-01\n",
      "  8.34439519e-01  8.70605798e-01  8.97421617e-01  9.09115813e-01\n",
      "  9.17224286e-01  9.18270341e-01  9.18257962e-01  9.18116339e-01\n",
      "  9.15782130e-01  9.04816443e-01  9.19714028e-01  8.39165285e-01\n",
      "  8.23380017e-01  8.96805373e-01  8.96969838e-01  5.51331278e-01\n",
      "  3.78684962e-01  2.29515536e-01  4.79485902e-01  1.79778931e-01\n",
      "  4.10318047e-01 -2.93251032e-01 -8.72170105e-02 -5.36451090e-01\n",
      " -5.02389527e-01 -5.21558225e-01 -5.44823551e-01 -5.82808545e-01\n",
      " -6.03042290e-01 -5.94174856e-01 -6.50408801e-01 -5.71516279e-01\n",
      " -3.82109639e-01 -1.65219592e-01 -9.45029214e-02 -4.01059380e-02\n",
      " -1.19510789e-01 -7.67587539e-03  1.72003888e-01  5.14586937e-01\n",
      "  6.02644719e-01  6.25397516e-01  7.38830352e-01  7.65779489e-01\n",
      "  8.63588375e-01  8.59481980e-01  9.01309649e-01  9.16356281e-01\n",
      "  9.16684870e-01  9.18246078e-01  9.18257676e-01  9.18110640e-01\n",
      "  9.16565253e-01  9.07362144e-01  8.89625660e-01  8.41768380e-01\n",
      "  8.06298904e-01  8.03063403e-01  6.24050254e-01  6.82155864e-01\n",
      "  7.01780617e-01  4.43776031e-01  4.41632582e-01  1.97085748e-01\n",
      "  3.60175303e-02 -2.06509805e-01 -1.95535326e-01 -5.56903734e-01\n",
      " -4.88877444e-01 -6.90275661e-01 -7.31348508e-01 -7.76122859e-01\n",
      " -7.88608772e-01 -7.54609211e-01 -7.62828434e-01 -6.26866801e-01\n",
      " -4.75328547e-01 -2.75255105e-01 -1.09316745e-01  1.03870156e-01\n",
      " -9.02374789e-05  1.26040567e-01  3.57514413e-01  3.95381767e-01\n",
      "  5.73558217e-01  6.54114021e-01  6.63232769e-01  8.14395140e-01\n",
      "  8.51225296e-01  8.90755948e-01  9.16173131e-01  9.14150740e-01\n",
      "  9.17782032e-01  9.18240720e-01  9.18256699e-01  9.18008473e-01\n",
      "  9.15799359e-01  9.13408616e-01  9.07344130e-01  8.93311838e-01\n",
      "  8.18954641e-01  7.85753925e-01  6.55340829e-01  6.15065958e-01\n",
      "  4.01262168e-01  4.65193466e-01  3.60765652e-01  1.39673956e-01\n",
      " -2.47048681e-01 -4.02188452e-01 -4.06706603e-01 -5.15162754e-01\n",
      " -5.82823218e-01 -7.75256070e-01 -8.66501037e-01 -9.17091991e-01\n",
      " -9.22069937e-01 -8.92625561e-01 -8.45654575e-01 -6.71958740e-01\n",
      " -6.76246461e-01 -4.35838953e-01 -4.38932049e-01 -1.85933219e-01\n",
      "  2.77530433e-02  2.85813029e-01  3.73214293e-01  5.87254518e-01\n",
      "  4.83547405e-01  7.61052943e-01  7.67676821e-01  8.27686470e-01\n",
      "  8.63583158e-01  8.98566294e-01  9.11164296e-01  9.14757310e-01\n",
      "  9.17651692e-01  9.18248547e-01  9.18256370e-01  9.18024353e-01\n",
      "  9.15505589e-01  9.11745343e-01  9.05182275e-01  8.72072958e-01\n",
      "  7.89362353e-01  7.63338756e-01  6.38490823e-01  5.95518875e-01\n",
      "  4.03124781e-01  4.31115008e-01  2.15566534e-01  1.40714408e-02\n",
      " -2.22501750e-01 -4.30814648e-01 -5.34152285e-01 -6.57484736e-01\n",
      " -7.32400790e-01 -8.54068913e-01 -9.60935880e-01 -1.00538716e+00\n",
      " -1.00963106e+00 -9.79012327e-01 -8.95160108e-01 -7.44462598e-01\n",
      " -6.11093778e-01 -4.66852432e-01 -5.06843067e-01 -1.67841542e-01\n",
      " -8.95204359e-02  3.14596249e-01  3.37715453e-01  6.27437786e-01\n",
      "  6.05006345e-01  6.89460243e-01  7.44157710e-01  8.46640848e-01\n",
      "  8.82299663e-01  9.00029942e-01  9.08068045e-01  9.15731232e-01\n",
      "  9.18070214e-01  9.18252506e-01  9.18255245e-01  9.18013754e-01\n",
      "  9.15861592e-01  9.10105833e-01  8.95961168e-01  8.71010629e-01\n",
      "  8.31341958e-01  7.80391122e-01  6.71762563e-01  6.13132582e-01\n",
      "  5.47679550e-01  3.74002514e-01  1.55741137e-01 -3.34059074e-02\n",
      " -1.41954148e-01 -3.77940816e-01 -5.07559915e-01 -7.14576390e-01\n",
      " -8.02404923e-01 -9.46486257e-01 -1.01371936e+00 -1.05625028e+00\n",
      " -1.05767859e+00 -1.01710147e+00 -9.51982996e-01 -8.07002193e-01\n",
      " -6.75992932e-01 -4.99787190e-01 -3.92801134e-01 -2.32261537e-01\n",
      " -2.44119455e-02  2.25667749e-01  4.52905631e-01  5.05625238e-01\n",
      "  6.26510066e-01  7.18411578e-01  7.69064131e-01  8.34985711e-01\n",
      "  8.72873758e-01  9.04292633e-01  9.12385427e-01  9.16063051e-01\n",
      "  9.17984935e-01  9.18255369e-01  9.18254826e-01  9.17984804e-01\n",
      "  9.16291652e-01  9.09708994e-01  8.96983970e-01  8.72032908e-01\n",
      "  8.31056093e-01  7.74780923e-01  7.19533555e-01  6.09135816e-01\n",
      "  4.75736559e-01  3.21952837e-01  1.70357110e-01 -1.51177553e-02\n",
      " -1.88504620e-01 -3.59657683e-01 -5.39756470e-01 -7.03099526e-01\n",
      " -8.54126427e-01 -9.67816140e-01 -1.03914146e+00 -1.07707155e+00\n",
      " -1.07452633e+00 -1.03086944e+00 -9.51946438e-01 -8.33251963e-01\n",
      " -6.96301880e-01 -5.25151846e-01 -3.49326417e-01 -1.61735031e-01\n",
      "  2.29134847e-02  1.94834236e-01  3.57201387e-01]\n"
     ]
    }
   ],
   "source": [
    "print(difference_list)"
   ]
  },
  {
   "cell_type": "code",
   "execution_count": 22,
   "id": "d64ada4f",
   "metadata": {},
   "outputs": [
    {
     "data": {
      "text/plain": [
       "[<matplotlib.lines.Line2D at 0x2adac3cfcd0>]"
      ]
     },
     "execution_count": 22,
     "metadata": {},
     "output_type": "execute_result"
    },
    {
     "data": {
      "image/png": "[encoded data removed]",
      "text/plain": [
       "<Figure size 640x480 with 1 Axes>"
      ]
     },
     "metadata": {},
     "output_type": "display_data"
    }
   ],
   "source": [
    "\n",
    "plt.semilogy(s_value_array, output_list)"
   ]
  },
  {
   "cell_type": "code",
   "execution_count": null,
   "id": "90648ae7",
   "metadata": {},
   "outputs": [],
   "source": [
    "# Parameters\n",
    "nqubits = 4\n",
    "h = 0\n",
    "steps = 1000\n",
    "T = 8\n",
    "\n",
    "# Generate a list of random coefficients.\n",
    "hlist = (np.random.rand(nqubits)*2 -1)*h\n",
    "\n",
    "# Trotter pieces: group the odd and even Hamiltonian terms.\n",
    "\n",
    "Even = sigma_dot_sigma(0, 1, nqubits)\n",
    "for j in range(2,nqubits,2):\n",
    "    Even += sigma_dot_sigma(j, (j+1)%nqubits, nqubits)\n",
    "\n",
    "Odd = sigma_dot_sigma(1, 2%nqubits, nqubits)\n",
    "for j in range(3,nqubits,2):\n",
    "    Odd += sigma_dot_sigma(j, (j+1)%nqubits, nqubits)\n",
    "    \n",
    "Potential = np.sum([hlist[j]*sparse_pauli({j:'Z'}, nqubits) for j in range(nqubits)], axis = 0)\n",
    "\n",
    "Hlist = [Even, Odd, Potential]\n",
    "\n",
    "Even_terms = Even\n",
    "Odd_terms = Odd\n",
    "\n",
    "\n",
    "A = Uexact(heisenbergH(nqubits, hlist), T)\n",
    "B = Utrot_long(Hlist, T, steps)"
   ]
  },
  {
   "cell_type": "markdown",
   "id": "6a8f7a47",
   "metadata": {},
   "source": [
    "# Checking"
   ]
  },
  {
   "cell_type": "code",
   "execution_count": 10,
   "id": "c880258e",
   "metadata": {
    "tags": []
   },
   "outputs": [
    {
     "data": {
      "text/plain": [
       "Text(0, 0.5, 'Observable Error')"
      ]
     },
     "execution_count": 10,
     "metadata": {},
     "output_type": "execute_result"
    },
    {
     "data": {
      "image/png": "[encoded data removed]",
      "text/plain": [
       "<Figure size 640x480 with 1 Axes>"
      ]
     },
     "metadata": {},
     "output_type": "display_data"
    }
   ],
   "source": [
    "## Checking time evolution on n-qubits does decrease as the step number increases.\n",
    "# Define initial parameters.\n",
    "time = 10\n",
    "local_obs = observable([{0: 'Z'},{nqubits-1: 'X'}, {1: 'X'} ], nqubits)\n",
    "state = sparse_bitstring(list(np.arange(nqubits)), nqubits)\n",
    "\n",
    "# Exact Evolution\n",
    "Hamiltonian = heisenbergH(nqubits, hlist)\n",
    "C_mat =  Uexact(Hamiltonian, time)\n",
    "\n",
    "# Inexact Evolution\n",
    "steps = min_step_number(nqubits, hlist, time)\n",
    "D_mat = Utrot_long(Hlist, time, steps )\n",
    "\n",
    "\n",
    "min_no_steps = min_step_number(nqubits, hlist, time)\n",
    "max_s_value = 1/min_step_number(nqubits, hlist, time)\n",
    "\n",
    "s_step_size = max_s_value/1000\n",
    "\n",
    "\n",
    "s_value_array = np.arange(s_step_size, max_s_value, s_step_size)\n",
    "step_value_array = [1/s for s in s_value_array]\n",
    "D_array = [ Utrot_long(Hlist, time, step ) for step in step_value_array]\n",
    "\n",
    "# Difference in norms of evolution operators\n",
    "norm_diff_array = [sla.norm(C_mat-D,2) for D in D_array]\n",
    "\n",
    "# Now calculate the difference between the exact and Trotterized expectation values.\n",
    "exact_expectation = Exact_Expectation(Hamiltonian, state, time, local_obs)\n",
    "observable_diff_array = [ exact_expectation - Trotterized_Expectation(Hlist, state, time, 1/x, local_obs, order = 1) for x in step_value_array]\n",
    "\n",
    "# Plot the norm of the difference between the norms of exact and Trotterised evolution\n",
    "#plt.plot(step_value_array, norm_diff_array )\n",
    "\n",
    "# Plot the difference between the local observables of exact vs Trotterised.\n",
    "plt.plot(step_value_array, observable_diff_array )\n",
    "plt.xlabel('Number of Steps')\n",
    "plt.ylabel('Observable Error')\n"
   ]
  },
  {
   "cell_type": "code",
   "execution_count": null,
   "id": "247d28a4",
   "metadata": {},
   "outputs": [],
   "source": []
  },
  {
   "cell_type": "code",
   "execution_count": 203,
   "id": "63e970b4-e5cb-47bb-a511-9785147cfa1f",
   "metadata": {
    "tags": []
   },
   "outputs": [
    {
     "data": {
      "text/plain": [
       "0.015775987754208232"
      ]
     },
     "execution_count": 203,
     "metadata": {},
     "output_type": "execute_result"
    }
   ],
   "source": [
    "# Unitaries don't line up. Hamiltonians seem to match.\n",
    "sla.norm(A-B,2)"
   ]
  },
  {
   "cell_type": "code",
   "execution_count": 280,
   "id": "041f9663-feae-4e09-981b-270471873bc5",
   "metadata": {
    "tags": []
   },
   "outputs": [
    {
     "data": {
      "text/plain": [
       "2.220446049250313e-16"
      ]
     },
     "execution_count": 280,
     "metadata": {},
     "output_type": "execute_result"
    }
   ],
   "source": [
    "# Hamiltonians line  up\n",
    "sla.norm(heisenbergH(nqubits, hlist) - np.sum(Hlist,axis=0),2)"
   ]
  },
  {
   "cell_type": "code",
   "execution_count": 299,
   "id": "b467fa85-91ea-4e76-b798-4115118adb8f",
   "metadata": {
    "tags": []
   },
   "outputs": [
    {
     "data": {
      "text/plain": [
       "-1.9999999999998852"
      ]
     },
     "execution_count": 299,
     "metadata": {},
     "output_type": "execute_result"
    }
   ],
   "source": [
    "Trotterized_Expectation(Hlist, state, 100, max_s_value, local_obs, order = 1)"
   ]
  },
  {
   "cell_type": "code",
   "execution_count": 81,
   "id": "ab85f56c-6766-444f-9bfd-8b4c3536797c",
   "metadata": {
    "tags": []
   },
   "outputs": [
    {
     "name": "stdout",
     "output_type": "stream",
     "text": [
      "0\n",
      "2\n",
      "4\n"
     ]
    }
   ],
   "source": [
    "for j in range(0,6,2):\n",
    "    print(j)"
   ]
  },
  {
   "cell_type": "code",
   "execution_count": 8,
   "id": "58de516d-670c-48a6-a860-b2b91ee2fdeb",
   "metadata": {},
   "outputs": [
    {
     "data": {
      "text/plain": [
       "[array([[0.+0.j, 1.+0.j],\n",
       "        [1.+0.j, 0.+0.j]]),\n",
       " array([[ 0.+0.j, -0.-1.j],\n",
       "        [ 0.+1.j,  0.+0.j]]),\n",
       " array([[ 1.+0.j,  0.+0.j],\n",
       "        [ 0.+0.j, -1.+0.j]])]"
      ]
     },
     "execution_count": 8,
     "metadata": {},
     "output_type": "execute_result"
    }
   ],
   "source": [
    "paulistring_to_list(\"XYZ\")"
   ]
  },
  {
   "cell_type": "code",
   "execution_count": 35,
   "id": "231f13ae",
   "metadata": {},
   "outputs": [
    {
     "name": "stdout",
     "output_type": "stream",
     "text": [
      "<class 'dict'>\n"
     ]
    }
   ],
   "source": [
    "List_Pauli =[{0: X, 3:Z, 5:X}, {1: X}]\n",
    "print( type(List_Pauli[0]))"
   ]
  },
  {
   "cell_type": "code",
   "execution_count": 43,
   "id": "77f5ba10",
   "metadata": {},
   "outputs": [
    {
     "data": {
      "text/plain": [
       "0.0"
      ]
     },
     "execution_count": 43,
     "metadata": {},
     "output_type": "execute_result"
    }
   ],
   "source": [
    "sla.norm(observable([{0: 'X', 3:'Z', 5:'X'}, {1: 'X'}], 6) - sparse_pauli( {0: 'X', 3:'Z', 5:'X'}, 6 ) - sparse_pauli( {1: 'X'}, 6 ),2)\n",
    "\n",
    "#sparse_pauli( {0: 'X', 3:'Z', 5:'X'}, 6 )"
   ]
  },
  {
   "cell_type": "code",
   "execution_count": 96,
   "id": "25650fd9",
   "metadata": {},
   "outputs": [
    {
     "name": "stdout",
     "output_type": "stream",
     "text": [
      "[[ 1.+0.j  1.+0.j  0.+0.j  0.+0.j]\n",
      " [ 1.+0.j  1.+0.j  0.+0.j  0.+0.j]\n",
      " [ 0.+0.j  0.+0.j -1.+0.j  1.+0.j]\n",
      " [ 0.+0.j  0.+0.j  1.+0.j -1.+0.j]]\n",
      "[0.+0.j 0.+0.j 0.+0.j 1.+0.j]\n",
      "(-1+0j)\n"
     ]
    }
   ],
   "source": [
    "local_obs = observable([{0: 'Z'},{1: 'X'} ], 2)\n",
    "state = sparse_bitstring([0,1], 2)\n",
    "print(local_obs)\n",
    "print(state)\n",
    "print(expectation_value(state, local_obs))"
   ]
  },
  {
   "cell_type": "code",
   "execution_count": 117,
   "id": "40d1b7cb",
   "metadata": {},
   "outputs": [
    {
     "data": {
      "text/plain": [
       "(-1.0000000000012996+0j)"
      ]
     },
     "execution_count": 117,
     "metadata": {},
     "output_type": "execute_result"
    }
   ],
   "source": [
    "Trotterized_Expectation(Hlist, state, 10, 0.0001, local_obs, order = 1)"
   ]
  },
  {
   "cell_type": "code",
   "execution_count": 116,
   "id": "1e6525c4",
   "metadata": {},
   "outputs": [
    {
     "data": {
      "text/plain": [
       "(-1.0000000000000009+0j)"
      ]
     },
     "execution_count": 116,
     "metadata": {},
     "output_type": "execute_result"
    }
   ],
   "source": [
    "Exact_Expectation(heisenbergH(2, hlist), state, 10, local_obs)"
   ]
  },
  {
   "cell_type": "code",
   "execution_count": 130,
   "id": "2fedb0aa",
   "metadata": {},
   "outputs": [
    {
     "data": {
      "text/plain": [
       "(3.164135620181696e-14+0j)"
      ]
     },
     "execution_count": 130,
     "metadata": {},
     "output_type": "execute_result"
    }
   ],
   "source": [
    "difference_function(Hlist, state, 100, 0.1, local_obs, 2, order = 1 )"
   ]
  },
  {
   "cell_type": "code",
   "execution_count": 235,
   "id": "f4ef2a5f",
   "metadata": {},
   "outputs": [
    {
     "data": {
      "text/plain": [
       "0.0"
      ]
     },
     "execution_count": 235,
     "metadata": {},
     "output_type": "execute_result"
    }
   ],
   "source": [
    "# Hamiltonians line  up\n",
    "Potential = np.sum([hlist[j]*sparse_pauli({j:'Z'}, nqubits) for j in range(nqubits)], axis = 0)\n",
    "sla.norm( Potential - (Hlist[2]),2)"
   ]
  },
  {
   "cell_type": "code",
   "execution_count": null,
   "id": "fdb2ccef",
   "metadata": {},
   "outputs": [],
   "source": []
  }
 ],
 "metadata": {
  "kernelspec": {
   "display_name": "Python 3 (ipykernel)",
   "language": "python",
   "name": "python3"
  },
  "language_info": {
   "codemirror_mode": {
    "name": "ipython",
    "version": 3
   },
   "file_extension": ".py",
   "mimetype": "text/x-python",
   "name": "python",
   "nbconvert_exporter": "python",
   "pygments_lexer": "ipython3",
   "version": "3.9.13"
  }
 },
 "nbformat": 4,
 "nbformat_minor": 5
}
