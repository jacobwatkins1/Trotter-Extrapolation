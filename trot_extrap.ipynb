{
 "cells": [
  {
   "cell_type": "markdown",
   "id": "b5c007c9-ef1d-48e0-a9a2-27ff9c95ff37",
   "metadata": {},
   "source": [
    "# Trotter Extrapolation\n",
    "\n",
    "## James D. Watson, Jacob Watkins\n",
    "## August 2023"
   ]
  },
  {
   "cell_type": "markdown",
   "id": "70f8d735-16c2-4ee0-860c-ad2bccde0d24",
   "metadata": {},
   "source": [
    "### TODO:\n",
    "\n",
    "- Generalize Trotter code to any order formula (currently first and second order)\n",
    "- Conduct systematic computations of error and complexity"
   ]
  },
  {
   "cell_type": "markdown",
   "id": "06cf71a0-6a31-4865-a0db-a916f87f6d40",
   "metadata": {},
   "source": [
    "## Theory"
   ]
  },
  {
   "cell_type": "markdown",
   "id": "0b45fdaf-3f74-4887-bdc9-8860d1c538a2",
   "metadata": {},
   "source": [
    "From Equation (1) of [this text](https://arxiv.org/abs/1711.10980), we want to simulate the 1D Heisenberg model.\n",
    "\n",
    "$$\n",
    "H = \\sum_{i=1}^n \\sigma_i \\cdot \\sigma_{i+1} + h_j \\sigma_j^z\n",
    "$$\n",
    "\n",
    "with $h_j \\in [-h,h]$ randomly and uniformly sampled. Suppose we wish to simulate $e^{-i H T}$ on a quantum computer using product formulas. A natural choice is to split according to even-odd staggering of the interaction term, and then do the $Z$ rotations in their own grouping. If $n$ is odd, there will be one term left over. I don't think we should fret, probably just choose even $n$ for simplicity since we are only exploring our method. "
   ]
  },
  {
   "cell_type": "code",
   "execution_count": 1,
   "id": "a44fc2f7-ab7d-44eb-b0b1-fbdf442207f1",
   "metadata": {
    "tags": []
   },
   "outputs": [],
   "source": [
    "# Imports\n",
    "\n",
    "import numpy as np\n",
    "import scipy.interpolate as interp\n",
    "import scipy.linalg as sla\n",
    "import numpy.linalg as nla\n",
    "import matplotlib.pyplot as plt"
   ]
  },
  {
   "cell_type": "markdown",
   "id": "be8104a6-55ec-4a94-8e77-2239c7588c08",
   "metadata": {
    "tags": []
   },
   "source": [
    "## Useful Pauli and qubit manipulations"
   ]
  },
  {
   "cell_type": "code",
   "execution_count": 4,
   "id": "6e00eefe-fab1-4b46-8b9a-e250629167fa",
   "metadata": {
    "tags": []
   },
   "outputs": [],
   "source": [
    "# Computes Kronecker (tensor) product of a list of matrices\n",
    "# Example:\n",
    "# Input: [X,Y,Z,Y]\n",
    "# Return: X \\ox Y \\ox Z \\ox Y\n",
    "def kron_list(matrix_list):\n",
    "    result = matrix_list[0]\n",
    "    for i in range(1,len(matrix_list)):\n",
    "        result = np.kron(result,matrix_list[i])\n",
    "        \n",
    "    return result\n",
    "\n",
    "# Pauli matrices\n",
    "I = np.array([[1.,0],[0,1.]], dtype='complex')\n",
    "X = np.array([[0,1.],[1.,0]], dtype='complex')\n",
    "Y = np.array([[0,-1.j],[1.j,0]], dtype='complex')\n",
    "Z = np.array([[1.,0],[0,-1.]], dtype='complex')\n",
    "\n",
    "# Converts string representation of paulis to list of matrices,\n",
    "# Example:\n",
    "# Input: \"XYZY\"\n",
    "# Return: [X,Y,Z,Y]\n",
    "def paulistring_to_list(paulistring): \n",
    "    matrix_list = list(paulistring)\n",
    "    translate = {'I':I, 'X':X, 'Y':Y, 'Z':Z}\n",
    "    for p in range(len(paulistring)):\n",
    "        matrix_list[p] = translate[matrix_list[p]]\n",
    "    return matrix_list\n",
    "\n",
    "# Computes generalized pauli matrix, given a string in standard form,\n",
    "# Example:\n",
    "# Input: \"XYZY\"\n",
    "# Return: X \\ox Y \\ox Z \\ox Y\n",
    "def pauli_matrix(paulistring):\n",
    "    return kron_list(paulistring_to_list(paulistring))\n",
    "\n",
    "# Computes generalized pauli matrix, specified by non-identity pieces. Nonidentities encoded as dictionary\n",
    "# of the form {k:'P', ..., } where k is the integer location and P is a pauli\n",
    "# Example:\n",
    "# Input: {0: 'X', 3:'Z', 5:'X'}, 6\n",
    "# Return: X\\ox I \\ox  Z \\ox I \\ox I \\ox X\n",
    "def sparse_pauli(nonidentities, nqubits):\n",
    "    #starting string is all identity\n",
    "    paulilist = []\n",
    "    for i in range(0, nqubits):\n",
    "        paulilist.append('I')\n",
    "    \n",
    "    #Change string to paulis specified by dictionary\n",
    "    for key in nonidentities:\n",
    "        paulilist[key] = nonidentities[key]\n",
    "    paulistring = ''.join(paulilist)\n",
    "    \n",
    "    return pauli_matrix(paulistring) \n",
    "\n",
    "# Returns the matrix of \\sigma . \\sigma between sites i and j\n",
    "# Example:\n",
    "# Input: 0,1,4\n",
    "# Return: X\\ox X \\ox I \\ox I + Y\\ox Y \\ox I \\ox I + Z\\ox Z \\ox I \\ox I\n",
    "def sigma_dot_sigma(i,j,nqubits):\n",
    "    return sparse_pauli({i:'X',j:'X'},nqubits) + sparse_pauli({i:'Y',j:'Y'},nqubits) + sparse_pauli({i:'Z',j:'Z'},nqubits)\n",
    "\n",
    "# Qubit computational basis\n",
    "zero = np.array([1.,0], dtype ='complex')\n",
    "one = np.array([0,1.], dtype ='complex')\n",
    "\n",
    "# Converts a bitstring to list of single-qubit kets\n",
    "# Example: \n",
    "# Input: \"0101\"\n",
    "# Output: list( (1,0), (0,1), (1,0), (0,1) )\n",
    "def bitstring_to_list(bitstring):\n",
    "    bitlist = list(bitstring)\n",
    "    translate = {'0':zero, '1':one}\n",
    "    for b in range(len(bitstring)):\n",
    "        bitlist[b] = translate[bitlist[b]]\n",
    "    return bitlist\n",
    "\n",
    "# Converts a bitstring to full vector/array describing each qubit.\n",
    "# Example: \n",
    "# Input: \"0101\"\n",
    "# Output:  (1,0) \\ox (0,1) \\ox (1,0) \\ox (0,1) \n",
    "def basis_ket(bitstring):\n",
    "    return kron_list(bitstring_to_list(bitstring))\n",
    "\n",
    "\n",
    "# Outputs a bit string with certain positions set to 1, and otherwise set to zero.\n",
    "# Example: \n",
    "# Input: [0,1,2],3\n",
    "# Output:  (0,0,0,0,0,0,0,0,1)\n",
    "def sparse_bitstring(ones, nqubits):\n",
    "    bitlist = ['0']*nqubits\n",
    "    \n",
    "    #Flip certain bits to one, as specified by list of qubit indices\n",
    "    for qubit in ones:\n",
    "        bitlist[qubit] = '1'\n",
    "    \n",
    "    # Convert list to bitstring\n",
    "    bitstring = ''.join(bitlist)\n",
    "    \n",
    "    return basis_ket(bitstring)"
   ]
  },
  {
   "cell_type": "markdown",
   "id": "b75a9bf3-a7c4-4e27-aad1-f30d652b607b",
   "metadata": {
    "tags": []
   },
   "source": [
    "## Simulation functions"
   ]
  },
  {
   "cell_type": "code",
   "execution_count": 5,
   "id": "e715826b-5467-4cb2-b571-b0cacfda74af",
   "metadata": {
    "tags": []
   },
   "outputs": [],
   "source": [
    "# Given: a positive integer, nqubits, and a list of n floats, hlist\n",
    "# Generates the 1D Heisenberg chain Hamiltonian specified in the introduction.\n",
    "def heisenbergH(nqubits, hlist):\n",
    "    H = sigma_dot_sigma(0,1,nqubits) + hlist[0]*sparse_pauli({0:'Z'}, nqubits)\n",
    "    for j in range(1, nqubits):\n",
    "        H += sigma_dot_sigma(j, (j+1)%nqubits, nqubits) + hlist[j]*sparse_pauli({j:'Z'}, nqubits)\n",
    "    return H\n",
    "\n",
    "# Given a square matrix H and float T\n",
    "# Returns the exact time evolution operator e^{-i H T} \n",
    "def Uexact(H, T):\n",
    "    return sla.expm(-1.j*H*T)\n",
    "\n",
    "# Computes a single time step of first or second order Trotter\n",
    "# Terms in Hterms are applied to the state in increasing index (0,1,...,m)\n",
    "def Utrot_short(Hterms, t, order = 1):\n",
    "    m = len(Hterms) # number of terms\n",
    "    result = sla.expm(-1.j*Hterms[m-1]*t)\n",
    "    if order == 1:  \n",
    "        for k in range(m-2,-1,-1):\n",
    "            result = result @ sla.expm(-1.j*Hterms[k]*t)\n",
    "    \n",
    "    elif order == 2: \n",
    "        for k in range(m-2, -1, -1):\n",
    "            result = sla.expm(-1.j*Hterms[k]*t/2) @ result @ sla.expm(-1.j*Hterms[k]*t/2)\n",
    "    else:\n",
    "        raise ValueError(\"Not a valid order of Trotter formula: must be 1 or 2\")\n",
    "    return result\n",
    "    \n",
    "# Given: a list Hterms of square matrices of same dimension, float T, a (possibly noninteger) number of steps, and order =1,2\n",
    "# Returns a Trotter evolution of given order and step number, for time T\n",
    "def Utrot_long(Hterms, T, steps, order = 1):\n",
    "    single_step = Utrot_short(Hterms, T/steps, order)\n",
    "    \n",
    "    integer_steps = int( np.floor(steps) )\n",
    "    fractional_step = steps - integer_steps\n",
    "    \n",
    "    integer_step_evolve = nla.matrix_power(single_step, integer_steps)\n",
    "    fractional_step_evolve = sla.fractional_matrix_power(single_step, fractional_step)\n",
    "    \n",
    "    total_evolution = integer_step_evolve @ fractional_step_evolve \n",
    "    \n",
    "    return total_evolution"
   ]
  },
  {
   "cell_type": "markdown",
   "id": "56895233",
   "metadata": {
    "tags": []
   },
   "source": [
    "## Generate Breakdown of the Heisenberg Hamiltonian"
   ]
  },
  {
   "cell_type": "code",
   "execution_count": 6,
   "id": "9e701aa5",
   "metadata": {
    "tags": []
   },
   "outputs": [],
   "source": [
    "## Define the even, odd and potential terms for an arbitrary nunber of qubits and a given hlist.\n",
    "\n",
    "def Even_Heisenberg_Terms(nqubits):\n",
    "    Even = sigma_dot_sigma(0, 1, nqubits)\n",
    "    for j in range(2,nqubits,2):\n",
    "        Even += sigma_dot_sigma(j, (j+1)%nqubits, nqubits)\n",
    "        \n",
    "    return Even\n",
    "\n",
    "def Odd_Heisenberg_Terms(nqubits):\n",
    "    \n",
    "    Odd = sigma_dot_sigma(1, 2%nqubits, nqubits)\n",
    "    for j in range(3,nqubits,2):\n",
    "        Odd += sigma_dot_sigma(j, (j+1)%nqubits, nqubits)\n",
    "        \n",
    "        \n",
    "    return Odd\n",
    "\n",
    "def Potential_Heisenberg_Terms(nqubits, hlist):\n",
    "    \n",
    "    Potential = np.sum([hlist[j]*sparse_pauli({j:'Z'}, nqubits) for j in range(nqubits)], axis = 0)\n",
    "        \n",
    "    return Potential\n",
    "\n",
    "\n"
   ]
  },
  {
   "cell_type": "markdown",
   "id": "19395b8d",
   "metadata": {
    "tags": []
   },
   "source": [
    "## Local Observable and Expectation Value Functions"
   ]
  },
  {
   "cell_type": "code",
   "execution_count": 7,
   "id": "26a4d5f2-86cc-47e7-a420-e129c2b42c1c",
   "metadata": {
    "tags": []
   },
   "outputs": [],
   "source": [
    "## Define a Local Observable:\n",
    "\n",
    "## Computes  Hermitian observable, specified by Pauli strings. Input is a list of dictionaries: nonidentities encoded as dictionary\n",
    "## of the form {k:'P', ..., } where k is the integer location and P is a pauli. Pauli strings are then input as list.\n",
    "# Example:\n",
    "# Input: [{0: 'X', 3:'Z', 5:'X'}, {1: 'X'}], 6\n",
    "# Return: X\\ox I \\ox  Z \\ox I \\ox I \\ox X + I\\ox X \\ox  I \\ox I \\ox I \\ox I\n",
    "def observable(List_Pauli_strings, nqubits):\n",
    "\n",
    "    local_observable = 0\n",
    "    for k in range(len(List_Pauli_strings)):\n",
    "        local_observable +=  sparse_pauli( List_Pauli_strings[k], nqubits )\n",
    "    \n",
    "    return local_observable\n",
    "\n",
    "## Take expectation value of 'observable' with respect to to 'state'\n",
    "# Example:\n",
    "# Input: sparse_bitstring([0], 1), observable([{0: 'Z'}], 1) \n",
    "# Output: -1\n",
    "def expectation_value(state, observable):\n",
    "    \n",
    "    normalisation =   np.vdot(state, state )  \n",
    "    # Throw an exception if the state is not normalised.\n",
    "    if (normalisation -1) > 0.00001:\n",
    "        raise ValueError(\"State is not normalised\")\n",
    "    \n",
    "    # Calculate the expectation of the state. Use vdot to get complex conjugate.\n",
    "    expectation = np.vdot(state, observable.dot(state) )\n",
    "    \n",
    "    # Throw an exception if there is a significant imaginary part to the expectation value.\n",
    "    if np.abs(expectation.imag) > 0.00001:\n",
    "        raise ValueError(\"Expectation value should be entirely real\")\n",
    "        \n",
    "    # Return only the real part of the expectation value (imaginary part should be zero).\n",
    "    return np.real(expectation)\n",
    "\n",
    "## Finds the expectation value with respect to the Trotterized time evolution. Define the function in terms of s = 1/steps.\n",
    "# Example: \n",
    "# Input: [Even, Odd, Potential], sparse_bitstring([0,1], 2), 10, 0.01, observable([{0: 'Z'}], 2) \n",
    "# Output: -1 + 0.j\n",
    "def Trotterized_Expectation(Hterms, initial_state, time, s, observable, order = 1):\n",
    "    \n",
    "    steps = 1/s\n",
    "    \n",
    "    # Calculate the Trotterized time-evolution operator and apply to the initial state.\n",
    "    Trotterized_evolution_operator = Utrot_long(Hterms, time, steps, order)\n",
    "    time_evolved_state = Trotterized_evolution_operator @ initial_state\n",
    "    \n",
    "    return expectation_value(time_evolved_state, observable)\n",
    "    \n",
    "## Computes the time-evolved expectation value from the *exact* evolution.  \n",
    "# Example: \n",
    "# Input: heisenbergH(nqubits, hlist), sparse_bitstring([0,1], 2), 10, observable([{0: 'Z'}], 2) \n",
    "# Output: -1 + 0.j\n",
    "def Exact_Expectation(Hamiltonian, initial_state, time, observable):\n",
    "    \n",
    "    # Calculate the exact evolution operator.\n",
    "    evolution_operator = Uexact(Hamiltonian, time)\n",
    "    # Apply the exact evolution to the initial state.\n",
    "    time_evolved_state = evolution_operator @ initial_state\n",
    "    \n",
    "    return expectation_value(time_evolved_state, observable)"
   ]
  },
  {
   "cell_type": "markdown",
   "id": "cadb574d-e8a0-443c-8ab4-979e3079b6c4",
   "metadata": {},
   "source": [
    "## Error and Performance Analysis Functions"
   ]
  },
  {
   "cell_type": "code",
   "execution_count": 8,
   "id": "beacedcc-c675-4213-98e7-7462931d8c1e",
   "metadata": {
    "tags": []
   },
   "outputs": [],
   "source": [
    "# Computes the 1-norm characterising the Hamiltonian & number of steps needed.\n",
    "def Heisenberg_one_norm(nqubits, hlist):\n",
    "    \n",
    "    # First compute norm associated with the 2 qubit \\sigma.\\sigma terms.\n",
    "    norm = (nqubits-1)*3\n",
    "    \n",
    "    # Compute part of norm associated with single-qubit terms.\n",
    "    k = 0\n",
    "    for k in range(nqubits):\n",
    "        norm += np.abs( hlist[k] )\n",
    "        \n",
    "    return norm\n",
    "\n",
    "## Calculates the minimum number of steps required analyticity to be maintained (using the one-norm bound).\n",
    "def min_step_number(nqubits, hlist, time):\n",
    "    \n",
    "    one_norm = Heisenberg_one_norm(nqubits, hlist)\n",
    "    min_step_no = np.ceil(one_norm*time)\n",
    "    \n",
    "    return int(min_step_no)\n",
    "\n",
    "## Compares the difference between the exact and Trotterized expecation values.\n",
    "def difference_function(Hterms, initial_state, time, s, observable, nqubits, order = 1):\n",
    "    \n",
    "\n",
    "    Hamiltonian = np.sum(Hterms,axis=0)\n",
    "    \n",
    "    # Calculate the difference between the exact evolution and the Trotter-zed evolution.\n",
    "    exact_val = Exact_Expectation(Hamiltonian, initial_state, time, observable)\n",
    "    trotter_val = Trotterized_Expectation(Hterms, initial_state, time, s, observable, order = 1)\n",
    "    diff = exact_val - trotter_val\n",
    "    \n",
    "    return diff\n",
    "\n"
   ]
  },
  {
   "cell_type": "markdown",
   "id": "0c81e763-32ce-4038-b60f-3b700eabd261",
   "metadata": {
    "tags": []
   },
   "source": [
    "## Construct system Hamiltonian, Observable, and initial state"
   ]
  },
  {
   "cell_type": "code",
   "execution_count": 16,
   "id": "afbc8a7a-aa9c-48bc-93ba-72018b40544d",
   "metadata": {
    "tags": []
   },
   "outputs": [],
   "source": [
    "## System parameters.\n",
    "nqubits = 6\n",
    "h = 1 # Maximum single qubit potential strength\n",
    "\n",
    "# Define the Hamiltonian and the groupings of its terms.\n",
    "hlist = (np.random.rand(nqubits)*2 -1)*h\n",
    "Hterms = [Even_Heisenberg_Terms(nqubits), Odd_Heisenberg_Terms(nqubits), Potential_Heisenberg_Terms(nqubits, hlist)]\n",
    "Htot = np.sum(Hterms, axis = 0)\n",
    "\n",
    "# Choose local observable and initial state\n",
    "local_obs = observable([{0: 'Z'},{nqubits-1: 'Z'}, {1: 'X'} ], nqubits)\n",
    "initial_state = sparse_bitstring([nqubits//2], nqubits)"
   ]
  },
  {
   "cell_type": "markdown",
   "id": "1ada3e7e-cfc1-4f15-9959-d247f759e011",
   "metadata": {
    "tags": []
   },
   "source": [
    "## Testing accuracy of single data points"
   ]
  },
  {
   "cell_type": "code",
   "execution_count": 89,
   "id": "b43927ed-a3b1-4049-8872-d66439f37afd",
   "metadata": {
    "tags": []
   },
   "outputs": [],
   "source": [
    "# Test range of simulation times\n",
    "T1 = 10**8\n",
    "T2 = 10**(2)\n",
    "T3 = 10**(-1)\n",
    "\n",
    "\n",
    "if sla.norm(heisenbergH(nqubits, hlist) - np.sum(Hterms,axis=0),2) > 0.0000001:\n",
    "    raise ValueError(\"Trotterised Hamiltonian is not equal to actual Hamiltonian\")\n",
    "\n",
    "# Choose step sizes to compute evolutions\n",
    "ndata = 10\n",
    "max_s_value = 1\n",
    "min_s_value = .1\n",
    "s_value_array = np.linspace(min_s_value, max_s_value, ndata)\n",
    "\n",
    "\n",
    "#output_list_1 = [difference_function(Hterms, state, T1, s, local_obs, nqubits, order = 1 ) for s in s_value_array]\n",
    "#output_list_2 = [difference_function(Hterms, state, T2, s, local_obs, nqubits, order = 1 ) for s in s_value_array]\n",
    "output_list_3 = [difference_function(Hterms, state, T3, s, local_obs, nqubits, order = 1 ) for s in s_value_array]\n",
    "\n",
    "#difference_list = np.array(output_list_1) - np.array(output_list_2)"
   ]
  },
  {
   "cell_type": "code",
   "execution_count": 90,
   "id": "a9b527c0",
   "metadata": {
    "tags": []
   },
   "outputs": [
    {
     "data": {
      "text/plain": [
       "Text(0, 0.5, 'Observable Error')"
      ]
     },
     "execution_count": 90,
     "metadata": {},
     "output_type": "execute_result"
    },
    {
     "data": {
      "image/png": "[encoded data removed]",
      "text/plain": [
       "<Figure size 640x480 with 1 Axes>"
      ]
     },
     "metadata": {},
     "output_type": "display_data"
    }
   ],
   "source": [
    "plt.plot(s_value_array, output_list_3)\n",
    "plt.xlabel('s = 1/Number of Steps')\n",
    "plt.ylabel('Observable Error')"
   ]
  },
  {
   "cell_type": "markdown",
   "id": "13928928-761e-4d9b-9adc-9bcf676583b2",
   "metadata": {},
   "source": [
    "## Chebyshev interpolation\n",
    "\n",
    "`chebfun` seems a little excessive for our basic application. We can use `scipy.interpolate`"
   ]
  },
  {
   "cell_type": "code",
   "execution_count": 11,
   "id": "4be6507b-b85e-4760-aa0b-49a0dc598fe4",
   "metadata": {
    "tags": []
   },
   "outputs": [],
   "source": [
    "# Input: a positive integer n and interval of given halfwidth and center,\n",
    "# Returns: a list of the n zeros of the nth degree chebyshev polynomial on that interval\n",
    "def cheb_nodes(n, halfwidth = 1, center = 0):\n",
    "    nodes = np.zeros(n)\n",
    "    for j in range(n):\n",
    "        nodes[n-j-1] = center + halfwidth * np.cos((2*j+1)*np.pi/(2*n))\n",
    "    return nodes"
   ]
  },
  {
   "cell_type": "markdown",
   "id": "d73915f3-6953-4821-aa4f-e9de0ad2c5b1",
   "metadata": {},
   "source": [
    "## Interpolation and comparison with \"best data point\" in cheb set"
   ]
  },
  {
   "cell_type": "code",
   "execution_count": 18,
   "id": "6a495f2b-1f86-48c7-8cd6-9ababecbe574",
   "metadata": {
    "tags": []
   },
   "outputs": [
    {
     "name": "stdout",
     "output_type": "stream",
     "text": [
      "a = 0.05555555555555555\n",
      "Exact value: 0.8357971140449274\n",
      "Interpolation value: 0.8357971140449487\n",
      "Best data value: 0.8358107775196241\n",
      "Error for interpolation: -2.1316282072803006e-14\n",
      "Error for raw data: 1.3663474696667954e-05\n"
     ]
    },
    {
     "data": {
      "text/plain": [
       "<matplotlib.lines.Line2D at 0x1641609d0>"
      ]
     },
     "execution_count": 18,
     "metadata": {},
     "output_type": "execute_result"
    },
    {
     "data": {
      "image/png": "[encoded data removed]",
      "text/plain": [
       "<Figure size 640x480 with 1 Axes>"
      ]
     },
     "metadata": {},
     "output_type": "display_data"
    }
   ],
   "source": [
    "trot_order = 2\n",
    "time = 1\n",
    "a = 1/min_step_number(nqubits, hlist, time)\n",
    "print(\"a =\",a)\n",
    "\n",
    "num_nodes = 16 # Should always be even. Error should decrease exponentially with num_nodes\n",
    "\n",
    "slist = cheb_nodes(num_nodes, a)\n",
    "ylist = np.zeros(num_nodes)\n",
    "for k in range(0, num_nodes):\n",
    "    # Compute the Trotter estimate\n",
    "    ylist[k] = Trotterized_Expectation(Hterms, initial_state, time, slist[k], local_obs, order = trot_order)\n",
    "\n",
    "interpolant = interp.BarycentricInterpolator(slist,ylist)\n",
    "\n",
    "exact_val = Exact_Expectation(Htot, initial_state, time, local_obs)\n",
    "estimated_val = interpolant(0)\n",
    "best_data_val = ylist[num_nodes//2]\n",
    "\n",
    "error = exact_val - estimated_val\n",
    "error_single_data = best_data_val - exact_val\n",
    "\n",
    "print(\"Exact value:\", exact_val)\n",
    "print(\"Interpolation value:\", estimated_val)\n",
    "print(\"Best data value:\", best_data_val)\n",
    "print(\"Error for interpolation:\", error)\n",
    "print(\"Error for raw data:\", error_single_data)\n",
    "\n",
    "# Plot the resulting polynomial\n",
    "x = np.linspace(-a,a,100)\n",
    "plt.plot(x, interpolant(x), label=r'$P_n f$')\n",
    "plt.plot(x, np.array([exact_val]*100), label='Exact value')\n",
    "plt.legend()\n",
    "plt.axvline(x=0, c=\"black\")"
   ]
  },
  {
   "cell_type": "code",
   "execution_count": null,
   "id": "90648ae7",
   "metadata": {},
   "outputs": [],
   "source": [
    "# Parameters\n",
    "nqubits = 4\n",
    "h = 0\n",
    "steps = 1000\n",
    "T = 8\n",
    "\n",
    "# Generate a list of random coefficients.\n",
    "hlist = (np.random.rand(nqubits)*2 -1)*h\n",
    "\n",
    "# Trotter pieces: group the odd and even Hamiltonian terms.\n",
    "\n",
    "Even = sigma_dot_sigma(0, 1, nqubits)\n",
    "for j in range(2,nqubits,2):\n",
    "    Even += sigma_dot_sigma(j, (j+1)%nqubits, nqubits)\n",
    "\n",
    "Odd = sigma_dot_sigma(1, 2%nqubits, nqubits)\n",
    "for j in range(3,nqubits,2):\n",
    "    Odd += sigma_dot_sigma(j, (j+1)%nqubits, nqubits)\n",
    "    \n",
    "Potential = np.sum([hlist[j]*sparse_pauli({j:'Z'}, nqubits) for j in range(nqubits)], axis = 0)\n",
    "\n",
    "Hterms = [Even, Odd, Potential]\n",
    "\n",
    "Even_terms = Even\n",
    "Odd_terms = Odd\n",
    "\n",
    "\n",
    "A = Uexact(heisenbergH(nqubits, hlist), T)\n",
    "B = Utrot_long(Hterms, T, steps)"
   ]
  },
  {
   "cell_type": "markdown",
   "id": "6a8f7a47",
   "metadata": {},
   "source": [
    "# Checking"
   ]
  },
  {
   "cell_type": "code",
   "execution_count": null,
   "id": "c880258e",
   "metadata": {
    "tags": []
   },
   "outputs": [],
   "source": [
    "## Checking time evolution on n-qubits does decrease as the step number increases.\n",
    "# Define initial parameters.\n",
    "time = 10\n",
    "local_obs = observable([{0: 'Z'},{nqubits-1: 'X'}, {1: 'X'} ], nqubits)\n",
    "state = sparse_bitstring(list(np.arange(nqubits)), nqubits)\n",
    "\n",
    "# Exact Evolution\n",
    "Hamiltonian = heisenbergH(nqubits, hlist)\n",
    "C_mat =  Uexact(Hamiltonian, time)\n",
    "\n",
    "# Inexact Evolution\n",
    "steps = min_step_number(nqubits, hlist, time)\n",
    "D_mat = Utrot_long(Hlist, time, steps )\n",
    "\n",
    "\n",
    "min_no_steps = min_step_number(nqubits, hlist, time)\n",
    "max_s_value = 1/min_step_number(nqubits, hlist, time)\n",
    "\n",
    "s_step_size = max_s_value/1000\n",
    "\n",
    "\n",
    "s_value_array = np.arange(s_step_size, max_s_value, s_step_size)\n",
    "step_value_array = [1/s for s in s_value_array]\n",
    "D_array = [ Utrot_long(Hlist, time, step ) for step in step_value_array]\n",
    "\n",
    "# Difference in norms of evolution operators\n",
    "norm_diff_array = [sla.norm(C_mat-D,2) for D in D_array]\n",
    "\n",
    "# Now calculate the difference between the exact and Trotterized expectation values.\n",
    "exact_expectation = Exact_Expectation(Hamiltonian, state, time, local_obs)\n",
    "observable_diff_array = [ exact_expectation - Trotterized_Expectation(Hlist, state, time, 1/x, local_obs, order = 1) for x in step_value_array]\n",
    "\n",
    "# Plot the norm of the difference between the norms of exact and Trotterised evolution\n",
    "#plt.plot(step_value_array, norm_diff_array )\n",
    "\n",
    "# Plot the difference between the local observables of exact vs Trotterised.\n",
    "plt.plot(step_value_array, observable_diff_array )\n",
    "plt.xlabel('Number of Steps')\n",
    "plt.ylabel('Observable Error')\n"
   ]
  },
  {
   "cell_type": "markdown",
   "id": "e9017edb-8924-4903-bc72-d613a0687e74",
   "metadata": {},
   "source": [
    "## Basic example"
   ]
  },
  {
   "cell_type": "code",
   "execution_count": 41,
   "id": "702c3998-758c-4db8-b3c0-bb3f914838f8",
   "metadata": {
    "tags": []
   },
   "outputs": [
    {
     "data": {
      "text/plain": [
       "[<matplotlib.lines.Line2D at 0x13710a320>]"
      ]
     },
     "execution_count": 41,
     "metadata": {},
     "output_type": "execute_result"
    },
    {
     "data": {
      "image/png": "[encoded data removed]",
      "text/plain": [
       "<Figure size 640x480 with 1 Axes>"
      ]
     },
     "metadata": {},
     "output_type": "display_data"
    }
   ],
   "source": [
    "n = 10\n",
    "xi = np.array(cheb_nodes(n))\n",
    "yi = np.sin(20*xi)\n",
    "interpolant = interp.BarycentricInterpolator(xi,yi)\n",
    "\n",
    "x = np.linspace(-1,1,100)\n",
    "interpolant(x)\n",
    "plt.plot(x,interpolant(x))\n",
    "plt.plot(x, np.sin(20*x))"
   ]
  }
 ],
 "metadata": {
  "kernelspec": {
   "display_name": "Python 3 (ipykernel)",
   "language": "python",
   "name": "python3"
  },
  "language_info": {
   "codemirror_mode": {
    "name": "ipython",
    "version": 3
   },
   "file_extension": ".py",
   "mimetype": "text/x-python",
   "name": "python",
   "nbconvert_exporter": "python",
   "pygments_lexer": "ipython3",
   "version": "3.10.9"
  }
 },
 "nbformat": 4,
 "nbformat_minor": 5
}
