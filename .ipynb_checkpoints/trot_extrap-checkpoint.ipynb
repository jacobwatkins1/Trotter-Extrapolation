{
 "cells": [
  {
   "cell_type": "markdown",
   "id": "b5c007c9-ef1d-48e0-a9a2-27ff9c95ff37",
   "metadata": {},
   "source": [
    "# Trotter Extrapolation\n",
    "\n",
    "## James D. Watson, Jacob Watkins\n",
    "## August 2023"
   ]
  },
  {
   "cell_type": "markdown",
   "id": "70f8d735-16c2-4ee0-860c-ad2bccde0d24",
   "metadata": {},
   "source": [
    "### TODO:\n",
    "\n",
    "- Generalize Trotter code to any order formula (currently first order), or at least 2nd order\n",
    "- Calculate observable (Magnetization? Something local to one qubit?)"
   ]
  },
  {
   "cell_type": "markdown",
   "id": "06cf71a0-6a31-4865-a0db-a916f87f6d40",
   "metadata": {},
   "source": [
    "## Theory"
   ]
  },
  {
   "cell_type": "markdown",
   "id": "0b45fdaf-3f74-4887-bdc9-8860d1c538a2",
   "metadata": {},
   "source": [
    "From Equation (1) of [this text](https://arxiv.org/abs/1711.10980), we want to simulate the 1D Heisenberg model.\n",
    "\n",
    "$$\n",
    "H = \\sum_{i=1}^n \\sigma_i \\cdot \\sigma_{i+1} + h_j \\sigma_j^z\n",
    "$$\n",
    "\n",
    "with $h_j \\in [-h,h]$ randomly and uniformly sampled. Suppose we wish to simulate $e^{-i H T}$ on a quantum computer using product formulas. A natural choice is to split according to even-odd staggering of the interaction term, and then do the $Z$ rotations in their own grouping. If $n$ is odd, there will be one term left over. I don't think we should fret, probably just choose even $n$ for simplicity since we are only exploring our method. "
   ]
  },
  {
   "cell_type": "code",
   "execution_count": 2,
   "id": "a44fc2f7-ab7d-44eb-b0b1-fbdf442207f1",
   "metadata": {
    "tags": []
   },
   "outputs": [],
   "source": [
    "# Imports\n",
    "\n",
    "import numpy as np\n",
    "import scipy.linalg as sla\n",
    "import numpy.linalg as nla\n",
    "import matplotlib.pyplot as plt"
   ]
  },
  {
   "cell_type": "markdown",
   "id": "be8104a6-55ec-4a94-8e77-2239c7588c08",
   "metadata": {
    "tags": []
   },
   "source": [
    "## Useful Pauli and qubit manipulations"
   ]
  },
  {
   "cell_type": "code",
   "execution_count": 3,
   "id": "6e00eefe-fab1-4b46-8b9a-e250629167fa",
   "metadata": {
    "tags": []
   },
   "outputs": [],
   "source": [
    "# Computes Kronecker (tensor) product of a list of matrices\n",
    "# Example:\n",
    "# Input: [X,Y,Z,Y]\n",
    "# Return: X \\ox Y \\ox Z \\ox Y\n",
    "def kron_list(matrix_list):\n",
    "    result = matrix_list[0]\n",
    "    for i in range(1,len(matrix_list)):\n",
    "        result = np.kron(result,matrix_list[i])\n",
    "        \n",
    "    return result\n",
    "\n",
    "# Pauli matrices\n",
    "I = np.array([[1.,0],[0,1.]], dtype='complex')\n",
    "X = np.array([[0,1.],[1.,0]], dtype='complex')\n",
    "Y = np.array([[0,-1.j],[1.j,0]], dtype='complex')\n",
    "Z = np.array([[1.,0],[0,-1.]], dtype='complex')\n",
    "\n",
    "# Converts string representation of paulis to list of matrices,\n",
    "# Example:\n",
    "# Input: \"XYZY\"\n",
    "# Return: [X,Y,Z,Y]\n",
    "def paulistring_to_list(paulistring): \n",
    "    matrix_list = list(paulistring)\n",
    "    translate = {'I':I, 'X':X, 'Y':Y, 'Z':Z}\n",
    "    for p in range(len(paulistring)):\n",
    "        matrix_list[p] = translate[matrix_list[p]]\n",
    "    return matrix_list\n",
    "\n",
    "# Computes generalized pauli matrix, given a string in standard form,\n",
    "# Example:\n",
    "# Input: \"XYZY\"\n",
    "# Return: X \\ox Y \\ox Z \\ox Y\n",
    "def pauli_matrix(paulistring):\n",
    "    return kron_list(paulistring_to_list(paulistring))\n",
    "\n",
    "# Computes generalized pauli matrix, specified by non-identity pieces. Nonidentities encoded as dictionary\n",
    "# of the form {k:'P', ..., } where k is the integer location and P is a pauli\n",
    "# Example:\n",
    "# Input: {0: 'X', 3:'Z', 5:'X'}, 6\n",
    "# Return: X\\ox I \\ox  Z \\ox I \\ox I \\ox X\n",
    "def sparse_pauli(nonidentities, nqubits):\n",
    "    #starting string is all identity\n",
    "    paulilist = []\n",
    "    for i in range(0, nqubits):\n",
    "        paulilist.append('I')\n",
    "    \n",
    "    #Change string to paulis specified by dictionary\n",
    "    for key in nonidentities:\n",
    "        paulilist[key] = nonidentities[key]\n",
    "    paulistring = ''.join(paulilist)\n",
    "    \n",
    "    return pauli_matrix(paulistring) \n",
    "\n",
    "# Returns the matrix of \\sigma . \\sigma between sites i and j\n",
    "# Example:\n",
    "# Input: 0,1,4\n",
    "# Return: X\\ox X \\ox I \\ox I + Y\\ox Y \\ox I \\ox I + Z\\ox Z \\ox I \\ox I\n",
    "def sigma_dot_sigma(i,j,nqubits):\n",
    "    return sparse_pauli({i:'X',j:'X'},nqubits) + sparse_pauli({i:'Y',j:'Y'},nqubits) + sparse_pauli({i:'Z',j:'Z'},nqubits)\n",
    "\n",
    "# Qubit computational basis\n",
    "zero = np.array([1.,0], dtype ='complex')\n",
    "one = np.array([0,1.], dtype ='complex')\n",
    "\n",
    "# Convert bitstring to list of single-qubit kets\n",
    "# Example: \n",
    "# Input: \"0101\"\n",
    "# Output: list( (1,0), (0,1), (1,0), (0,1) )\n",
    "def bitstring_to_list(bitstring):\n",
    "    bitlist = list(bitstring)\n",
    "    translate = {'0':zero, '1':one}\n",
    "    for b in range(len(bitstring)):\n",
    "        bitlist[b] = translate[bitlist[b]]\n",
    "    return bitlist\n",
    "\n",
    "# Convert bitstring to full vector/array describing each qubit.\n",
    "# Example: \n",
    "# Input: \"0101\"\n",
    "# Output:  (1,0) \\ox (0,1) \\ox (1,0) \\ox (0,1) \n",
    "def basis_ket(bitstring):\n",
    "    return kron_list(bitstring_to_list(bitstring))\n",
    "\n",
    "\n",
    "# Outputs a bit string with certain positions set to 1, and otherwise set to zero:\n",
    "# Example: \n",
    "# Input: [0,1,2],3\n",
    "# Output:  (0,0,0,0,0,0,0,0,1)\n",
    "def sparse_bitstring(ones, nqubits):\n",
    "    bitlist = []\n",
    "    for i in range(0,nqubits):\n",
    "        bitlist.append('0')\n",
    "    \n",
    "    #Flip certain bits to one, as specified by dictionary\n",
    "    for qubit in ones:\n",
    "        bitlist[qubit] = '1'\n",
    "    bitstring = ''.join(bitlist)\n",
    "    \n",
    "    return basis_ket(bitstring)"
   ]
  },
  {
   "cell_type": "markdown",
   "id": "dd8bb0f9-b88a-4427-8810-62a48cc883b0",
   "metadata": {},
   "source": [
    "## Chebyshev functions\n",
    "\n",
    "`np.polynomial.chebyshev` is a class for chebyshev polynomials. Looks new and somewhat untested."
   ]
  },
  {
   "cell_type": "code",
   "execution_count": 4,
   "id": "4be6507b-b85e-4760-aa0b-49a0dc598fe4",
   "metadata": {
    "tags": []
   },
   "outputs": [],
   "source": [
    "def cheb_nodes(n, width = 1, center = 0):\n",
    "    nodes = np.zeros(n)\n",
    "    for j in range(n):\n",
    "        nodes[n-j-1] = center + (width/2)* np.cos((2*j+1)*np.pi/(2*n))\n",
    "    return nodes"
   ]
  },
  {
   "cell_type": "markdown",
   "id": "b75a9bf3-a7c4-4e27-aad1-f30d652b607b",
   "metadata": {
    "tags": []
   },
   "source": [
    "## Simulation functions"
   ]
  },
  {
   "cell_type": "code",
   "execution_count": 5,
   "id": "e715826b-5467-4cb2-b571-b0cacfda74af",
   "metadata": {
    "tags": []
   },
   "outputs": [],
   "source": [
    "# Generates the 1D Heisenberg chain Hamiltonian specified in the introduction.\n",
    "def heisenbergH(nqubits, hlist):\n",
    "    H = sigma_dot_sigma(0,1,nqubits) + hlist[0]*sparse_pauli({0:'Z'}, nqubits)\n",
    "    for j in range(1, nqubits):\n",
    "        H += sigma_dot_sigma(j, (j+1)%nqubits, nqubits) + hlist[j]*sparse_pauli({j:'Z'}, nqubits)\n",
    "    return H\n",
    "\n",
    "# Generates the exact time evolution.\n",
    "def Uexact(H, T):\n",
    "    return sla.expm(-1.j*H*T)\n",
    "\n",
    "# TODO: generalize for higher order formulas (or at least 2).\n",
    "# First term in Hlist is applied to state first\n",
    "def Utrot_short(Hlist, t, order = 1):\n",
    "    m = len(Hlist) # number of terms\n",
    "    result = sla.expm(-1.j*Hlist[0]*t)\n",
    "    for k in range(1,m):\n",
    "        result = sla.expm(-1.j*Hlist[k]*t) @ result\n",
    "    \n",
    "    return result\n",
    "    \n",
    "# Code only works for first order\n",
    "def Utrot_long(Hlist, T, steps, order = 1):\n",
    "    single_step = Utrot_short(Hlist, T/steps, order)\n",
    "    \n",
    "    integer_steps = int( np.floor(steps) )\n",
    "    fractional_step = steps - integer_steps\n",
    "    \n",
    "    integer_step_evolve = nla.matrix_power(single_step, integer_steps)\n",
    "    fractional_step_evolve = sla.fractional_matrix_power(single_step, fractional_step)\n",
    "    \n",
    "    total_evolution = integer_step_evolve @ fractional_step_evolve \n",
    "    \n",
    "    return total_evolution\n",
    "\n",
    "# Computes the 1-norm characterising the Hamiltonian & number of steps needed.\n",
    "def Heisenberg_one_norm(nqubits, hlist):\n",
    "    \n",
    "    # First compute norm associated with the 2 qubit \\sigma.\\sigma terms.\n",
    "    norm = (nqubits-1)*3\n",
    "    \n",
    "    # Compute part of norm associated with single-qubit terms.\n",
    "    k = 0\n",
    "    for k in range(nqubits):\n",
    "        norm += np.abs( hlist[k] )\n",
    "        \n",
    "    return norm"
   ]
  },
  {
   "cell_type": "markdown",
   "id": "56895233",
   "metadata": {},
   "source": [
    "# Generate Breakdown of the Heisenberg Hamiltonian"
   ]
  },
  {
   "cell_type": "code",
   "execution_count": 6,
   "id": "9e701aa5",
   "metadata": {},
   "outputs": [],
   "source": [
    "## Define the even, odd and potential terms for an arbitrary nunber of qubits and a given hlist.\n",
    "\n",
    "def Even_Heisenberg_Terms(nqubits):\n",
    "    Even = sigma_dot_sigma(0, 1, nqubits)\n",
    "    for j in range(2,nqubits,2):\n",
    "        Even += sigma_dot_sigma(j, (j+1)%nqubits, nqubits)\n",
    "        \n",
    "    return Even\n",
    "\n",
    "def Odd_Heisenberg_Terms(nqubits):\n",
    "    \n",
    "    Odd = sigma_dot_sigma(1, 2%nqubits, nqubits)\n",
    "    for j in range(3,nqubits,2):\n",
    "        Odd += sigma_dot_sigma(j, (j+1)%nqubits, nqubits)\n",
    "        \n",
    "        \n",
    "    return Odd\n",
    "\n",
    "def Potential_Heisenberg_Terms(nqubits, hlist):\n",
    "    \n",
    "    Potential = np.sum([hlist[j]*sparse_pauli({j:'Z'}, nqubits) for j in range(nqubits)], axis = 0)\n",
    "        \n",
    "    return Potential\n",
    "\n",
    "\n"
   ]
  },
  {
   "cell_type": "markdown",
   "id": "19395b8d",
   "metadata": {},
   "source": [
    "# Local Observable and Expectation Value Functions"
   ]
  },
  {
   "cell_type": "code",
   "execution_count": 7,
   "id": "e2617173",
   "metadata": {},
   "outputs": [],
   "source": [
    "## Define a Local Observable:\n",
    "\n",
    "## Computes  Hermitian observable, specified by Pauli strings. Input is a list of dictionaries: nonidentities encoded as dictionary\n",
    "## of the form {k:'P', ..., } where k is the integer location and P is a pauli. Pauli strings are then input as list.\n",
    "# Example:\n",
    "# Input: [{0: 'X', 3:'Z', 5:'X'}, {1: 'X'}], 6\n",
    "# Return: X\\ox I \\ox  Z \\ox I \\ox I \\ox X + I\\ox X \\ox  I \\ox I \\ox I \\ox I\n",
    "def observable(List_Pauli_strings, nqubits):\n",
    "\n",
    "    local_observable = 0\n",
    "    for k in range(len(List_Pauli_strings)):\n",
    "        local_observable +=  sparse_pauli( List_Pauli_strings[k], nqubits )\n",
    "    \n",
    "    return local_observable\n",
    "\n",
    "## Take expectation value of 'observable' with respect to to 'state'\n",
    "# Example:\n",
    "# Input: sparse_bitstring([0], 1), observable([{0: 'Z'}], 1) \n",
    "# Output: -1\n",
    "def expectation_value(state, observable):\n",
    "    \n",
    "    normalisation =   np.vdot(state, state )  \n",
    "    # Throw an exception if the state is not normalised.\n",
    "    if (normalisation -1) > 0.00001:\n",
    "        raise ValueError(\"State is not normalised\")\n",
    "    \n",
    "    # Calculate the expectation of the state. Use vdot to get complex conjugate.\n",
    "    expectation = np.vdot(state, observable.dot(state) )\n",
    "    \n",
    "    # Throw an exception if there is a significant imaginary part to the expectation value.\n",
    "    if np.abs(expectation.imag) > 0.00001:\n",
    "        raise ValueError(\"Expectation value should be entirely real\")\n",
    "        \n",
    "    # Return only the real part of the expectation value (imaginary part should be zero).\n",
    "    return np.real(expectation)\n",
    "\n",
    "## Finds the expectation value with respect to the Trotterized time evolution. Define the function in terms of x = 1/steps.\n",
    "# Example: \n",
    "# Input: [Even, Odd, Potential], sparse_bitstring([0,1], 2), 10, 0.01, observable([{0: 'Z'}], 2) \n",
    "# Output: -1 + 0.j\n",
    "def Trotterized_Expectation(Hlist, initial_state, time, x, observable, order = 1):\n",
    "    \n",
    "    steps = 1/x\n",
    "    \n",
    "    # Calculate the Trotterized time-evolution operator and apply to the initial state.\n",
    "    Trotterized_evolution_operator = Utrot_long(Hlist, time, steps, order )\n",
    "    time_evolved_state = initial_state  @ Trotterized_evolution_operator\n",
    "    \n",
    "    return expectation_value(time_evolved_state, observable)\n",
    "    \n",
    "## Computes the time-evolved expectation value from the *exact* evolution.  \n",
    "# Example: \n",
    "# Input: heisenbergH(nqubits, hlist), sparse_bitstring([0,1], 2), 10, observable([{0: 'Z'}], 2) \n",
    "# Output: -1 + 0.j\n",
    "def Exact_Expectation(Hamiltonian, initial_state, time, observable):\n",
    "    \n",
    "    # Calculate the exact evolution operator.\n",
    "    evolution_operator = Uexact(Hamiltonian, time)\n",
    "    # Apply the exact evolution to the initial state.\n",
    "    time_evolved_state = initial_state  @ evolution_operator\n",
    "    \n",
    "    return expectation_value(time_evolved_state, observable)\n",
    "\n",
    "## Compares the difference between the exact and Trotterized expecation values.\n",
    "def difference_function(Hlist, initial_state, time, x, observable, nqubits, order = 1 ):\n",
    "    \n",
    "    # Calculate full Heisenberg Hamiltonian. hlist = Hlist[2]\n",
    "    Hamiltonian = heisenbergH(nqubits, Hlist[2])\n",
    "    #Hamiltonian = np.sum(Hlist,axis=0)\n",
    "    \n",
    "    # Calculate the difference between the exact evolution and the Trotter-zed evolution.\n",
    "    diff = Exact_Expectation(Hamiltonian, initial_state, time, observable) - Trotterized_Expectation(Hlist, initial_state, time, x, observable, order = 1)\n",
    "    \n",
    "    return diff\n",
    "\n",
    "## Calculates the minimum number of steps required analyticity to be maintained (using the one-norm bound).\n",
    "def min_step_number(nqubits, hlist, time):\n",
    "    \n",
    "    one_norm = Heisenberg_one_norm(nqubits, hlist)\n",
    "    min_step_no = np.ceil(one_norm*time)\n",
    "    \n",
    "    return float(min_step_no)\n"
   ]
  },
  {
   "cell_type": "code",
   "execution_count": 28,
   "id": "656deb1c",
   "metadata": {},
   "outputs": [],
   "source": [
    "## Plot the difference function for different step values.\n",
    "nqubits = 6\n",
    "h = 1\n",
    "time = 100000000\n",
    "\n",
    "\n",
    "# Define the Hamiltonian and the groupings of its terms.\n",
    "hlist = (np.random.rand(nqubits)*2 -1)*h\n",
    "Hlist = [Even_Heisenberg_Terms(nqubits), Odd_Heisenberg_Terms(nqubits), Potential_Heisenberg_Terms(nqubits, hlist)]\n",
    "time = 1/Heisenberg_one_norm(nqubits, hlist)\n",
    "\n",
    "if sla.norm(heisenbergH(nqubits, hlist) - np.sum(Hlist,axis=0),2) > 0.0000001:\n",
    "    raise ValueError(\"Trotterised Hamiltonian is not equal to actual Hamiltonian\")\n",
    "\n",
    "\n",
    "local_obs = observable([{0: 'Z'},{nqubits-1: 'Z'}, {1: 'X'} ], nqubits)\n",
    "temp_list =[0]*nqubits\n",
    "temp_list[nqubits//2] = 1\n",
    "temp_list[0] = 1\n",
    "temp_list[1] = 1\n",
    "state = sparse_bitstring(temp_list, nqubits)\n",
    "\n",
    "#max_s_value = 1/min_step_number(nqubits, hlist, time)\n",
    "max_s_value = 1\n",
    "s_step_size = max_s_value/1000\n",
    "\n",
    "s_value_array = np.arange(s_step_size, max_s_value, s_step_size)\n",
    "output_list = [difference_function(Hlist, state, time, s, local_obs, nqubits, order = 1 ) for s in s_value_array]\n",
    "\n"
   ]
  },
  {
   "cell_type": "code",
   "execution_count": 29,
   "id": "a9b527c0",
   "metadata": {},
   "outputs": [
    {
     "name": "stdout",
     "output_type": "stream",
     "text": [
      "[0.001 0.002 0.003 0.004 0.005 0.006 0.007 0.008 0.009 0.01  0.011 0.012\n",
      " 0.013 0.014 0.015 0.016 0.017 0.018 0.019 0.02  0.021 0.022 0.023 0.024\n",
      " 0.025 0.026 0.027 0.028 0.029 0.03  0.031 0.032 0.033 0.034 0.035 0.036\n",
      " 0.037 0.038 0.039 0.04  0.041 0.042 0.043 0.044 0.045 0.046 0.047 0.048\n",
      " 0.049 0.05  0.051 0.052 0.053 0.054 0.055 0.056 0.057 0.058 0.059 0.06\n",
      " 0.061 0.062 0.063 0.064 0.065 0.066 0.067 0.068 0.069 0.07  0.071 0.072\n",
      " 0.073 0.074 0.075 0.076 0.077 0.078 0.079 0.08  0.081 0.082 0.083 0.084\n",
      " 0.085 0.086 0.087 0.088 0.089 0.09  0.091 0.092 0.093 0.094 0.095 0.096\n",
      " 0.097 0.098 0.099 0.1   0.101 0.102 0.103 0.104 0.105 0.106 0.107 0.108\n",
      " 0.109 0.11  0.111 0.112 0.113 0.114 0.115 0.116 0.117 0.118 0.119 0.12\n",
      " 0.121 0.122 0.123 0.124 0.125 0.126 0.127 0.128 0.129 0.13  0.131 0.132\n",
      " 0.133 0.134 0.135 0.136 0.137 0.138 0.139 0.14  0.141 0.142 0.143 0.144\n",
      " 0.145 0.146 0.147 0.148 0.149 0.15  0.151 0.152 0.153 0.154 0.155 0.156\n",
      " 0.157 0.158 0.159 0.16  0.161 0.162 0.163 0.164 0.165 0.166 0.167 0.168\n",
      " 0.169 0.17  0.171 0.172 0.173 0.174 0.175 0.176 0.177 0.178 0.179 0.18\n",
      " 0.181 0.182 0.183 0.184 0.185 0.186 0.187 0.188 0.189 0.19  0.191 0.192\n",
      " 0.193 0.194 0.195 0.196 0.197 0.198 0.199 0.2   0.201 0.202 0.203 0.204\n",
      " 0.205 0.206 0.207 0.208 0.209 0.21  0.211 0.212 0.213 0.214 0.215 0.216\n",
      " 0.217 0.218 0.219 0.22  0.221 0.222 0.223 0.224 0.225 0.226 0.227 0.228\n",
      " 0.229 0.23  0.231 0.232 0.233 0.234 0.235 0.236 0.237 0.238 0.239 0.24\n",
      " 0.241 0.242 0.243 0.244 0.245 0.246 0.247 0.248 0.249 0.25  0.251 0.252\n",
      " 0.253 0.254 0.255 0.256 0.257 0.258 0.259 0.26  0.261 0.262 0.263 0.264\n",
      " 0.265 0.266 0.267 0.268 0.269 0.27  0.271 0.272 0.273 0.274 0.275 0.276\n",
      " 0.277 0.278 0.279 0.28  0.281 0.282 0.283 0.284 0.285 0.286 0.287 0.288\n",
      " 0.289 0.29  0.291 0.292 0.293 0.294 0.295 0.296 0.297 0.298 0.299 0.3\n",
      " 0.301 0.302 0.303 0.304 0.305 0.306 0.307 0.308 0.309 0.31  0.311 0.312\n",
      " 0.313 0.314 0.315 0.316 0.317 0.318 0.319 0.32  0.321 0.322 0.323 0.324\n",
      " 0.325 0.326 0.327 0.328 0.329 0.33  0.331 0.332 0.333 0.334 0.335 0.336\n",
      " 0.337 0.338 0.339 0.34  0.341 0.342 0.343 0.344 0.345 0.346 0.347 0.348\n",
      " 0.349 0.35  0.351 0.352 0.353 0.354 0.355 0.356 0.357 0.358 0.359 0.36\n",
      " 0.361 0.362 0.363 0.364 0.365 0.366 0.367 0.368 0.369 0.37  0.371 0.372\n",
      " 0.373 0.374 0.375 0.376 0.377 0.378 0.379 0.38  0.381 0.382 0.383 0.384\n",
      " 0.385 0.386 0.387 0.388 0.389 0.39  0.391 0.392 0.393 0.394 0.395 0.396\n",
      " 0.397 0.398 0.399 0.4   0.401 0.402 0.403 0.404 0.405 0.406 0.407 0.408\n",
      " 0.409 0.41  0.411 0.412 0.413 0.414 0.415 0.416 0.417 0.418 0.419 0.42\n",
      " 0.421 0.422 0.423 0.424 0.425 0.426 0.427 0.428 0.429 0.43  0.431 0.432\n",
      " 0.433 0.434 0.435 0.436 0.437 0.438 0.439 0.44  0.441 0.442 0.443 0.444\n",
      " 0.445 0.446 0.447 0.448 0.449 0.45  0.451 0.452 0.453 0.454 0.455 0.456\n",
      " 0.457 0.458 0.459 0.46  0.461 0.462 0.463 0.464 0.465 0.466 0.467 0.468\n",
      " 0.469 0.47  0.471 0.472 0.473 0.474 0.475 0.476 0.477 0.478 0.479 0.48\n",
      " 0.481 0.482 0.483 0.484 0.485 0.486 0.487 0.488 0.489 0.49  0.491 0.492\n",
      " 0.493 0.494 0.495 0.496 0.497 0.498 0.499 0.5   0.501 0.502 0.503 0.504\n",
      " 0.505 0.506 0.507 0.508 0.509 0.51  0.511 0.512 0.513 0.514 0.515 0.516\n",
      " 0.517 0.518 0.519 0.52  0.521 0.522 0.523 0.524 0.525 0.526 0.527 0.528\n",
      " 0.529 0.53  0.531 0.532 0.533 0.534 0.535 0.536 0.537 0.538 0.539 0.54\n",
      " 0.541 0.542 0.543 0.544 0.545 0.546 0.547 0.548 0.549 0.55  0.551 0.552\n",
      " 0.553 0.554 0.555 0.556 0.557 0.558 0.559 0.56  0.561 0.562 0.563 0.564\n",
      " 0.565 0.566 0.567 0.568 0.569 0.57  0.571 0.572 0.573 0.574 0.575 0.576\n",
      " 0.577 0.578 0.579 0.58  0.581 0.582 0.583 0.584 0.585 0.586 0.587 0.588\n",
      " 0.589 0.59  0.591 0.592 0.593 0.594 0.595 0.596 0.597 0.598 0.599 0.6\n",
      " 0.601 0.602 0.603 0.604 0.605 0.606 0.607 0.608 0.609 0.61  0.611 0.612\n",
      " 0.613 0.614 0.615 0.616 0.617 0.618 0.619 0.62  0.621 0.622 0.623 0.624\n",
      " 0.625 0.626 0.627 0.628 0.629 0.63  0.631 0.632 0.633 0.634 0.635 0.636\n",
      " 0.637 0.638 0.639 0.64  0.641 0.642 0.643 0.644 0.645 0.646 0.647 0.648\n",
      " 0.649 0.65  0.651 0.652 0.653 0.654 0.655 0.656 0.657 0.658 0.659 0.66\n",
      " 0.661 0.662 0.663 0.664 0.665 0.666 0.667 0.668 0.669 0.67  0.671 0.672\n",
      " 0.673 0.674 0.675 0.676 0.677 0.678 0.679 0.68  0.681 0.682 0.683 0.684\n",
      " 0.685 0.686 0.687 0.688 0.689 0.69  0.691 0.692 0.693 0.694 0.695 0.696\n",
      " 0.697 0.698 0.699 0.7   0.701 0.702 0.703 0.704 0.705 0.706 0.707 0.708\n",
      " 0.709 0.71  0.711 0.712 0.713 0.714 0.715 0.716 0.717 0.718 0.719 0.72\n",
      " 0.721 0.722 0.723 0.724 0.725 0.726 0.727 0.728 0.729 0.73  0.731 0.732\n",
      " 0.733 0.734 0.735 0.736 0.737 0.738 0.739 0.74  0.741 0.742 0.743 0.744\n",
      " 0.745 0.746 0.747 0.748 0.749 0.75  0.751 0.752 0.753 0.754 0.755 0.756\n",
      " 0.757 0.758 0.759 0.76  0.761 0.762 0.763 0.764 0.765 0.766 0.767 0.768\n",
      " 0.769 0.77  0.771 0.772 0.773 0.774 0.775 0.776 0.777 0.778 0.779 0.78\n",
      " 0.781 0.782 0.783 0.784 0.785 0.786 0.787 0.788 0.789 0.79  0.791 0.792\n",
      " 0.793 0.794 0.795 0.796 0.797 0.798 0.799 0.8   0.801 0.802 0.803 0.804\n",
      " 0.805 0.806 0.807 0.808 0.809 0.81  0.811 0.812 0.813 0.814 0.815 0.816\n",
      " 0.817 0.818 0.819 0.82  0.821 0.822 0.823 0.824 0.825 0.826 0.827 0.828\n",
      " 0.829 0.83  0.831 0.832 0.833 0.834 0.835 0.836 0.837 0.838 0.839 0.84\n",
      " 0.841 0.842 0.843 0.844 0.845 0.846 0.847 0.848 0.849 0.85  0.851 0.852\n",
      " 0.853 0.854 0.855 0.856 0.857 0.858 0.859 0.86  0.861 0.862 0.863 0.864\n",
      " 0.865 0.866 0.867 0.868 0.869 0.87  0.871 0.872 0.873 0.874 0.875 0.876\n",
      " 0.877 0.878 0.879 0.88  0.881 0.882 0.883 0.884 0.885 0.886 0.887 0.888\n",
      " 0.889 0.89  0.891 0.892 0.893 0.894 0.895 0.896 0.897 0.898 0.899 0.9\n",
      " 0.901 0.902 0.903 0.904 0.905 0.906 0.907 0.908 0.909 0.91  0.911 0.912\n",
      " 0.913 0.914 0.915 0.916 0.917 0.918 0.919 0.92  0.921 0.922 0.923 0.924\n",
      " 0.925 0.926 0.927 0.928 0.929 0.93  0.931 0.932 0.933 0.934 0.935 0.936\n",
      " 0.937 0.938 0.939 0.94  0.941 0.942 0.943 0.944 0.945 0.946 0.947 0.948\n",
      " 0.949 0.95  0.951 0.952 0.953 0.954 0.955 0.956 0.957 0.958 0.959 0.96\n",
      " 0.961 0.962 0.963 0.964 0.965 0.966 0.967 0.968 0.969 0.97  0.971 0.972\n",
      " 0.973 0.974 0.975 0.976 0.977 0.978 0.979 0.98  0.981 0.982 0.983 0.984\n",
      " 0.985 0.986 0.987 0.988 0.989 0.99  0.991 0.992 0.993 0.994 0.995 0.996\n",
      " 0.997 0.998 0.999]\n"
     ]
    },
    {
     "data": {
      "image/png": "[encoded data removed]",
      "text/plain": [
       "<Figure size 640x480 with 1 Axes>"
      ]
     },
     "metadata": {},
     "output_type": "display_data"
    }
   ],
   "source": [
    "plt.plot(s_value_array, output_list)\n",
    "plt.xlabel('s = 1/Number of Steps')\n",
    "plt.ylabel('Observable Error')\n",
    "print(s_value_array)"
   ]
  },
  {
   "cell_type": "code",
   "execution_count": 22,
   "id": "c9b09168",
   "metadata": {},
   "outputs": [
    {
     "data": {
      "text/plain": [
       "[<matplotlib.lines.Line2D at 0x2adac3cfcd0>]"
      ]
     },
     "execution_count": 22,
     "metadata": {},
     "output_type": "execute_result"
    },
    {
     "data": {
      "image/png": "[encoded data removed]",
      "text/plain": [
       "<Figure size 640x480 with 1 Axes>"
      ]
     },
     "metadata": {},
     "output_type": "display_data"
    }
   ],
   "source": [
    "\n",
    "plt.semilogy(s_value_array, output_list)"
   ]
  },
  {
   "cell_type": "code",
   "execution_count": null,
   "id": "90648ae7",
   "metadata": {},
   "outputs": [],
   "source": [
    "# Parameters\n",
    "nqubits = 4\n",
    "h = 0\n",
    "steps = 1000\n",
    "T = 8\n",
    "\n",
    "# Generate a list of random coefficients.\n",
    "hlist = (np.random.rand(nqubits)*2 -1)*h\n",
    "\n",
    "# Trotter pieces: group the odd and even Hamiltonian terms.\n",
    "\n",
    "Even = sigma_dot_sigma(0, 1, nqubits)\n",
    "for j in range(2,nqubits,2):\n",
    "    Even += sigma_dot_sigma(j, (j+1)%nqubits, nqubits)\n",
    "\n",
    "Odd = sigma_dot_sigma(1, 2%nqubits, nqubits)\n",
    "for j in range(3,nqubits,2):\n",
    "    Odd += sigma_dot_sigma(j, (j+1)%nqubits, nqubits)\n",
    "    \n",
    "Potential = np.sum([hlist[j]*sparse_pauli({j:'Z'}, nqubits) for j in range(nqubits)], axis = 0)\n",
    "\n",
    "Hlist = [Even, Odd, Potential]\n",
    "\n",
    "Even_terms = Even\n",
    "Odd_terms = Odd\n",
    "\n",
    "\n",
    "A = Uexact(heisenbergH(nqubits, hlist), T)\n",
    "B = Utrot_long(Hlist, T, steps)"
   ]
  },
  {
   "cell_type": "markdown",
   "id": "6a8f7a47",
   "metadata": {},
   "source": [
    "# Checking"
   ]
  },
  {
   "cell_type": "code",
   "execution_count": 10,
   "id": "c880258e",
   "metadata": {
    "tags": []
   },
   "outputs": [
    {
     "data": {
      "text/plain": [
       "Text(0, 0.5, 'Observable Error')"
      ]
     },
     "execution_count": 10,
     "metadata": {},
     "output_type": "execute_result"
    },
    {
     "data": {
      "image/png": "[encoded data removed]",
      "text/plain": [
       "<Figure size 640x480 with 1 Axes>"
      ]
     },
     "metadata": {},
     "output_type": "display_data"
    }
   ],
   "source": [
    "## Checking time evolution on n-qubits does decrease as the step number increases.\n",
    "# Define initial parameters.\n",
    "time = 10\n",
    "local_obs = observable([{0: 'Z'},{nqubits-1: 'X'}, {1: 'X'} ], nqubits)\n",
    "state = sparse_bitstring(list(np.arange(nqubits)), nqubits)\n",
    "\n",
    "# Exact Evolution\n",
    "Hamiltonian = heisenbergH(nqubits, hlist)\n",
    "C_mat =  Uexact(Hamiltonian, time)\n",
    "\n",
    "# Inexact Evolution\n",
    "steps = min_step_number(nqubits, hlist, time)\n",
    "D_mat = Utrot_long(Hlist, time, steps )\n",
    "\n",
    "\n",
    "min_no_steps = min_step_number(nqubits, hlist, time)\n",
    "max_s_value = 1/min_step_number(nqubits, hlist, time)\n",
    "\n",
    "s_step_size = max_s_value/1000\n",
    "\n",
    "\n",
    "s_value_array = np.arange(s_step_size, max_s_value, s_step_size)\n",
    "step_value_array = [1/s for s in s_value_array]\n",
    "D_array = [ Utrot_long(Hlist, time, step ) for step in step_value_array]\n",
    "\n",
    "# Difference in norms of evolution operators\n",
    "norm_diff_array = [sla.norm(C_mat-D,2) for D in D_array]\n",
    "\n",
    "# Now calculate the difference between the exact and Trotterized expectation values.\n",
    "exact_expectation = Exact_Expectation(Hamiltonian, state, time, local_obs)\n",
    "observable_diff_array = [ exact_expectation - Trotterized_Expectation(Hlist, state, time, 1/x, local_obs, order = 1) for x in step_value_array]\n",
    "\n",
    "# Plot the norm of the difference between the norms of exact and Trotterised evolution\n",
    "#plt.plot(step_value_array, norm_diff_array )\n",
    "\n",
    "# Plot the difference between the local observables of exact vs Trotterised.\n",
    "plt.plot(step_value_array, observable_diff_array )\n",
    "plt.xlabel('Number of Steps')\n",
    "plt.ylabel('Observable Error')\n"
   ]
  },
  {
   "cell_type": "code",
   "execution_count": null,
   "id": "247d28a4",
   "metadata": {},
   "outputs": [],
   "source": []
  },
  {
   "cell_type": "code",
   "execution_count": 203,
   "id": "63e970b4-e5cb-47bb-a511-9785147cfa1f",
   "metadata": {
    "tags": []
   },
   "outputs": [
    {
     "data": {
      "text/plain": [
       "0.015775987754208232"
      ]
     },
     "execution_count": 203,
     "metadata": {},
     "output_type": "execute_result"
    }
   ],
   "source": [
    "# Unitaries don't line up. Hamiltonians seem to match.\n",
    "sla.norm(A-B,2)"
   ]
  },
  {
   "cell_type": "code",
   "execution_count": 280,
   "id": "041f9663-feae-4e09-981b-270471873bc5",
   "metadata": {
    "tags": []
   },
   "outputs": [
    {
     "data": {
      "text/plain": [
       "2.220446049250313e-16"
      ]
     },
     "execution_count": 280,
     "metadata": {},
     "output_type": "execute_result"
    }
   ],
   "source": [
    "# Hamiltonians line  up\n",
    "sla.norm(heisenbergH(nqubits, hlist) - np.sum(Hlist,axis=0),2)"
   ]
  },
  {
   "cell_type": "code",
   "execution_count": 299,
   "id": "b467fa85-91ea-4e76-b798-4115118adb8f",
   "metadata": {
    "tags": []
   },
   "outputs": [
    {
     "data": {
      "text/plain": [
       "-1.9999999999998852"
      ]
     },
     "execution_count": 299,
     "metadata": {},
     "output_type": "execute_result"
    }
   ],
   "source": [
    "Trotterized_Expectation(Hlist, state, 100, max_s_value, local_obs, order = 1)"
   ]
  },
  {
   "cell_type": "code",
   "execution_count": 81,
   "id": "ab85f56c-6766-444f-9bfd-8b4c3536797c",
   "metadata": {
    "tags": []
   },
   "outputs": [
    {
     "name": "stdout",
     "output_type": "stream",
     "text": [
      "0\n",
      "2\n",
      "4\n"
     ]
    }
   ],
   "source": [
    "for j in range(0,6,2):\n",
    "    print(j)"
   ]
  },
  {
   "cell_type": "code",
   "execution_count": 8,
   "id": "58de516d-670c-48a6-a860-b2b91ee2fdeb",
   "metadata": {},
   "outputs": [
    {
     "data": {
      "text/plain": [
       "[array([[0.+0.j, 1.+0.j],\n",
       "        [1.+0.j, 0.+0.j]]),\n",
       " array([[ 0.+0.j, -0.-1.j],\n",
       "        [ 0.+1.j,  0.+0.j]]),\n",
       " array([[ 1.+0.j,  0.+0.j],\n",
       "        [ 0.+0.j, -1.+0.j]])]"
      ]
     },
     "execution_count": 8,
     "metadata": {},
     "output_type": "execute_result"
    }
   ],
   "source": [
    "paulistring_to_list(\"XYZ\")"
   ]
  },
  {
   "cell_type": "code",
   "execution_count": 35,
   "id": "231f13ae",
   "metadata": {},
   "outputs": [
    {
     "name": "stdout",
     "output_type": "stream",
     "text": [
      "<class 'dict'>\n"
     ]
    }
   ],
   "source": [
    "List_Pauli =[{0: X, 3:Z, 5:X}, {1: X}]\n",
    "print( type(List_Pauli[0]))"
   ]
  },
  {
   "cell_type": "code",
   "execution_count": 43,
   "id": "77f5ba10",
   "metadata": {},
   "outputs": [
    {
     "data": {
      "text/plain": [
       "0.0"
      ]
     },
     "execution_count": 43,
     "metadata": {},
     "output_type": "execute_result"
    }
   ],
   "source": [
    "sla.norm(observable([{0: 'X', 3:'Z', 5:'X'}, {1: 'X'}], 6) - sparse_pauli( {0: 'X', 3:'Z', 5:'X'}, 6 ) - sparse_pauli( {1: 'X'}, 6 ),2)\n",
    "\n",
    "#sparse_pauli( {0: 'X', 3:'Z', 5:'X'}, 6 )"
   ]
  },
  {
   "cell_type": "code",
   "execution_count": 96,
   "id": "25650fd9",
   "metadata": {},
   "outputs": [
    {
     "name": "stdout",
     "output_type": "stream",
     "text": [
      "[[ 1.+0.j  1.+0.j  0.+0.j  0.+0.j]\n",
      " [ 1.+0.j  1.+0.j  0.+0.j  0.+0.j]\n",
      " [ 0.+0.j  0.+0.j -1.+0.j  1.+0.j]\n",
      " [ 0.+0.j  0.+0.j  1.+0.j -1.+0.j]]\n",
      "[0.+0.j 0.+0.j 0.+0.j 1.+0.j]\n",
      "(-1+0j)\n"
     ]
    }
   ],
   "source": [
    "local_obs = observable([{0: 'Z'},{1: 'X'} ], 2)\n",
    "state = sparse_bitstring([0,1], 2)\n",
    "print(local_obs)\n",
    "print(state)\n",
    "print(expectation_value(state, local_obs))"
   ]
  },
  {
   "cell_type": "code",
   "execution_count": 117,
   "id": "40d1b7cb",
   "metadata": {},
   "outputs": [
    {
     "data": {
      "text/plain": [
       "(-1.0000000000012996+0j)"
      ]
     },
     "execution_count": 117,
     "metadata": {},
     "output_type": "execute_result"
    }
   ],
   "source": [
    "Trotterized_Expectation(Hlist, state, 10, 0.0001, local_obs, order = 1)"
   ]
  },
  {
   "cell_type": "code",
   "execution_count": 116,
   "id": "1e6525c4",
   "metadata": {},
   "outputs": [
    {
     "data": {
      "text/plain": [
       "(-1.0000000000000009+0j)"
      ]
     },
     "execution_count": 116,
     "metadata": {},
     "output_type": "execute_result"
    }
   ],
   "source": [
    "Exact_Expectation(heisenbergH(2, hlist), state, 10, local_obs)"
   ]
  },
  {
   "cell_type": "code",
   "execution_count": 130,
   "id": "2fedb0aa",
   "metadata": {},
   "outputs": [
    {
     "data": {
      "text/plain": [
       "(3.164135620181696e-14+0j)"
      ]
     },
     "execution_count": 130,
     "metadata": {},
     "output_type": "execute_result"
    }
   ],
   "source": [
    "difference_function(Hlist, state, 100, 0.1, local_obs, 2, order = 1 )"
   ]
  },
  {
   "cell_type": "code",
   "execution_count": 235,
   "id": "f4ef2a5f",
   "metadata": {},
   "outputs": [
    {
     "data": {
      "text/plain": [
       "0.0"
      ]
     },
     "execution_count": 235,
     "metadata": {},
     "output_type": "execute_result"
    }
   ],
   "source": [
    "# Hamiltonians line  up\n",
    "Potential = np.sum([hlist[j]*sparse_pauli({j:'Z'}, nqubits) for j in range(nqubits)], axis = 0)\n",
    "sla.norm( Potential - (Hlist[2]),2)"
   ]
  },
  {
   "cell_type": "code",
   "execution_count": null,
   "id": "fdb2ccef",
   "metadata": {},
   "outputs": [],
   "source": []
  }
 ],
 "metadata": {
  "kernelspec": {
   "display_name": "Python 3 (ipykernel)",
   "language": "python",
   "name": "python3"
  },
  "language_info": {
   "codemirror_mode": {
    "name": "ipython",
    "version": 3
   },
   "file_extension": ".py",
   "mimetype": "text/x-python",
   "name": "python",
   "nbconvert_exporter": "python",
   "pygments_lexer": "ipython3",
   "version": "3.9.13"
  }
 },
 "nbformat": 4,
 "nbformat_minor": 5
}
