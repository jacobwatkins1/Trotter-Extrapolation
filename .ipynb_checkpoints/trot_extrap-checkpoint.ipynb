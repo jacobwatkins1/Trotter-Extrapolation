{
 "cells": [
  {
   "cell_type": "markdown",
   "id": "b5c007c9-ef1d-48e0-a9a2-27ff9c95ff37",
   "metadata": {},
   "source": [
    "# Trotter Extrapolation\n",
    "\n",
    "## James D. Watson, Jacob Watkins\n",
    "## August 2023"
   ]
  },
  {
   "cell_type": "markdown",
   "id": "70f8d735-16c2-4ee0-860c-ad2bccde0d24",
   "metadata": {},
   "source": [
    "### TODO:\n",
    "\n",
    "- Generalize Trotter code to any order formula (currently first order), or at least 2nd order\n",
    "- Calculate observable (Magnetization? Something local to one qubit?)"
   ]
  },
  {
   "cell_type": "markdown",
   "id": "06cf71a0-6a31-4865-a0db-a916f87f6d40",
   "metadata": {},
   "source": [
    "## Theory"
   ]
  },
  {
   "cell_type": "markdown",
   "id": "0b45fdaf-3f74-4887-bdc9-8860d1c538a2",
   "metadata": {},
   "source": [
    "From Equation (1) of [this text](https://arxiv.org/abs/1711.10980), we want to simulate the 1D Heisenberg model.\n",
    "\n",
    "$$\n",
    "H = \\sum_{i=1}^n \\sigma_i \\cdot \\sigma_{i+1} + h_j \\sigma_j^z\n",
    "$$\n",
    "\n",
    "with $h_j \\in [-h,h]$ randomly and uniformly sampled. Suppose we wish to simulate $e^{-i H T}$ on a quantum computer using product formulas. A natural choice is to split according to even-odd staggering of the interaction term, and then do the $Z$ rotations in their own grouping. If $n$ is odd, there will be one term left over. I don't think we should fret, probably just choose even $n$ for simplicity since we are only exploring our method. "
   ]
  },
  {
   "cell_type": "code",
   "execution_count": 153,
   "id": "a44fc2f7-ab7d-44eb-b0b1-fbdf442207f1",
   "metadata": {
    "tags": []
   },
   "outputs": [],
   "source": [
    "# Imports\n",
    "\n",
    "import numpy as np\n",
    "import scipy.linalg as sla\n",
    "import numpy.linalg as nla\n",
    "import matplotlib.pyplot as plt"
   ]
  },
  {
   "cell_type": "markdown",
   "id": "be8104a6-55ec-4a94-8e77-2239c7588c08",
   "metadata": {
    "tags": []
   },
   "source": [
    "## Useful Pauli and qubit manipulations"
   ]
  },
  {
   "cell_type": "code",
   "execution_count": 3,
   "id": "6e00eefe-fab1-4b46-8b9a-e250629167fa",
   "metadata": {
    "tags": []
   },
   "outputs": [],
   "source": [
    "# Computes Kronecker (tensor) product of a list of matrices\n",
    "# Example:\n",
    "# Input: [X,Y,Z,Y]\n",
    "# Return: X \\ox Y \\ox Z \\ox Y\n",
    "def kron_list(matrix_list):\n",
    "    result = matrix_list[0]\n",
    "    for i in range(1,len(matrix_list)):\n",
    "        result = np.kron(result,matrix_list[i])\n",
    "        \n",
    "    return result\n",
    "\n",
    "# Pauli matrices\n",
    "I = np.array([[1.,0],[0,1.]], dtype='complex')\n",
    "X = np.array([[0,1.],[1.,0]], dtype='complex')\n",
    "Y = np.array([[0,-1.j],[1.j,0]], dtype='complex')\n",
    "Z = np.array([[1.,0],[0,-1.]], dtype='complex')\n",
    "\n",
    "# Converts string representation of paulis to list of matrices,\n",
    "# Example:\n",
    "# Input: \"XYZY\"\n",
    "# Return: [X,Y,Z,Y]\n",
    "def paulistring_to_list(paulistring): \n",
    "    matrix_list = list(paulistring)\n",
    "    translate = {'I':I, 'X':X, 'Y':Y, 'Z':Z}\n",
    "    for p in range(len(paulistring)):\n",
    "        matrix_list[p] = translate[matrix_list[p]]\n",
    "    return matrix_list\n",
    "\n",
    "# Computes generalized pauli matrix, given a string in standard form,\n",
    "# Example:\n",
    "# Input: \"XYZY\"\n",
    "# Return: X \\ox Y \\ox Z \\ox Y\n",
    "def pauli_matrix(paulistring):\n",
    "    return kron_list(paulistring_to_list(paulistring))\n",
    "\n",
    "# Computes generalized pauli matrix, specified by non-identity pieces. Nonidentities encoded as dictionary\n",
    "# of the form {k:'P', ..., } where k is the integer location and P is a pauli\n",
    "# Example:\n",
    "# Input: {0: 'X', 3:'Z', 5:'X'}, 6\n",
    "# Return: X\\ox I \\ox  Z \\ox I \\ox I \\ox X\n",
    "def sparse_pauli(nonidentities, nqubits):\n",
    "    #starting string is all identity\n",
    "    paulilist = []\n",
    "    for i in range(0, nqubits):\n",
    "        paulilist.append('I')\n",
    "    \n",
    "    #Change string to paulis specified by dictionary\n",
    "    for key in nonidentities:\n",
    "        paulilist[key] = nonidentities[key]\n",
    "    paulistring = ''.join(paulilist)\n",
    "    \n",
    "    return pauli_matrix(paulistring) \n",
    "\n",
    "# Returns the matrix of \\sigma . \\sigma between sites i and j\n",
    "# Example:\n",
    "# Input: 0,1,4\n",
    "# Return: X\\ox X \\ox I \\ox I + Y\\ox Y \\ox I \\ox I + Z\\ox Z \\ox I \\ox I\n",
    "def sigma_dot_sigma(i,j,nqubits):\n",
    "    return sparse_pauli({i:'X',j:'X'},nqubits) + sparse_pauli({i:'Y',j:'Y'},nqubits) + sparse_pauli({i:'Z',j:'Z'},nqubits)\n",
    "\n",
    "# Qubit computational basis\n",
    "zero = np.array([1.,0], dtype ='complex')\n",
    "one = np.array([0,1.], dtype ='complex')\n",
    "\n",
    "# Convert bitstring to list of single-qubit kets\n",
    "# Example: \n",
    "# Input: \"0101\"\n",
    "# Output: list( (1,0), (0,1), (1,0), (0,1) )\n",
    "def bitstring_to_list(bitstring):\n",
    "    bitlist = list(bitstring)\n",
    "    translate = {'0':zero, '1':one}\n",
    "    for b in range(len(bitstring)):\n",
    "        bitlist[b] = translate[bitlist[b]]\n",
    "    return bitlist\n",
    "\n",
    "# Convert bitstring to full vector/array describing each qubit.\n",
    "# Example: \n",
    "# Input: \"0101\"\n",
    "# Output:  (1,0) \\ox (0,1) \\ox (1,0) \\ox (0,1) \n",
    "def basis_ket(bitstring):\n",
    "    return kron_list(bitstring_to_list(bitstring))\n",
    "\n",
    "\n",
    "# Outputs a bit string with certain positions set to 1, and otherwise set to zero:\n",
    "# Example: \n",
    "# Input: [0,1,2],3\n",
    "# Output:  (0,0,0,0,0,0,0,0,1)\n",
    "def sparse_bitstring(ones, nqubits):\n",
    "    bitlist = []\n",
    "    for i in range(0,nqubits):\n",
    "        bitlist.append('0')\n",
    "    \n",
    "    #Flip certain bits to one, as specified by dictionary\n",
    "    for qubit in ones:\n",
    "        bitlist[qubit] = '1'\n",
    "    bitstring = ''.join(bitlist)\n",
    "    \n",
    "    return basis_ket(bitstring)"
   ]
  },
  {
   "cell_type": "markdown",
   "id": "dd8bb0f9-b88a-4427-8810-62a48cc883b0",
   "metadata": {},
   "source": [
    "## Chebyshev functions\n",
    "\n",
    "`np.polynomial.chebyshev` is a class for chebyshev polynomials. Looks new and somewhat untested."
   ]
  },
  {
   "cell_type": "code",
   "execution_count": 4,
   "id": "4be6507b-b85e-4760-aa0b-49a0dc598fe4",
   "metadata": {
    "tags": []
   },
   "outputs": [],
   "source": [
    "def cheb_nodes(n, width = 1, center = 0):\n",
    "    nodes = np.zeros(n)\n",
    "    for j in range(n):\n",
    "        nodes[n-j-1] = center + (width/2)* np.cos((2*j+1)*np.pi/(2*n))\n",
    "    return nodes"
   ]
  },
  {
   "cell_type": "markdown",
   "id": "b75a9bf3-a7c4-4e27-aad1-f30d652b607b",
   "metadata": {
    "tags": []
   },
   "source": [
    "## Simulation functions"
   ]
  },
  {
   "cell_type": "code",
   "execution_count": 84,
   "id": "e715826b-5467-4cb2-b571-b0cacfda74af",
   "metadata": {
    "tags": []
   },
   "outputs": [],
   "source": [
    "# Generates the 1D Heisenberg chain Hamiltonian specified in the introduction.\n",
    "def heisenbergH(nqubits, hlist):\n",
    "    H = sigma_dot_sigma(0,1,nqubits) + hlist[0]*sparse_pauli({0:'Z'}, nqubits)\n",
    "    for j in range(1, nqubits):\n",
    "        H += sigma_dot_sigma(j, (j+1)%nqubits, nqubits) + hlist[j]*sparse_pauli({j:'Z'}, nqubits)\n",
    "    return H\n",
    "\n",
    "# Generates the exact time evolution.\n",
    "def Uexact(H, T):\n",
    "    return sla.expm(-1.j*H*T)\n",
    "\n",
    "# TODO: generalize for higher order formulas (or at least 2).\n",
    "# First term in Hlist is applied to state first\n",
    "def Utrot_short(Hlist, t, order = 1):\n",
    "    m = len(Hlist) # number of terms\n",
    "    result = sla.expm(-1.j*Hlist[0]*t)\n",
    "    for k in range(1,m):\n",
    "        result = sla.expm(-1.j*Hlist[k]*t) @ result\n",
    "    \n",
    "    return result\n",
    "    \n",
    "# Code only works for first order\n",
    "def Utrot_long(Hlist, T, steps, order = 1):\n",
    "    single_step = Utrot_short(Hlist, T/steps, order)\n",
    "    \n",
    "    integer_steps = int( np.floor(steps) )\n",
    "    fractional_step = steps - integer_steps\n",
    "    \n",
    "    integer_step_evolve = nla.matrix_power(single_step, integer_steps)\n",
    "    fractional_step_evolve = sla.fractional_matrix_power(single_step, fractional_step)\n",
    "    \n",
    "    total_evolution = integer_step_evolve @ fractional_step_evolve \n",
    "    \n",
    "    return total_evolution\n",
    "\n",
    "# Computes the 1-norm characterising the Hamiltonian & number of steps needed.\n",
    "def Heisenberg_one_norm(nqubits, hlist):\n",
    "    \n",
    "    # First compute norm associated with the 2 qubit \\sigma.\\sigma terms.\n",
    "    norm = (nqubits-1)*3\n",
    "    \n",
    "    # Compute part of norm associated with single-qubit terms.\n",
    "    k = 0\n",
    "    for k in range(nqubits):\n",
    "        norm += np.abs( hlist[k] )\n",
    "        \n",
    "    return norm"
   ]
  },
  {
   "cell_type": "markdown",
   "id": "2e1c7c66",
   "metadata": {},
   "source": [
    "# Generate Breakdown of the Heisenberg Hamiltonian"
   ]
  },
  {
   "cell_type": "code",
   "execution_count": 142,
   "id": "5ed39f22",
   "metadata": {},
   "outputs": [],
   "source": [
    "## Define the even, odd and potential terms for an arbitrary nunber of qubits and a given hlist.\n",
    "\n",
    "def Even_Heisenberg_Terms(nqubits):\n",
    "    Even = sigma_dot_sigma(0, 1, nqubits)\n",
    "    for j in range(2,nqubits,2):\n",
    "        Even += sigma_dot_sigma(j, (j+1)%nqubits, nqubits)\n",
    "        \n",
    "    return Even\n",
    "\n",
    "def Odd_Heisenberg_Terms(nqubits):\n",
    "    \n",
    "    Odd = sigma_dot_sigma(1, 2%nqubits, nqubits)\n",
    "    for j in range(3,nqubits,2):\n",
    "        Odd += sigma_dot_sigma(j, (j+1)%nqubits, nqubits)\n",
    "        \n",
    "        \n",
    "    return Odd\n",
    "\n",
    "def Potential_Heisenberg_Terms(nqubits, hlist):\n",
    "    \n",
    "    Potential = np.sum([hlist[j]*sparse_pauli({j:'Z'}, nqubits) for j in range(nqubits)], axis = 0)\n",
    "        \n",
    "    return Potential\n",
    "\n",
    "\n"
   ]
  },
  {
   "cell_type": "markdown",
   "id": "c429b48d",
   "metadata": {},
   "source": [
    "# Local Observable and Expectation Value Functions"
   ]
  },
  {
   "cell_type": "code",
   "execution_count": 289,
   "id": "e2617173",
   "metadata": {},
   "outputs": [],
   "source": [
    "## Define a Local Observable:\n",
    "\n",
    "## Computes  Hermitian observable, specified by Pauli strings. Input is a list of dictionaries: nonidentities encoded as dictionary\n",
    "## of the form {k:'P', ..., } where k is the integer location and P is a pauli. Pauli strings are then input as list.\n",
    "# Example:\n",
    "# Input: [{0: 'X', 3:'Z', 5:'X'}, {1: 'X'}], 6\n",
    "# Return: X\\ox I \\ox  Z \\ox I \\ox I \\ox X + I\\ox X \\ox  I \\ox I \\ox I \\ox I\n",
    "def observable(List_Pauli_strings, nqubits):\n",
    "\n",
    "    local_observable = 0\n",
    "    for k in range(len(List_Pauli_strings)):\n",
    "        local_observable +=  sparse_pauli( List_Pauli_strings[k], nqubits )\n",
    "    \n",
    "    return local_observable\n",
    "\n",
    "## Take expectation value of 'observable' with respect to to 'state'\n",
    "# Example:\n",
    "# Input: sparse_bitstring([0], 1), observable([{0: 'Z'}], 1) \n",
    "# Output: -1\n",
    "def expectation_value(state, observable):\n",
    "    \n",
    "    normalisation =   np.vdot(state, state )  \n",
    "    # Throw an exception if the state is not normalised.\n",
    "    if (normalisation -1) > 0.00001:\n",
    "        raise ValueError(\"State is not normalised\")\n",
    "    \n",
    "    # Calculate the expectation of the state. Use vdot to get complex conjugate.\n",
    "    expectation = np.vdot(state, observable.dot(state) )\n",
    "    \n",
    "    # Throw an exception if there is a significant imaginary part to the expectation value.\n",
    "    if np.abs(expectation.imag) > 0.00001:\n",
    "        raise ValueError(\"Expectation value should be entirely real\")\n",
    "        \n",
    "    # Return only the real part of the expectation value (imaginary part should be zero).\n",
    "    return np.real(expectation)\n",
    "\n",
    "## Finds the expectation value with respect to the Trotterized time evolution. Define the function in terms of x = 1/steps.\n",
    "# Example: \n",
    "# Input: [Even, Odd, Potential], sparse_bitstring([0,1], 2), 10, 0.01, observable([{0: 'Z'}], 2) \n",
    "# Output: -1 + 0.j\n",
    "def Trotterized_Expectation(Hlist, initial_state, time, x, observable, order = 1):\n",
    "    \n",
    "    steps = 1/x\n",
    "    \n",
    "    # Calculate the Trotterized time-evolution operator and apply to the initial state.\n",
    "    Trotterized_evolution_operator = Utrot_long(Hlist, time, steps, order )\n",
    "    time_evolved_state = initial_state  @ Trotterized_evolution_operator\n",
    "    \n",
    "    return expectation_value(time_evolved_state, observable)\n",
    "    \n",
    "## Computes the time-evolved expectation value from the *exact* evolution.  \n",
    "# Example: \n",
    "# Input: heisenbergH(nqubits, hlist), sparse_bitstring([0,1], 2), 10, observable([{0: 'Z'}], 2) \n",
    "# Output: -1 + 0.j\n",
    "def Exact_Expectation(Hamiltonian, initial_state, time, observable):\n",
    "    \n",
    "    # Calculate the exact evolution operator.\n",
    "    evolution_operator = Uexact(Hamiltonian, time)\n",
    "    # Apply the exact evolution to the initial state.\n",
    "    time_evolved_state = initial_state  @ evolution_operator\n",
    "    \n",
    "    return expectation_value(time_evolved_state, observable)\n",
    "\n",
    "## Compares the difference between the exact and Trotterized expecation values.\n",
    "def difference_function(Hlist, initial_state, time, x, observable, nqubits, order = 1 ):\n",
    "    \n",
    "    # Calculate full Heisenberg Hamiltonian. hlist = Hlist[2]\n",
    "    Hamiltonian = heisenbergH(nqubits, Hlist[2])\n",
    "    #Hamiltonian = np.sum(Hlist,axis=0)\n",
    "    \n",
    "    # Calculate the difference between the exact evolution and the Trotter-zed evolution.\n",
    "    diff = Exact_Expectation(Hamiltonian, initial_state, time, observable) - Trotterized_Expectation(Hlist, initial_state, time, x, observable, order = 1)\n",
    "    \n",
    "    return diff\n",
    "\n",
    "## Calculates the minimum number of steps required analyticity to be maintained (using the one-norm bound).\n",
    "def min_step_number(nqubits, hlist, time):\n",
    "    \n",
    "    one_norm = Heisenberg_one_norm(nqubits, hlist)\n",
    "    min_step_no = np.ceil(one_norm*time)\n",
    "    \n",
    "    return float(min_step_no)\n"
   ]
  },
  {
   "cell_type": "code",
   "execution_count": 302,
   "id": "ad5df65d",
   "metadata": {},
   "outputs": [],
   "source": [
    "## Plot the difference function for different step values.\n",
    "nqubits = 5\n",
    "h = 1\n",
    "time = 10\n",
    "\n",
    "\n",
    "# Define the Hamiltonian and the groupings of its terms.\n",
    "hlist = (np.random.rand(nqubits)*2 -1)*h\n",
    "Hlist = [Even_Heisenberg_Terms(nqubits), Odd_Heisenberg_Terms(nqubits), Potential_Heisenberg_Terms(nqubits, hlist)]\n",
    "time = 1/Heisenberg_one_norm(nqubits, hlist)\n",
    "\n",
    "if sla.norm(heisenbergH(nqubits, hlist) - np.sum(Hlist,axis=0),2) > 0.0000001:\n",
    "    raise ValueError(\"Trotterised Hamiltonian is not equal to actual Hamiltonian\")\n",
    "\n",
    "\n",
    "local_obs = observable([{0: 'Z'},{nqubits-1: 'Z'} ], nqubits)\n",
    "state = sparse_bitstring(list(np.arange(nqubits)), nqubits)\n",
    "\n",
    "max_s_value = 1/min_step_number(nqubits, hlist, time)\n",
    "s_step_size = max_s_value/100\n",
    "\n",
    "s_value_array = np.arange(s_step_size, max_s_value, s_step_size)\n",
    "output_list = [difference_function(Hlist, state, time, s, local_obs, nqubits, order = 1 ) for s in s_value_array]\n",
    "\n"
   ]
  },
  {
   "cell_type": "code",
   "execution_count": 291,
   "id": "d2fce2b3",
   "metadata": {},
   "outputs": [
    {
     "name": "stdout",
     "output_type": "stream",
     "text": [
      "[0.01 0.02 0.03 0.04 0.05 0.06 0.07 0.08 0.09 0.1  0.11 0.12 0.13 0.14\n",
      " 0.15 0.16 0.17 0.18 0.19 0.2  0.21 0.22 0.23 0.24 0.25 0.26 0.27 0.28\n",
      " 0.29 0.3  0.31 0.32 0.33 0.34 0.35 0.36 0.37 0.38 0.39 0.4  0.41 0.42\n",
      " 0.43 0.44 0.45 0.46 0.47 0.48 0.49 0.5  0.51 0.52 0.53 0.54 0.55 0.56\n",
      " 0.57 0.58 0.59 0.6  0.61 0.62 0.63 0.64 0.65 0.66 0.67 0.68 0.69 0.7\n",
      " 0.71 0.72 0.73 0.74 0.75 0.76 0.77 0.78 0.79 0.8  0.81 0.82 0.83 0.84\n",
      " 0.85 0.86 0.87 0.88 0.89 0.9  0.91 0.92 0.93 0.94 0.95 0.96 0.97 0.98\n",
      " 0.99]\n"
     ]
    },
    {
     "data": {
      "image/png": "[encoded data removed]",
      "text/plain": [
       "<Figure size 640x480 with 1 Axes>"
      ]
     },
     "metadata": {},
     "output_type": "display_data"
    }
   ],
   "source": [
    "plt.plot(s_value_array, output_list)\n",
    "print(s_value_array)"
   ]
  },
  {
   "cell_type": "code",
   "execution_count": null,
   "id": "2f397cfe",
   "metadata": {},
   "outputs": [],
   "source": [
    "# Parameters\n",
    "nqubits = 4\n",
    "h = 0\n",
    "steps = 1000\n",
    "T = 8\n",
    "\n",
    "# Generate a list of random coefficients.\n",
    "hlist = (np.random.rand(nqubits)*2 -1)*h\n",
    "\n",
    "# Trotter pieces: group the odd and even Hamiltonian terms.\n",
    "\n",
    "Even = sigma_dot_sigma(0, 1, nqubits)\n",
    "for j in range(2,nqubits,2):\n",
    "    Even += sigma_dot_sigma(j, (j+1)%nqubits, nqubits)\n",
    "\n",
    "Odd = sigma_dot_sigma(1, 2%nqubits, nqubits)\n",
    "for j in range(3,nqubits,2):\n",
    "    Odd += sigma_dot_sigma(j, (j+1)%nqubits, nqubits)\n",
    "    \n",
    "Potential = np.sum([hlist[j]*sparse_pauli({j:'Z'}, nqubits) for j in range(nqubits)], axis = 0)\n",
    "\n",
    "Hlist = [Even, Odd, Potential]\n",
    "\n",
    "Even_terms = Even\n",
    "Odd_terms = Odd\n",
    "\n",
    "\n",
    "A = Uexact(heisenbergH(nqubits, hlist), T)\n",
    "B = Utrot_long(Hlist, T, steps)"
   ]
  },
  {
   "cell_type": "markdown",
   "id": "959c1c2e",
   "metadata": {},
   "source": [
    "# Checking"
   ]
  },
  {
   "cell_type": "code",
   "execution_count": 314,
   "id": "53544b95",
   "metadata": {
    "tags": []
   },
   "outputs": [
    {
     "data": {
      "text/plain": [
       "[<matplotlib.lines.Line2D at 0x211f5fe2850>]"
      ]
     },
     "execution_count": 314,
     "metadata": {},
     "output_type": "execute_result"
    },
    {
     "data": {
      "image/png": "[encoded data removed]",
      "text/plain": [
       "<Figure size 640x480 with 1 Axes>"
      ]
     },
     "metadata": {},
     "output_type": "display_data"
    }
   ],
   "source": [
    "## Checking time evolution on n-qubits does decrease as the step number increases.\n",
    "# Define initial parameters.\n",
    "time = 10\n",
    "local_obs = observable([{0: 'Z'},{nqubits-1: 'Z'} ], nqubits)\n",
    "state = sparse_bitstring(list(np.arange(nqubits)), nqubits)\n",
    "\n",
    "# Exact Evolution\n",
    "Hamiltonian = heisenbergH(nqubits, hlist)\n",
    "C_mat =  Uexact(Hamiltonian, time)\n",
    "\n",
    "# Inexact Evolution\n",
    "steps = min_step_number(nqubits, hlist, time)\n",
    "D_mat = Utrot_long(Hlist, time, steps )\n",
    "\n",
    "\n",
    "min_no_steps = min_step_number(nqubits, hlist, time)\n",
    "max_s_value = 1/min_step_number(nqubits, hlist, time)\n",
    "\n",
    "s_step_size = max_s_value/1000\n",
    "\n",
    "\n",
    "s_value_array = np.arange(s_step_size, max_s_value, s_step_size)\n",
    "step_value_array = [1/s for s in s_value_array]\n",
    "D_array = [ Utrot_long(Hlist, time, step ) for step in step_value_array]\n",
    "\n",
    "# Difference in norms of evolution operators\n",
    "norm_diff_array = [sla.norm(C_mat-D,2) for D in D_array]\n",
    "\n",
    "# Now calculate the difference between the exact and Trotterized expectation values.\n",
    "exact_expectation = Exact_Expectation(Hamiltonian, state, time, local_obs)\n",
    "observable_diff_array = [ exact_expectation - Trotterized_Expectation(Hlist, state, time, 1/x, local_obs, order = 1) for x in step_value_array]\n",
    "\n",
    "# Plot the norm of the difference between the norms of exact and Trotterised evolution\n",
    "plt.plot(step_value_array, norm_diff_array )\n",
    "# Plot the difference between the local observables of exact vs Trotterised.\n",
    "plt.plot(step_value_array, observable_diff_array )\n"
   ]
  },
  {
   "cell_type": "code",
   "execution_count": 310,
   "id": "f0cf628d",
   "metadata": {},
   "outputs": [
    {
     "name": "stdout",
     "output_type": "stream",
     "text": [
      "[14600.000000000002, 7300.000000000001, 4866.666666666667, 3650.0000000000005, 2920.0, 2433.333333333333, 2085.714285714286, 1825.0000000000002, 1622.2222222222222, 1460.0, 1327.2727272727273, 1216.6666666666667, 1123.076923076923, 1042.857142857143, 973.3333333333335, 912.5000000000001, 858.8235294117648, 811.1111111111111, 768.421052631579, 730.0, 695.2380952380952, 663.6363636363637, 634.7826086956522, 608.3333333333334, 584.0, 561.5384615384615, 540.7407407407408, 521.4285714285714, 503.44827586206907, 486.66666666666674, 470.96774193548396, 456.25000000000006, 442.4242424242425, 429.41176470588243, 417.1428571428572, 405.55555555555566, 394.59459459459464, 384.21052631578954, 374.35897435897436, 365.00000000000006, 356.0975609756098, 347.61904761904765, 339.5348837209303, 331.81818181818187, 324.4444444444445, 317.3913043478261, 310.63829787234044, 304.1666666666667, 297.95918367346945, 292.00000000000006, 286.2745098039216, 280.76923076923083, 275.4716981132076, 270.37037037037044, 265.4545454545455, 260.7142857142857, 256.14035087719304, 251.72413793103448, 247.45762711864404, 243.33333333333337, 239.344262295082, 235.48387096774192, 231.74603174603172, 228.12500000000003, 224.6153846153846, 221.21212121212122, 217.91044776119406, 214.7058823529412, 211.59420289855072, 208.57142857142856, 205.63380281690144, 202.77777777777777, 200.0, 197.29729729729732, 194.66666666666669, 192.10526315789474, 189.6103896103896, 187.17948717948718, 184.81012658227849, 182.5, 180.2469135802469, 178.0487804878049, 175.90361445783134, 173.8095238095238, 171.76470588235296, 169.7674418604651, 167.816091954023, 165.9090909090909, 164.04494382022472, 162.22222222222223, 160.43956043956044, 158.69565217391306, 156.98924731182797, 155.31914893617022, 153.68421052631578, 152.08333333333334, 150.51546391752578, 148.9795918367347, 147.4747474747475]\n"
     ]
    }
   ],
   "source": [
    "print(step_value_array)"
   ]
  },
  {
   "cell_type": "code",
   "execution_count": 203,
   "id": "63e970b4-e5cb-47bb-a511-9785147cfa1f",
   "metadata": {
    "tags": []
   },
   "outputs": [
    {
     "data": {
      "text/plain": [
       "0.015775987754208232"
      ]
     },
     "execution_count": 203,
     "metadata": {},
     "output_type": "execute_result"
    }
   ],
   "source": [
    "# Unitaries don't line up. Hamiltonians seem to match.\n",
    "sla.norm(A-B,2)"
   ]
  },
  {
   "cell_type": "code",
   "execution_count": 280,
   "id": "041f9663-feae-4e09-981b-270471873bc5",
   "metadata": {
    "tags": []
   },
   "outputs": [
    {
     "data": {
      "text/plain": [
       "2.220446049250313e-16"
      ]
     },
     "execution_count": 280,
     "metadata": {},
     "output_type": "execute_result"
    }
   ],
   "source": [
    "# Hamiltonians line  up\n",
    "sla.norm(heisenbergH(nqubits, hlist) - np.sum(Hlist,axis=0),2)"
   ]
  },
  {
   "cell_type": "code",
   "execution_count": 299,
   "id": "b467fa85-91ea-4e76-b798-4115118adb8f",
   "metadata": {
    "tags": []
   },
   "outputs": [
    {
     "data": {
      "text/plain": [
       "-1.9999999999998852"
      ]
     },
     "execution_count": 299,
     "metadata": {},
     "output_type": "execute_result"
    }
   ],
   "source": [
    "Trotterized_Expectation(Hlist, state, 100, max_s_value, local_obs, order = 1)"
   ]
  },
  {
   "cell_type": "code",
   "execution_count": 81,
   "id": "ab85f56c-6766-444f-9bfd-8b4c3536797c",
   "metadata": {
    "tags": []
   },
   "outputs": [
    {
     "name": "stdout",
     "output_type": "stream",
     "text": [
      "0\n",
      "2\n",
      "4\n"
     ]
    }
   ],
   "source": [
    "for j in range(0,6,2):\n",
    "    print(j)"
   ]
  },
  {
   "cell_type": "code",
   "execution_count": 8,
   "id": "58de516d-670c-48a6-a860-b2b91ee2fdeb",
   "metadata": {},
   "outputs": [
    {
     "data": {
      "text/plain": [
       "[array([[0.+0.j, 1.+0.j],\n",
       "        [1.+0.j, 0.+0.j]]),\n",
       " array([[ 0.+0.j, -0.-1.j],\n",
       "        [ 0.+1.j,  0.+0.j]]),\n",
       " array([[ 1.+0.j,  0.+0.j],\n",
       "        [ 0.+0.j, -1.+0.j]])]"
      ]
     },
     "execution_count": 8,
     "metadata": {},
     "output_type": "execute_result"
    }
   ],
   "source": [
    "paulistring_to_list(\"XYZ\")"
   ]
  },
  {
   "cell_type": "code",
   "execution_count": 35,
   "id": "231f13ae",
   "metadata": {},
   "outputs": [
    {
     "name": "stdout",
     "output_type": "stream",
     "text": [
      "<class 'dict'>\n"
     ]
    }
   ],
   "source": [
    "List_Pauli =[{0: X, 3:Z, 5:X}, {1: X}]\n",
    "print( type(List_Pauli[0]))"
   ]
  },
  {
   "cell_type": "code",
   "execution_count": 43,
   "id": "6bcd7273",
   "metadata": {},
   "outputs": [
    {
     "data": {
      "text/plain": [
       "0.0"
      ]
     },
     "execution_count": 43,
     "metadata": {},
     "output_type": "execute_result"
    }
   ],
   "source": [
    "sla.norm(observable([{0: 'X', 3:'Z', 5:'X'}, {1: 'X'}], 6) - sparse_pauli( {0: 'X', 3:'Z', 5:'X'}, 6 ) - sparse_pauli( {1: 'X'}, 6 ),2)\n",
    "\n",
    "#sparse_pauli( {0: 'X', 3:'Z', 5:'X'}, 6 )"
   ]
  },
  {
   "cell_type": "code",
   "execution_count": 96,
   "id": "1a18af18",
   "metadata": {},
   "outputs": [
    {
     "name": "stdout",
     "output_type": "stream",
     "text": [
      "[[ 1.+0.j  1.+0.j  0.+0.j  0.+0.j]\n",
      " [ 1.+0.j  1.+0.j  0.+0.j  0.+0.j]\n",
      " [ 0.+0.j  0.+0.j -1.+0.j  1.+0.j]\n",
      " [ 0.+0.j  0.+0.j  1.+0.j -1.+0.j]]\n",
      "[0.+0.j 0.+0.j 0.+0.j 1.+0.j]\n",
      "(-1+0j)\n"
     ]
    }
   ],
   "source": [
    "local_obs = observable([{0: 'Z'},{1: 'X'} ], 2)\n",
    "state = sparse_bitstring([0,1], 2)\n",
    "print(local_obs)\n",
    "print(state)\n",
    "print(expectation_value(state, local_obs))"
   ]
  },
  {
   "cell_type": "code",
   "execution_count": 117,
   "id": "d1fbdcf8",
   "metadata": {},
   "outputs": [
    {
     "data": {
      "text/plain": [
       "(-1.0000000000012996+0j)"
      ]
     },
     "execution_count": 117,
     "metadata": {},
     "output_type": "execute_result"
    }
   ],
   "source": [
    "Trotterized_Expectation(Hlist, state, 10, 0.0001, local_obs, order = 1)"
   ]
  },
  {
   "cell_type": "code",
   "execution_count": 116,
   "id": "bba3f0b7",
   "metadata": {},
   "outputs": [
    {
     "data": {
      "text/plain": [
       "(-1.0000000000000009+0j)"
      ]
     },
     "execution_count": 116,
     "metadata": {},
     "output_type": "execute_result"
    }
   ],
   "source": [
    "Exact_Expectation(heisenbergH(2, hlist), state, 10, local_obs)"
   ]
  },
  {
   "cell_type": "code",
   "execution_count": 130,
   "id": "d6a996e3",
   "metadata": {},
   "outputs": [
    {
     "data": {
      "text/plain": [
       "(3.164135620181696e-14+0j)"
      ]
     },
     "execution_count": 130,
     "metadata": {},
     "output_type": "execute_result"
    }
   ],
   "source": [
    "difference_function(Hlist, state, 100, 0.1, local_obs, 2, order = 1 )"
   ]
  },
  {
   "cell_type": "code",
   "execution_count": 235,
   "id": "5c3af95b",
   "metadata": {},
   "outputs": [
    {
     "data": {
      "text/plain": [
       "0.0"
      ]
     },
     "execution_count": 235,
     "metadata": {},
     "output_type": "execute_result"
    }
   ],
   "source": [
    "# Hamiltonians line  up\n",
    "Potential = np.sum([hlist[j]*sparse_pauli({j:'Z'}, nqubits) for j in range(nqubits)], axis = 0)\n",
    "sla.norm( Potential - (Hlist[2]),2)"
   ]
  },
  {
   "cell_type": "code",
   "execution_count": null,
   "id": "aebbb55b",
   "metadata": {},
   "outputs": [],
   "source": []
  }
 ],
 "metadata": {
  "kernelspec": {
   "display_name": "Python 3 (ipykernel)",
   "language": "python",
   "name": "python3"
  },
  "language_info": {
   "codemirror_mode": {
    "name": "ipython",
    "version": 3
   },
   "file_extension": ".py",
   "mimetype": "text/x-python",
   "name": "python",
   "nbconvert_exporter": "python",
   "pygments_lexer": "ipython3",
   "version": "3.9.13"
  }
 },
 "nbformat": 4,
 "nbformat_minor": 5
}
