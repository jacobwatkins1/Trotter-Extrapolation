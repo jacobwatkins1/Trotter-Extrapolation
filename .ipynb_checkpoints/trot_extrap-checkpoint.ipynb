{
 "cells": [
  {
   "cell_type": "markdown",
   "id": "b5c007c9-ef1d-48e0-a9a2-27ff9c95ff37",
   "metadata": {},
   "source": [
    "# Trotter Extrapolation\n",
    "\n",
    "## James D. Watson, Jacob Watkins\n",
    "## August 2023"
   ]
  },
  {
   "cell_type": "markdown",
   "id": "70f8d735-16c2-4ee0-860c-ad2bccde0d24",
   "metadata": {},
   "source": [
    "### TODO:\n",
    "\n",
    "- Generalize Trotter code to any order formula (currently first order), or at least 2nd order\n",
    "- Calculate observable (Magnetization? Something local to one qubit?)"
   ]
  },
  {
   "cell_type": "markdown",
   "id": "06cf71a0-6a31-4865-a0db-a916f87f6d40",
   "metadata": {},
   "source": [
    "## Theory"
   ]
  },
  {
   "cell_type": "markdown",
   "id": "0b45fdaf-3f74-4887-bdc9-8860d1c538a2",
   "metadata": {},
   "source": [
    "From Equation (1) of [this text](https://arxiv.org/abs/1711.10980), we want to simulate the 1D Heisenberg model.\n",
    "\n",
    "$$\n",
    "H = \\sum_{i=1}^n \\sigma_i \\cdot \\sigma_{i+1} + h_j \\sigma_j^z\n",
    "$$\n",
    "\n",
    "with $h_j \\in [-h,h]$ randomly and uniformly sampled. Suppose we wish to simulate $e^{-i H T}$ on a quantum computer using product formulas. A natural choice is to split according to even-odd staggering of the interaction term, and then do the $Z$ rotations in their own grouping. If $n$ is odd, there will be one term left over. I don't think we should fret, probably just choose even $n$ for simplicity since we are only exploring our method. "
   ]
  },
  {
   "cell_type": "code",
   "execution_count": 2,
   "id": "a44fc2f7-ab7d-44eb-b0b1-fbdf442207f1",
   "metadata": {
    "tags": []
   },
   "outputs": [],
   "source": [
    "# Imports\n",
    "\n",
    "import numpy as np\n",
    "import scipy.linalg as sla\n",
    "import numpy.linalg as nla"
   ]
  },
  {
   "cell_type": "markdown",
   "id": "be8104a6-55ec-4a94-8e77-2239c7588c08",
   "metadata": {
    "tags": []
   },
   "source": [
    "## Useful Pauli and qubit manipulations"
   ]
  },
  {
   "cell_type": "code",
   "execution_count": 3,
   "id": "6e00eefe-fab1-4b46-8b9a-e250629167fa",
   "metadata": {
    "tags": []
   },
   "outputs": [],
   "source": [
    "# Computes Kronecker (tensor) product of a list of matrices\n",
    "# Example:\n",
    "# Input: [X,Y,Z,Y]\n",
    "# Return: X \\ox Y \\ox Z \\ox Y\n",
    "def kron_list(matrix_list):\n",
    "    result = matrix_list[0]\n",
    "    for i in range(1,len(matrix_list)):\n",
    "        result = np.kron(result,matrix_list[i])\n",
    "        \n",
    "    return result\n",
    "\n",
    "# Pauli matrices\n",
    "I = np.array([[1.,0],[0,1.]], dtype='complex')\n",
    "X = np.array([[0,1.],[1.,0]], dtype='complex')\n",
    "Y = np.array([[0,-1.j],[1.j,0]], dtype='complex')\n",
    "Z = np.array([[1.,0],[0,-1.]], dtype='complex')\n",
    "\n",
    "# Converts string representation of paulis to list of matrices,\n",
    "# Example:\n",
    "# Input: \"XYZY\"\n",
    "# Return: [X,Y,Z,Y]\n",
    "def paulistring_to_list(paulistring): \n",
    "    matrix_list = list(paulistring)\n",
    "    translate = {'I':I, 'X':X, 'Y':Y, 'Z':Z}\n",
    "    for p in range(len(paulistring)):\n",
    "        matrix_list[p] = translate[matrix_list[p]]\n",
    "    return matrix_list\n",
    "\n",
    "# Computes generalized pauli matrix, given a string in standard form,\n",
    "# Example:\n",
    "# Input: \"XYZY\"\n",
    "# Return: X \\ox Y \\ox Z \\ox Y\n",
    "def pauli_matrix(paulistring):\n",
    "    return kron_list(paulistring_to_list(paulistring))\n",
    "\n",
    "# Computes generalized pauli matrix, specified by non-identity pieces. Nonidentities encoded as dictionary\n",
    "# of the form {k:'P', ..., } where k is the integer location and P is a pauli\n",
    "# Example:\n",
    "# Input: {0: 'X', 3:'Z', 5:'X'}, 6\n",
    "# Return: X\\ox I \\ox  Z \\ox I \\ox I \\ox X\n",
    "def sparse_pauli(nonidentities, nqubits):\n",
    "    #starting string is all identity\n",
    "    paulilist = []\n",
    "    for i in range(0, nqubits):\n",
    "        paulilist.append('I')\n",
    "    \n",
    "    #Change string to paulis specified by dictionary\n",
    "    for key in nonidentities:\n",
    "        paulilist[key] = nonidentities[key]\n",
    "    paulistring = ''.join(paulilist)\n",
    "    \n",
    "    return pauli_matrix(paulistring) \n",
    "\n",
    "# Returns the matrix of \\sigma . \\sigma between sites i and j\n",
    "# Example:\n",
    "# Input: 0,1,4\n",
    "# Return: X\\ox X \\ox I \\ox I + Y\\ox Y \\ox I \\ox I + Z\\ox Z \\ox I \\ox I\n",
    "def sigma_dot_sigma(i,j,nqubits):\n",
    "    return sparse_pauli({i:'X',j:'X'},nqubits) + sparse_pauli({i:'Y',j:'Y'},nqubits) + sparse_pauli({i:'Z',j:'Z'},nqubits)\n",
    "\n",
    "# Qubit computational basis\n",
    "zero = np.array([1.,0], dtype ='complex')\n",
    "one = np.array([0,1.], dtype ='complex')\n",
    "\n",
    "# Convert bitstring to list of single-qubit kets\n",
    "# Example: \n",
    "# Input: \"0101\"\n",
    "# Output: list( (1,0), (0,1), (1,0), (0,1) )\n",
    "def bitstring_to_list(bitstring):\n",
    "    bitlist = list(bitstring)\n",
    "    translate = {'0':zero, '1':one}\n",
    "    for b in range(len(bitstring)):\n",
    "        bitlist[b] = translate[bitlist[b]]\n",
    "    return bitlist\n",
    "\n",
    "# Convert bitstring to full vector/array describing each qubit.\n",
    "# Example: \n",
    "# Input: \"0101\"\n",
    "# Output:  (1,0) \\ox (0,1) \\ox (1,0) \\ox (0,1) \n",
    "def basis_ket(bitstring):\n",
    "    return kron_list(bitstring_to_list(bitstring))\n",
    "\n",
    "\n",
    "# Outputs a bit string with certain positions set to 1, and otherwise set to zero:\n",
    "# Example: \n",
    "# Input: [0,1,2],3\n",
    "# Output:  (0,0,0,0,0,0,0,0,1)\n",
    "def sparse_bitstring(ones, nqubits):\n",
    "    bitlist = []\n",
    "    for i in range(0,nqubits):\n",
    "        bitlist.append('0')\n",
    "    \n",
    "    #Flip certain bits to one, as specified by dictionary\n",
    "    for qubit in ones:\n",
    "        bitlist[qubit] = '1'\n",
    "    bitstring = ''.join(bitlist)\n",
    "    \n",
    "    return basis_ket(bitstring)"
   ]
  },
  {
   "cell_type": "markdown",
   "id": "dd8bb0f9-b88a-4427-8810-62a48cc883b0",
   "metadata": {},
   "source": [
    "## Chebyshev functions\n",
    "\n",
    "`np.polynomial.chebyshev` is a class for chebyshev polynomials. Looks new and somewhat untested."
   ]
  },
  {
   "cell_type": "code",
   "execution_count": 4,
   "id": "4be6507b-b85e-4760-aa0b-49a0dc598fe4",
   "metadata": {
    "tags": []
   },
   "outputs": [],
   "source": [
    "def cheb_nodes(n, width = 1, center = 0):\n",
    "    nodes = np.zeros(n)\n",
    "    for j in range(n):\n",
    "        nodes[n-j-1] = center + (width/2)* np.cos((2*j+1)*np.pi/(2*n))\n",
    "    return nodes"
   ]
  },
  {
   "cell_type": "markdown",
   "id": "b75a9bf3-a7c4-4e27-aad1-f30d652b607b",
   "metadata": {
    "tags": []
   },
   "source": [
    "## Simulation functions"
   ]
  },
  {
   "cell_type": "code",
   "execution_count": 84,
   "id": "e715826b-5467-4cb2-b571-b0cacfda74af",
   "metadata": {
    "tags": []
   },
   "outputs": [],
   "source": [
    "# Generates the 1D Heisenberg chain Hamiltonian specified in the introduction.\n",
    "def heisenbergH(nqubits, hlist):\n",
    "    H = sigma_dot_sigma(0,1,nqubits) + hlist[0]*sparse_pauli({0:'Z'}, nqubits)\n",
    "    for j in range(1, nqubits):\n",
    "        H += sigma_dot_sigma(j, (j+1)%nqubits, nqubits) + hlist[j]*sparse_pauli({j:'Z'}, nqubits)\n",
    "    return H\n",
    "\n",
    "# Generates the exact time evolution.\n",
    "def Uexact(H, T):\n",
    "    return sla.expm(-1.j*H*T)\n",
    "\n",
    "# TODO: generalize for higher order formulas (or at least 2).\n",
    "# First term in Hlist is applied to state first\n",
    "def Utrot_short(Hlist, t, order = 1):\n",
    "    m = len(Hlist) # number of terms\n",
    "    result = sla.expm(-1.j*Hlist[0]*t)\n",
    "    for k in range(1,m):\n",
    "        result = sla.expm(-1.j*Hlist[k]*t) @ result\n",
    "    \n",
    "    return result\n",
    "    \n",
    "# Code only works for first order\n",
    "def Utrot_long(Hlist, T, steps, order = 1):\n",
    "    single_step = Utrot_short(Hlist, T/steps, order)\n",
    "    \n",
    "    integer_steps = int( np.floor(steps) )\n",
    "    fractional_step = steps - integer_steps\n",
    "    \n",
    "    integer_step_evolve = nla.matrix_power(single_step, integer_steps)\n",
    "    fractional_step_evolve = sla.fractional_matrix_power(Utrot_short(Hlist, T/steps, order), fractional_step)\n",
    "    \n",
    "    total_evolution = integer_step_evolve @ fractional_step_evolve \n",
    "    \n",
    "    return total_evolution\n",
    "\n",
    "# Computes the 1-norm characterising the Hamiltonian & number of steps needed.\n",
    "def Heisenberg_one_norm(nqubits, hlist):\n",
    "    \n",
    "    # First compute norm associated with the 2 qubit \\sigma.\\sigma terms.\n",
    "    norm = (nqubits-1)*3\n",
    "    \n",
    "    # Compute part of norm associated with single-qubit terms.\n",
    "    k = 0\n",
    "    for k in range(nqubits):\n",
    "        norm += np.abs( hlist[k] )\n",
    "        \n",
    "    return norm"
   ]
  },
  {
   "cell_type": "code",
   "execution_count": 88,
   "id": "defa3555-7bb6-494a-9935-a5731f1edc53",
   "metadata": {
    "tags": []
   },
   "outputs": [],
   "source": [
    "# Parameters\n",
    "nqubits = 2\n",
    "h = 0\n",
    "steps = 1000\n",
    "T = 8\n",
    "\n",
    "# Generate a list of random coefficients.\n",
    "hlist = (np.random.rand(nqubits)*2 -1)*h\n",
    "\n",
    "# Trotter pieces: group the odd and even Hamiltonian terms.\n",
    "\n",
    "Even = sigma_dot_sigma(0, 1, nqubits)\n",
    "for j in range(2,nqubits,2):\n",
    "    Even += sigma_dot_sigma(j, (j+1)%nqubits, nqubits)\n",
    "\n",
    "Odd = sigma_dot_sigma(1, 2%nqubits, nqubits)\n",
    "for j in range(3,nqubits,2):\n",
    "    Odd += sigma_dot_sigma(j, (j+1)%nqubits, nqubits)\n",
    "    \n",
    "Potential = np.sum([hlist[j]*sparse_pauli({j:'Z'}, nqubits) for j in range(nqubits)], axis = 0)\n",
    "\n",
    "Hlist = [Even, Odd, Potential]\n",
    "\n",
    "\n",
    "A = Uexact(heisenbergH(nqubits, hlist), T)\n",
    "B = Utrot_long(Hlist, T, steps)"
   ]
  },
  {
   "cell_type": "code",
   "execution_count": 120,
   "id": "e2617173",
   "metadata": {},
   "outputs": [],
   "source": [
    "## Define a Local Observable:\n",
    "\n",
    "# Computes  Hermitian observable, specified by Pauli strings. Nonidentities encoded as dictionary\n",
    "# of the form {k:'P', ..., } where k is the integer location and P is a pauli. Pauli strings are then input as list.\n",
    "# Example:\n",
    "# Input: [{0: 'X', 3:'Z', 5:'X'}, {1: 'X'}], 6\n",
    "# Return: X\\ox I \\ox  Z \\ox I \\ox I \\ox X + I\\ox X \\ox  I \\ox I \\ox I \\ox I\n",
    "def observable(List_Pauli_strings, nqubits):\n",
    "\n",
    "    local_observable = 0\n",
    "    for k in range(len(List_Pauli_strings)):\n",
    "        local_observable +=  sparse_pauli( List_Pauli_strings[k], nqubits )\n",
    "    \n",
    "    return local_observable\n",
    "\n",
    "## Take expectation value of 'observable' with respect to to 'state'\n",
    "# Example:\n",
    "# Input: sparse_bitstring([0], 1), observable([{0: 'Z'}], 1) \n",
    "# Output: -1\n",
    "def expectation_value(state, observable):\n",
    "    \n",
    "    # Use vdot to get complex conjugate.\n",
    "    expectation = np.vdot(state, observable.dot(state) )\n",
    "    \n",
    "    # Throw an exception if there is a significant imaginary part to the expectation value.\n",
    "    if np.abs(expectation.imag) > 0.00001:\n",
    "        raise ValueError(\"Expectation value should be entirely real\")\n",
    "    \n",
    "    return expectation\n",
    "\n",
    "## Finds the expectation value with respect to the Trotterized time evolution. Define the function in terms of x = 1/steps.\n",
    "# Example: \n",
    "# Input: [Even, Odd, Potential], sparse_bitstring([0,1], 2), 10, 0.01, observable([{0: 'Z'}], 2) \n",
    "# Output: -1 + 0.j\n",
    "def Trotterized_Expectation(Hlist, initial_state, T, x, observable, order = 1):\n",
    "    \n",
    "    steps = 1/x\n",
    "    evolution_operator = Utrot_long(Hlist, T, steps, order )\n",
    "    time_evolved_state = evolution_operator.dot( initial_state  )\n",
    "    \n",
    "    return expectation_value(time_evolved_state, observable)\n",
    "    \n",
    "# Computes the time-evolved expectation value from the *exact* evolution.  \n",
    "# Example: \n",
    "# Input: heisenbergH(nqubits, hlist), sparse_bitstring([0,1], 2), 10, observable([{0: 'Z'}], 2) \n",
    "# Output: -1 + 0.j\n",
    "def Exact_Expectation(Hamiltonian, initial_state, T, observable):\n",
    "    \n",
    "    evolution_operator = Uexact(Hamiltonian, T)\n",
    "    time_evolved_state = evolution_operator.dot( initial_state  )\n",
    "    \n",
    "    return expectation_value(time_evolved_state, observable)\n",
    "\n",
    "# Compares the difference between the exact and Trotterized expecation values.\n",
    "def difference_function(Hlist, initial_state, T, x, observable, nqubits, order = 1 ):\n",
    "    \n",
    "    Hamiltonian = heisenbergH(nqubits, hlist)\n",
    "    \n",
    "    diff = Exact_Expectation(Hamiltonian, initial_state, T, observable) - Trotterized_Expectation(Hlist, initial_state, T, x, observable, order = 1)\n",
    "    \n",
    "    return diff\n"
   ]
  },
  {
   "cell_type": "code",
   "execution_count": 75,
   "id": "63e970b4-e5cb-47bb-a511-9785147cfa1f",
   "metadata": {
    "tags": []
   },
   "outputs": [
    {
     "data": {
      "text/plain": [
       "0.03517497848533473"
      ]
     },
     "execution_count": 75,
     "metadata": {},
     "output_type": "execute_result"
    }
   ],
   "source": [
    "# Unitaries don't line up. Hamiltonians seem to match.\n",
    "sla.norm(A-B,2)"
   ]
  },
  {
   "cell_type": "code",
   "execution_count": 99,
   "id": "041f9663-feae-4e09-981b-270471873bc5",
   "metadata": {
    "tags": []
   },
   "outputs": [
    {
     "data": {
      "text/plain": [
       "0.0"
      ]
     },
     "execution_count": 99,
     "metadata": {},
     "output_type": "execute_result"
    }
   ],
   "source": [
    "# Hamiltonians line  up\n",
    "la.norm(heisenbergH(nqubits, hlist) - np.sum(Hlist,axis=0))"
   ]
  },
  {
   "cell_type": "code",
   "execution_count": 100,
   "id": "b467fa85-91ea-4e76-b798-4115118adb8f",
   "metadata": {
    "tags": []
   },
   "outputs": [
    {
     "data": {
      "text/plain": [
       "2"
      ]
     },
     "execution_count": 100,
     "metadata": {},
     "output_type": "execute_result"
    }
   ],
   "source": [
    "2%10"
   ]
  },
  {
   "cell_type": "code",
   "execution_count": 81,
   "id": "ab85f56c-6766-444f-9bfd-8b4c3536797c",
   "metadata": {
    "tags": []
   },
   "outputs": [
    {
     "name": "stdout",
     "output_type": "stream",
     "text": [
      "0\n",
      "2\n",
      "4\n"
     ]
    }
   ],
   "source": [
    "for j in range(0,6,2):\n",
    "    print(j)"
   ]
  },
  {
   "cell_type": "code",
   "execution_count": 8,
   "id": "58de516d-670c-48a6-a860-b2b91ee2fdeb",
   "metadata": {},
   "outputs": [
    {
     "data": {
      "text/plain": [
       "[array([[0.+0.j, 1.+0.j],\n",
       "        [1.+0.j, 0.+0.j]]),\n",
       " array([[ 0.+0.j, -0.-1.j],\n",
       "        [ 0.+1.j,  0.+0.j]]),\n",
       " array([[ 1.+0.j,  0.+0.j],\n",
       "        [ 0.+0.j, -1.+0.j]])]"
      ]
     },
     "execution_count": 8,
     "metadata": {},
     "output_type": "execute_result"
    }
   ],
   "source": [
    "paulistring_to_list(\"XYZ\")"
   ]
  },
  {
   "cell_type": "code",
   "execution_count": 35,
   "id": "231f13ae",
   "metadata": {},
   "outputs": [
    {
     "name": "stdout",
     "output_type": "stream",
     "text": [
      "<class 'dict'>\n"
     ]
    }
   ],
   "source": [
    "List_Pauli =[{0: X, 3:Z, 5:X}, {1: X}]\n",
    "print( type(List_Pauli[0]))"
   ]
  },
  {
   "cell_type": "code",
   "execution_count": 43,
   "id": "2e1e3022",
   "metadata": {},
   "outputs": [
    {
     "data": {
      "text/plain": [
       "0.0"
      ]
     },
     "execution_count": 43,
     "metadata": {},
     "output_type": "execute_result"
    }
   ],
   "source": [
    "sla.norm(observable([{0: 'X', 3:'Z', 5:'X'}, {1: 'X'}], 6) - sparse_pauli( {0: 'X', 3:'Z', 5:'X'}, 6 ) - sparse_pauli( {1: 'X'}, 6 ),2)\n",
    "\n",
    "#sparse_pauli( {0: 'X', 3:'Z', 5:'X'}, 6 )"
   ]
  },
  {
   "cell_type": "code",
   "execution_count": 96,
   "id": "6445b7e0",
   "metadata": {},
   "outputs": [
    {
     "name": "stdout",
     "output_type": "stream",
     "text": [
      "[[ 1.+0.j  1.+0.j  0.+0.j  0.+0.j]\n",
      " [ 1.+0.j  1.+0.j  0.+0.j  0.+0.j]\n",
      " [ 0.+0.j  0.+0.j -1.+0.j  1.+0.j]\n",
      " [ 0.+0.j  0.+0.j  1.+0.j -1.+0.j]]\n",
      "[0.+0.j 0.+0.j 0.+0.j 1.+0.j]\n",
      "(-1+0j)\n"
     ]
    }
   ],
   "source": [
    "local_obs = observable([{0: 'Z'},{1: 'X'} ], 2)\n",
    "state = sparse_bitstring([0,1], 2)\n",
    "print(local_obs)\n",
    "print(state)\n",
    "print(expectation_value(state, local_obs))"
   ]
  },
  {
   "cell_type": "code",
   "execution_count": 117,
   "id": "71f176fe",
   "metadata": {},
   "outputs": [
    {
     "data": {
      "text/plain": [
       "(-1.0000000000012996+0j)"
      ]
     },
     "execution_count": 117,
     "metadata": {},
     "output_type": "execute_result"
    }
   ],
   "source": [
    "Trotterized_Expectation(Hlist, state, 10, 0.0001, local_obs, order = 1)"
   ]
  },
  {
   "cell_type": "code",
   "execution_count": 116,
   "id": "d46457f6",
   "metadata": {},
   "outputs": [
    {
     "data": {
      "text/plain": [
       "(-1.0000000000000009+0j)"
      ]
     },
     "execution_count": 116,
     "metadata": {},
     "output_type": "execute_result"
    }
   ],
   "source": [
    "Exact_Expectation(heisenbergH(2, hlist), state, 10, local_obs)"
   ]
  },
  {
   "cell_type": "code",
   "execution_count": 128,
   "id": "75b8739c",
   "metadata": {},
   "outputs": [
    {
     "data": {
      "text/plain": [
       "(0.002873702210469009+0j)"
      ]
     },
     "execution_count": 128,
     "metadata": {},
     "output_type": "execute_result"
    }
   ],
   "source": [
    "difference_function(Hlist, state, 100, 0.1, local_obs, 2, order = 1 )"
   ]
  }
 ],
 "metadata": {
  "kernelspec": {
   "display_name": "Python 3 (ipykernel)",
   "language": "python",
   "name": "python3"
  },
  "language_info": {
   "codemirror_mode": {
    "name": "ipython",
    "version": 3
   },
   "file_extension": ".py",
   "mimetype": "text/x-python",
   "name": "python",
   "nbconvert_exporter": "python",
   "pygments_lexer": "ipython3",
   "version": "3.9.13"
  }
 },
 "nbformat": 4,
 "nbformat_minor": 5
}
