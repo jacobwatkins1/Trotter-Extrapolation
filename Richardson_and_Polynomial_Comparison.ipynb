{
 "cells": [
  {
   "cell_type": "markdown",
   "id": "e929ae19-f0c7-43e0-8c18-4501868a1c13",
   "metadata": {},
   "source": [
    "# Trotter Extrapolation\n",
    "\n",
    "### James D. Watson, Jacob Watkins\n",
    "### July 2024"
   ]
  },
  {
   "cell_type": "markdown",
   "id": "a388efde-8311-419b-a188-1d23ffa87acd",
   "metadata": {},
   "source": [
    "# Table of contents\n",
    "1. [Introduction](#introduction)\n",
    "2. [Methods](#methods)\n",
    "    1. [Linear Algebra Functions](#linalg)\n",
    "    2. [Simulation Functions](#simulation)\n",
    "    3. [Generating the Hamiltonian](#genHamiltonian)\n",
    "    4. [Local Observables](#observable)\n",
    "3. [Richardson Extrapolation](#richardson)\n",
    "   1. [Testing Richardson Extrapolation](#test_richardson)\n",
    "5. [Polynomial Interpolation](#polynomial_interpolation)\n",
    "6. [Comparing Richardson and Polynomial Interpolation](#comparison)"
   ]
  },
  {
   "cell_type": "markdown",
   "id": "7aa74ffd-85d2-424f-9723-4519f81ff29b",
   "metadata": {},
   "source": [
    "# Introduction <a name=\"introduction\"></a>"
   ]
  },
  {
   "cell_type": "markdown",
   "id": "5dbe41be-efdb-4360-a1b2-e96531f9fdca",
   "metadata": {},
   "source": [
    "The aim of this code is to compare the efficiency of Richardson extrapolation vs Polynomial Interpolation for extrapolating expectation values in quantum simulation.\n",
    "\n",
    "\n",
    "From Equation (1) of [this text](https://arxiv.org/abs/1711.10980), we want to simulate the 1D Heisenberg model.\n",
    "\n",
    "$$\n",
    "H = \\sum_{i=1}^n \\sigma_i \\cdot \\sigma_{i+1} + h_j \\sigma_j^z\n",
    "$$\n",
    "\n",
    "with $h_j \\in [-h,h]$ randomly and uniformly sampled. Suppose we wish to simulate $e^{-i H T}$ on a quantum computer using product formulas. A natural choice is to split according to even-odd staggering of the interaction term, and then do the $Z$ rotations in their own grouping. \n",
    "\n",
    "If $n$ is odd, one of the groupings will contain terms which don't commute. I don't think we should fret, probably just choose even $n$ for simplicity since we are only exploring our method. "
   ]
  },
  {
   "cell_type": "markdown",
   "id": "c86b8272-3cef-4926-b63d-d7fb07be4d91",
   "metadata": {},
   "source": [
    "# Methods <a name=\"methods\"></a>"
   ]
  },
  {
   "cell_type": "markdown",
   "id": "3d4e8583-8b35-43d6-9cdd-51792fa9c01f",
   "metadata": {},
   "source": [
    "## Useful Pauli and qubit manipulations "
   ]
  },
  {
   "cell_type": "code",
   "execution_count": 1,
   "id": "bf236ebf-5d3f-4db3-9cae-1618932a977c",
   "metadata": {},
   "outputs": [],
   "source": [
    "# Imports\n",
    "\n",
    "import numpy as np\n",
    "import scipy.interpolate as interp\n",
    "import scipy.linalg as sla\n",
    "import numpy.linalg as nla\n",
    "import matplotlib.pyplot as plt\n",
    "import random as rand\n",
    "from mpmath import *"
   ]
  },
  {
   "cell_type": "code",
   "execution_count": 4,
   "id": "4c020af5-3bd4-4eb3-a3f9-692bfb45ba96",
   "metadata": {},
   "outputs": [],
   "source": [
    "# Computes Kronecker (tensor) product of a list of matrices\n",
    "# Example:\n",
    "# Input: [X,Y,Z,Y]\n",
    "# Return: X \\ox Y \\ox Z \\ox Y\n",
    "def kron_list(matrix_list):\n",
    "    result = matrix_list[0]\n",
    "    for i in range(1,len(matrix_list)):\n",
    "        result = np.kron(result,matrix_list[i])\n",
    "        \n",
    "    return result\n",
    "\n",
    "# Pauli matrices\n",
    "I = np.array([[1.,0],[0,1.]], dtype='complex')\n",
    "X = np.array([[0,1.],[1.,0]], dtype='complex')\n",
    "Y = np.array([[0,-1.j],[1.j,0]], dtype='complex')\n",
    "Z = np.array([[1.,0],[0,-1.]], dtype='complex')\n",
    "\n",
    "# Converts string representation of paulis to list of matrices,\n",
    "# Example:\n",
    "# Input: \"XYZY\"\n",
    "# Return: [X,Y,Z,Y]\n",
    "def paulistring_to_list(paulistring): \n",
    "    matrix_list = list(paulistring)\n",
    "    translate = {'I':I, 'X':X, 'Y':Y, 'Z':Z}\n",
    "    for p in range(len(paulistring)):\n",
    "        matrix_list[p] = translate[matrix_list[p]]\n",
    "    return matrix_list\n",
    "\n",
    "# Computes generalized pauli matrix, given a string in standard form,\n",
    "# Example:\n",
    "# Input: \"XYZY\"\n",
    "# Return: X \\ox Y \\ox Z \\ox Y\n",
    "def pauli_matrix(paulistring):\n",
    "    return kron_list(paulistring_to_list(paulistring))\n",
    "\n",
    "# Computes generalized pauli matrix, specified by non-identity pieces. Nonidentities encoded as dictionary\n",
    "# of the form {k:'P', ..., } where k is the integer location and P is a pauli\n",
    "# Example:\n",
    "# Input: {0: 'X', 3:'Z', 5:'X'}, 6\n",
    "# Return: X\\ox I \\ox  Z \\ox I \\ox I \\ox X\n",
    "def sparse_pauli(nonidentities, nqubits):\n",
    "    #starting string is all identity\n",
    "    paulilist = []\n",
    "    for i in range(0, nqubits):\n",
    "        paulilist.append('I')\n",
    "    \n",
    "    #Change string to paulis specified by dictionary\n",
    "    for key in nonidentities:\n",
    "        paulilist[key] = nonidentities[key]\n",
    "    paulistring = ''.join(paulilist)\n",
    "    \n",
    "    return pauli_matrix(paulistring) \n",
    "\n",
    "# Returns the matrix of \\sigma . \\sigma between sites i and j\n",
    "# Example:\n",
    "# Input: 0,1,4\n",
    "# Return: X\\ox X \\ox I \\ox I + Y\\ox Y \\ox I \\ox I + Z\\ox Z \\ox I \\ox I\n",
    "def sigma_dot_sigma(i,j,nqubits):\n",
    "    return sparse_pauli({i:'X',j:'X'},nqubits) + sparse_pauli({i:'Y',j:'Y'},nqubits) + sparse_pauli({i:'Z',j:'Z'},nqubits)\n",
    "\n",
    "# Qubit computational basis\n",
    "zero = np.array([1.,0], dtype ='complex')\n",
    "one = np.array([0,1.], dtype ='complex')\n",
    "\n",
    "# Converts a bitstring to list of single-qubit kets\n",
    "# Example: \n",
    "# Input: \"0101\"\n",
    "# Output: list( (1,0), (0,1), (1,0), (0,1) )\n",
    "def bitstring_to_list(bitstring):\n",
    "    bitlist = list(bitstring)\n",
    "    translate = {'0':zero, '1':one}\n",
    "    for b in range(len(bitstring)):\n",
    "        bitlist[b] = translate[bitlist[b]]\n",
    "    return bitlist\n",
    "\n",
    "# Converts a bitstring to full vector/array describing each qubit.\n",
    "# Example: \n",
    "# Input: \"0101\"\n",
    "# Output:  (1,0) \\ox (0,1) \\ox (1,0) \\ox (0,1) \n",
    "def basis_ket(bitstring):\n",
    "    return kron_list(bitstring_to_list(bitstring))\n",
    "\n",
    "\n",
    "# Outputs a bit string with certain positions set to 1, and otherwise set to zero.\n",
    "# Example: \n",
    "# Input: [0,1,2],3\n",
    "# Output:  (0,0,0,0,0,0,0,0,1)\n",
    "def sparse_bitstring(ones, nqubits):\n",
    "    bitlist = ['0']*nqubits\n",
    "    \n",
    "    #Flip certain bits to one, as specified by list of qubit indices\n",
    "    for qubit in ones:\n",
    "        bitlist[qubit] = '1'\n",
    "    \n",
    "    # Convert list to bitstring\n",
    "    bitstring = ''.join(bitlist)\n",
    "    \n",
    "    return basis_ket(bitstring)"
   ]
  },
  {
   "cell_type": "markdown",
   "id": "88c46159-b4e5-4394-a1cd-9afed1f22a03",
   "metadata": {},
   "source": [
    "## Linear Algebra Functions <a name=\"linalg\"></a>"
   ]
  },
  {
   "cell_type": "code",
   "execution_count": 6,
   "id": "ffdd3822-bba1-4d5f-8b7e-25d8719efe05",
   "metadata": {},
   "outputs": [],
   "source": [
    "## We are working with large matrix powers. Here we use diagonalisation rather than the repeated square method to compute\n",
    "## large exponents.\n",
    "## Code taken from: https://saturncloud.io/blog/numpys-matrixpower-function-understanding-and-addressing-incorrect-results-for-large-exponents/\n",
    "\n",
    "# Computer n^th power of square, diagonalisable matrix A:\n",
    "def matrix_power_eigenvalue(A, n):\n",
    "    #Adjust precision\n",
    "    mp.dps = 20\n",
    "    \n",
    "    ## Use in-built hi-precision function:\n",
    "    output =  np.array(mp.powm(A, n).tolist(), dtype=complex)\n",
    "    \n",
    "    return output\n",
    "\n",
    "def matrix_power_eigenvalue_precise(A, n, precision=20):\n",
    "    #Adjust precision\n",
    "    mp.dps = precision\n",
    "    \n",
    "    \n",
    "    ## Use in-built hi-precision function:\n",
    "    #output =  np.array(mp.powm(A, n).tolist(), dtype=complex)\n",
    "    output =  mp.powm(A, n)\n",
    "   \n",
    "    return output\n",
    "\n",
    "# The old function\n",
    "def matrix_power_eigenvalue_old(A, n):\n",
    "   \n",
    "    \n",
    "    eigenvalues, eigenvectors = np.linalg.eig(A)\n",
    "    D = np.diag(eigenvalues**n)\n",
    "    print(D)\n",
    "    output = fp.matrix( eigenvectors @ D @ np.linalg.inv(eigenvectors))\n",
    "    \n",
    "    \n",
    "    return output"
   ]
  },
  {
   "cell_type": "markdown",
   "id": "e877db93-0794-48d5-b322-3d05047adc8b",
   "metadata": {},
   "source": [
    "### Simulation Functions <a name=\"simulation\"></a>"
   ]
  },
  {
   "cell_type": "code",
   "execution_count": 7,
   "id": "64d74e8a-667b-4890-a665-f0bda67b6ab0",
   "metadata": {},
   "outputs": [],
   "source": [
    "# Given: a positive integer, nqubits, and a list of n floats, hlist\n",
    "# Generates the 1D Heisenberg chain Hamiltonian specified in the introduction.\n",
    "def heisenbergH(nqubits, hlist):\n",
    "    H = sigma_dot_sigma(0,1,nqubits) + hlist[0]*sparse_pauli({0:'Z'}, nqubits)\n",
    "    for j in range(1, nqubits):\n",
    "        H += sigma_dot_sigma(j, (j+1)%nqubits, nqubits) + hlist[j]*sparse_pauli({j:'Z'}, nqubits)\n",
    "    return H\n",
    "\n",
    "# Given a square matrix H and float T\n",
    "# Returns the exact time evolution operator e^{-i H T} \n",
    "def Uexact(H, T):\n",
    "    return sla.expm(-1.j*H*T)\n",
    "\n",
    "## Returns the matrix with high precision exponentiation.\n",
    "def Uexact_precise(H, T):\n",
    "    \n",
    "    #Adjust precision\n",
    "    mp.dps = 20\n",
    "    \n",
    "    Uexact = mp.expm( -1.j*H*T , method='taylor')\n",
    "    \n",
    "    \n",
    "    ## Use in-built hi-precision function:\n",
    "    output =  np.array(Uexact.tolist(), dtype=complex)\n",
    "    \n",
    "    return output\n",
    "\n",
    "\n",
    "# Computes a single time step of first or second order Trotter\n",
    "# Terms in Hterms are applied to the state in increasing index (0,1,...,m)\n",
    "def Utrot_short(Hterms, t, order = 1):\n",
    "    m = len(Hterms) # number of terms\n",
    "    result = sla.expm(-1.j*Hterms[m-1]*t)\n",
    "    if order == 1:  \n",
    "        for k in range(m-2,-1,-1):\n",
    "            result = result @ sla.expm(-1.j*Hterms[k]*t)\n",
    "    \n",
    "    elif order == 2: \n",
    "        for k in range(m-2, -1, -1):\n",
    "            result = sla.expm(-1.j*Hterms[k]*t/2) @ result @ sla.expm(-1.j*Hterms[k]*t/2)\n",
    "    else:\n",
    "        raise ValueError(\"Not a valid order of Trotter formula: must be 1 or 2\")\n",
    "    return result\n",
    "\n",
    "# Computes a single time step of first or second order Trotter\n",
    "# Terms in Hterms are applied to the state in increasing index (0,1,...,m)\n",
    "def Utrot_short_precise(Hterms, t, order = 1, precision =20):\n",
    "    \n",
    "    #Adjust precision\n",
    "    mp.dps = precision\n",
    "    \n",
    "    m = len(Hterms) # number of terms\n",
    "    result = mp.expm(-1.j*Hterms[m-1]*t)\n",
    "    if order == 1:  \n",
    "        for k in range(m-2,-1,-1):\n",
    "            result = result @ mp.expm(-1.j*Hterms[k]*t)\n",
    "    \n",
    "    elif order == 2: \n",
    "        for k in range(m-2, -1, -1):\n",
    "            result = mp.expm(-1.j*Hterms[k]*t/2) @ result @ mp.expm(-1.j*Hterms[k]*t/2)\n",
    "    else:\n",
    "        raise ValueError(\"Not a valid order of Trotter formula: must be 1 or 2\")\n",
    "    return result\n",
    "    \n",
    "# Given: a list Hterms of square matrices of same dimension, float T, a (possibly noninteger) number of steps, and order =1,2\n",
    "# Returns a Trotter evolution of given order and step number, for time T\n",
    "def Utrot_long(Hterms, T, steps, order = 1):\n",
    "    single_step = Utrot_short(Hterms, T/steps, order)\n",
    "    \n",
    "    integer_steps = int( np.floor(steps) )\n",
    "    fractional_step = steps - integer_steps\n",
    "    \n",
    "    integer_step_evolve = matrix_power_eigenvalue(single_step, integer_steps)\n",
    "    fractional_step_evolve = sla.fractional_matrix_power(single_step, fractional_step)\n",
    "    \n",
    "    total_evolution = integer_step_evolve @ fractional_step_evolve \n",
    "    \n",
    "    return total_evolution\n",
    "\n",
    "## Above, but high precision\n",
    "def Utrot_long_precise(Hterms, T, steps, order = 1, precision =20):\n",
    "    \n",
    "    #Adjust precision\n",
    "    mp.dps = precision\n",
    "    \n",
    "    \n",
    "    single_step = Utrot_short_precise(Hterms, T/steps, order)\n",
    "    \n",
    "    step_evolve = matrix_power_eigenvalue(single_step, steps)\n",
    "    #fractional_step_evolve = sla.fractional_matrix_power(single_step, fractional_step)\n",
    "    \n",
    "    total_evolution = step_evolve \n",
    "    \n",
    "    return total_evolution"
   ]
  },
  {
   "cell_type": "markdown",
   "id": "50403d3b-ea20-4dd2-84a9-fee9a9479175",
   "metadata": {},
   "source": [
    "# Generate Breakdown of the Heisenberg Hamiltonian <a name=\"genHamiltonian\"></a>"
   ]
  },
  {
   "cell_type": "code",
   "execution_count": 10,
   "id": "04bf4c3d-beb4-42d5-bc52-9e15fddb7441",
   "metadata": {},
   "outputs": [],
   "source": [
    "## Define the even, odd and potential terms for an arbitrary nunber of qubits and a given hlist.\n",
    "\n",
    "def Even_Heisenberg_Terms(nqubits):\n",
    "    Even = sigma_dot_sigma(0, 1, nqubits)\n",
    "    for j in range(2,nqubits,2):\n",
    "        Even += sigma_dot_sigma(j, (j+1)%nqubits, nqubits)\n",
    "        \n",
    "    return Even\n",
    "\n",
    "def Odd_Heisenberg_Terms(nqubits):\n",
    "    \n",
    "    Odd = sigma_dot_sigma(1, 2%nqubits, nqubits)\n",
    "    for j in range(3,nqubits,2):\n",
    "        Odd += sigma_dot_sigma(j, (j+1)%nqubits, nqubits)\n",
    "        \n",
    "        \n",
    "    return Odd\n",
    "\n",
    "def Potential_Heisenberg_Terms(nqubits, hlist):\n",
    "    \n",
    "    Potential = np.sum([hlist[j]*sparse_pauli({j:'Z'}, nqubits) for j in range(nqubits)], axis = 0)\n",
    "        \n",
    "    return Potential\n",
    "\n",
    "\n",
    "\n"
   ]
  },
  {
   "cell_type": "markdown",
   "id": "e3896ddc-a4bf-4c9e-93d5-53a409bc6397",
   "metadata": {},
   "source": [
    "# Local Observable and Expectation Value Functions <a name=\"observable\"></a>"
   ]
  },
  {
   "cell_type": "code",
   "execution_count": 11,
   "id": "9455c326-54cd-401c-a087-495eb091043f",
   "metadata": {},
   "outputs": [],
   "source": [
    "## Define a Local Observable:\n",
    "\n",
    "## Computes  Hermitian observable, specified by Pauli strings. Input is a list of dictionaries: nonidentities encoded as dictionary\n",
    "## of the form {k:'P', ..., } where k is the integer location and P is a pauli. Pauli strings are then input as list.\n",
    "# Example:\n",
    "# Input: [{0: 'X', 3:'Z', 5:'X'}, {1: 'X'}], 6\n",
    "# Return: X\\ox I \\ox  Z \\ox I \\ox I \\ox X + I\\ox X \\ox  I \\ox I \\ox I \\ox I\n",
    "def observable(List_Pauli_strings, nqubits):\n",
    "\n",
    "    local_observable = 0\n",
    "    for k in range(len(List_Pauli_strings)):\n",
    "        local_observable +=  sparse_pauli( List_Pauli_strings[k], nqubits )\n",
    "    \n",
    "    return local_observable\n",
    "\n",
    "## Take expectation value of 'observable' with respect to to 'state'\n",
    "# Example:\n",
    "# Input: sparse_bitstring([0], 1), observable([{0: 'Z'}], 1) \n",
    "# Output: -1\n",
    "def expectation_value(state, observable):\n",
    "    \n",
    "    normalisation =   np.vdot(state, state )  \n",
    "    # Throw an exception if the state is not normalised.\n",
    "    if (normalisation -1) > 0.00001:\n",
    "        raise ValueError(\"State is not normalised\")\n",
    "    \n",
    "    # Calculate the expectation of the state. Use vdot to get complex conjugate.\n",
    "    expectation = np.vdot(state, observable.dot(state) )\n",
    "    \n",
    "    # Throw an exception if there is a significant imaginary part to the expectation value.\n",
    "    if np.abs(expectation.imag) > 0.00001:\n",
    "        raise ValueError(\"Expectation value should be entirely real\")\n",
    "        \n",
    "    # Return only the real part of the expectation value (imaginary part should be zero).\n",
    "    return np.real(expectation)\n",
    "\n",
    "## Finds the expectation value with respect to the Trotterized time evolution. Define the function in terms of s = 1/steps.\n",
    "# Example: \n",
    "# Input: [Even, Odd, Potential], sparse_bitstring([0,1], 2), 10, 0.01, observable([{0: 'Z'}], 2) \n",
    "# Output: -1 + 0.j\n",
    "def Trotterized_Expectation(Hterms, initial_state, time, s, observable, order = 1):\n",
    "    \n",
    "    steps = 1/s\n",
    "    \n",
    "    # Calculate the Trotterized time-evolution operator and apply to the initial state.\n",
    "    Trotterized_evolution_operator = Utrot_long(Hterms, time, steps, order)\n",
    "    time_evolved_state = Trotterized_evolution_operator @ initial_state\n",
    "    \n",
    "    return expectation_value(time_evolved_state, observable)\n",
    "\n",
    "## High Precision Version of above.\n",
    "def Trotterized_Expectation_precise(Hterms, initial_state, time, s, observable, order = 1):\n",
    "    \n",
    "    steps = 1/s\n",
    "    \n",
    "    # Calculate the Trotterized time-evolution operator and apply to the initial state.\n",
    "    Trotterized_evolution_operator = Utrot_long_precise(Hterms, time, steps, order)\n",
    "    time_evolved_state = Trotterized_evolution_operator @ initial_state\n",
    "    \n",
    "    return expectation_value(time_evolved_state, observable)\n",
    "    \n",
    "## Computes the time-evolved expectation value from the *exact* evolution.  \n",
    "# Example: \n",
    "# Input: heisenbergH(nqubits, hlist), sparse_bitstring([0,1], 2), 10, observable([{0: 'Z'}], 2) \n",
    "# Output: -1 + 0.j\n",
    "def Exact_Expectation(Hamiltonian, initial_state, time, observable):\n",
    "    \n",
    "    # Calculate the exact evolution operator.\n",
    "    evolution_operator = Uexact(Hamiltonian, time)\n",
    "    # Apply the exact evolution to the initial state.\n",
    "    time_evolved_state = evolution_operator @ initial_state\n",
    "    \n",
    "    return expectation_value(time_evolved_state, observable)\n",
    "\n",
    "\n",
    "## Precise version of the above.\n",
    "def Exact_Expectation_Precise(Hamiltonian, initial_state, time, observable):\n",
    "    \n",
    "    # Calculate the exact evolution operator.\n",
    "    evolution_operator = Uexact_precise(Hamiltonian, time)\n",
    "    # Apply the exact evolution to the initial state.\n",
    "    time_evolved_state = evolution_operator @ initial_state\n",
    "    \n",
    "    return expectation_value(time_evolved_state, observable)\n",
    "\n",
    "\n",
    "\n",
    "\n",
    "## Computes the magnetisation as a matrix.\n",
    "# Example:\n",
    "# Input: 5\n",
    "# Output: (1/5)\\sum_{i=1}^5 Z_i\n",
    "def Magnetisation(nqubits):\n",
    "    \n",
    "    magnetisation_list = []\n",
    "    \n",
    "    # For each qubit we want to measure Z on that qubit and then add them together. Generate the Pauli string\n",
    "    # representing this operator.\n",
    "    for k in range(nqubits):\n",
    "        magnetisation_list.append( { k : 'Z'} )\n",
    "        \n",
    "    # Calculate the matrix form of the local observable.\n",
    "    magnetisation_matrix = (1/nqubits)*observable(magnetisation_list, nqubits)\n",
    "    \n",
    "    return magnetisation_matrix"
   ]
  },
  {
   "cell_type": "markdown",
   "id": "4815957d-1436-46f1-aa47-08b2e6d33c9f",
   "metadata": {},
   "source": [
    "## Error Performance and Analysis Functions"
   ]
  },
  {
   "cell_type": "code",
   "execution_count": 12,
   "id": "c08cb109-173c-4e28-9812-6702e532126e",
   "metadata": {},
   "outputs": [],
   "source": [
    "# Computes the 1-norm characterising the Hamiltonian & number of steps needed.\n",
    "def Heisenberg_one_norm(nqubits, hlist):\n",
    "    \n",
    "    # First compute norm associated with the 2 qubit \\sigma.\\sigma terms.\n",
    "    norm = (nqubits-1)*3\n",
    "    \n",
    "    # Compute part of norm associated with single-qubit terms.\n",
    "    k = 0\n",
    "    for k in range(nqubits):\n",
    "        norm += np.abs( hlist[k] )\n",
    "        \n",
    "    return norm\n",
    "\n",
    "## Calculates the minimum number of steps required analyticity to be maintained (using the one-norm bound).\n",
    "def min_step_number(nqubits, hlist, time, order = 1 ):\n",
    "    \n",
    "    one_norm = Heisenberg_one_norm(nqubits, hlist)\n",
    "\n",
    "    if order == 1:\n",
    "        min_step_no = np.ceil(  (one_norm*time)**2)/2\n",
    "    elif order == 2:\n",
    "         min_step_no = np.ceil(  (one_norm*time)**(3/2))/6\n",
    "    else:\n",
    "        raise NameError('Orders >2 have not yet been implemented.')\n",
    "    \n",
    "    return int(min_step_no)\n",
    "\n",
    "## Compares the difference between the exact and Trotterized expecation values.\n",
    "def difference_function(Hterms, initial_state, time, s, observable, nqubits, order = 1):\n",
    "    \n",
    "\n",
    "    Hamiltonian = np.sum(Hterms,axis=0)\n",
    "    \n",
    "    # Calculate the difference between the exact evolution and the Trotter-zed evolution.\n",
    "    exact_val = Exact_Expectation(Hamiltonian, initial_state, time, observable)\n",
    "    trotter_val = Trotterized_Expectation(Hterms, initial_state, time, s, observable, order = 1)\n",
    "    diff = exact_val - trotter_val\n",
    "    \n",
    "    return diff\n",
    "\n"
   ]
  },
  {
   "cell_type": "markdown",
   "id": "f6d4da3b-f336-456f-b28a-b16699418a7a",
   "metadata": {},
   "source": [
    "## Construct System Hamiltonian, Observable, and Initial State"
   ]
  },
  {
   "cell_type": "code",
   "execution_count": 13,
   "id": "44b1d417-6bb7-4e67-a379-094d29272839",
   "metadata": {},
   "outputs": [],
   "source": [
    "## System parameters.\n",
    "nqubits = 6\n",
    "h = 1 # Maximum single qubit potential strength\n",
    "\n",
    "# Define the Hamiltonian and the groupings of its terms.\n",
    "hlist = (np.random.rand(nqubits)*2 -1)*h\n",
    "Hterms = [Even_Heisenberg_Terms(nqubits), Odd_Heisenberg_Terms(nqubits), Potential_Heisenberg_Terms(nqubits, hlist)]\n",
    "Htot = np.sum(Hterms, axis = 0)\n",
    "\n",
    "\n",
    "# Choose local observable and initial state\n",
    "local_obs_array = [{0: 'Z'},{nqubits-1: 'Z'}, {1: 'X'} ]\n",
    "local_obs = observable(local_obs_array, nqubits)\n",
    "#local_obs = Magnetisation( nqubits )\n",
    "initial_state = sparse_bitstring([nqubits//2], nqubits)"
   ]
  },
  {
   "cell_type": "markdown",
   "id": "736d0fdb-2a5d-47d2-bd65-c859158f9447",
   "metadata": {},
   "source": [
    "# Richardson Extrapolation Functions <a name=\"richardson\"></a>"
   ]
  },
  {
   "cell_type": "code",
   "execution_count": 143,
   "id": "6c312606-67cd-442c-98b0-73910839c429",
   "metadata": {},
   "outputs": [],
   "source": [
    "## Calculates the order N Richarson extrapolation estimate.\n",
    "\n",
    "def richardson_estimate(order, s_min, Hterms, initial_state, time, observable, trotter_order =2):\n",
    "    \n",
    "    #Generate the array of points we wish to use:\n",
    "    points_array = []\n",
    "    values_array = []\n",
    "    coefficient_array = []\n",
    "    estimate_array = []\n",
    "    estimate = 0\n",
    "    \n",
    "    for k in range(order):\n",
    "        counter = k+1\n",
    "        #Generate points to be sampled from.\n",
    "        sample_point = s_min*( np.sin(np.pi*(2*counter-1)/(4*order)) )\n",
    "        points_array.append( sample_point  )\n",
    "        \n",
    "        #Generate expectation values at those points.\n",
    "        trotter_val = Trotterized_Expectation(Hterms, initial_state, time, sample_point, observable, order = trotter_order)\n",
    "        #print(trotter_val)\n",
    "        values_array.append( trotter_val )\n",
    "        \n",
    "        #Generate Coefficients for the Estimate:\n",
    "        coefficient = (((-1)**(counter+1))/order)*(1 / np.tan(np.pi*(2*counter-1)/(4*order) ))\n",
    "        points_array.append( coefficient )\n",
    "        \n",
    "        estimate += coefficient*trotter_val\n",
    "        estimate_array.append(estimate)\n",
    "\n",
    "    \n",
    "    return estimate\n",
    "\n",
    "def richardson_estimate_precise(order, s_min, Hterms, initial_state, time, observable, trotter_order =2):\n",
    "    \n",
    "    #Generate the array of points we wish to use:\n",
    "    points_array = []\n",
    "    values_array = []\n",
    "    coefficient_array = []\n",
    "    estimate_array = []\n",
    "    estimate = 0\n",
    "    \n",
    "    #Adjust precision\n",
    "    mp.dps = 20\n",
    "    \n",
    "    for k in range(order):\n",
    "        counter = k+1\n",
    "        #Generate points to be sampled from.\n",
    "        sample_point = s_min*( mp.sin(np.pi*(2*counter-1)/(4*order)) )\n",
    "        points_array.append( sample_point  )\n",
    "        \n",
    "        #Generate expectation values at those points.\n",
    "        trotter_val = Trotterized_Expectation_precise(Hterms, initial_state, time, sample_point, observable, order = trotter_order)\n",
    "        print(trotter_val)\n",
    "        values_array.append( trotter_val )\n",
    "        \n",
    "        #Generate Coefficients for the Estimate:\n",
    "        coefficient = (((-1)**(counter+1))/order)*(1 / mp.tan(np.pi*(2*counter-1)/(4*order) ))\n",
    "        points_array.append( coefficient )\n",
    "        \n",
    "        estimate += coefficient*trotter_val\n",
    "        estimate_array.append(estimate)\n",
    "\n",
    "    \n",
    "    return estimate\n",
    "\n",
    "\n",
    "## Use this the following function to simulate the effects of random noise on the estimate.\n",
    "\n",
    "def richardson_estimate_error(order, s_min, Hterms, initial_state, time, observable, error_param, trotter_order =2):\n",
    "    \n",
    "    #Generate the array of points we wish to use:\n",
    "    points_array = []\n",
    "    values_array = []\n",
    "    coefficient_array = []\n",
    "    estimate_array = []\n",
    "    estimate = 0\n",
    "    \n",
    "    for k in range(order):\n",
    "        counter = k+1\n",
    "        #Generate points to be sampled from.\n",
    "        #points_array.append( s_min*(np.sin(np.pi*(2*k-1)/4*order))**2  )\n",
    "        sample_point = s_min*( np.sin(np.pi*(2*counter-1)/(4*order)) )\n",
    "        points_array.append( sample_point  )\n",
    "        \n",
    "        #Generate expectation values at those points.\n",
    "        trotter_val = Trotterized_Expectation(Hterms, initial_state, time, sample_point, observable, trotter_order)+ np.random.uniform(-error_param, error_param)\n",
    "        values_array.append( trotter_val )\n",
    "        #print(\"Measured Values\", values_array)\n",
    "        \n",
    "        #Generate Coefficients for the Estimate:\n",
    "        coefficient = (((-1)**(counter+1))/order)*(1 / np.tan(np.pi*(2*counter-1)/(4*order) ))\n",
    "        points_array.append( coefficient )\n",
    "        \n",
    "        estimate += coefficient*trotter_val\n",
    "        estimate_array.append(estimate)\n",
    "\n",
    "\n",
    "    \n",
    "    return estimate\n",
    "\n"
   ]
  },
  {
   "cell_type": "markdown",
   "id": "70b089b1-666a-4076-a0fa-e9ea4f349f4d",
   "metadata": {},
   "source": [
    "## Testing Richardson Extrapolation <a name=\"test_richardson\"></a>"
   ]
  },
  {
   "cell_type": "code",
   "execution_count": 17,
   "id": "270baea1-992f-4344-b27f-eb742cc5ef86",
   "metadata": {},
   "outputs": [
    {
     "name": "stdout",
     "output_type": "stream",
     "text": [
      "1.2689250173432802\n",
      "Error: -9.204176060650937e-06 Exact Value: 1.2689158131672198 Richardson Approximation: 1.2689250173432804\n"
     ]
    }
   ],
   "source": [
    "## Test case.\n",
    "\n",
    "# Set initial parameters.\n",
    "order         = 1\n",
    "time          = 1\n",
    "min_step_no   = min_step_number(nqubits, hlist, time)\n",
    "s_min         = 1/min_step_no\n",
    "failure_prob  = 0.01\n",
    "trot_order    = 2 \n",
    "\n",
    "approximation = richardson_estimate(order, s_min, Hterms, initial_state, time, local_obs, trotter_order =2)\n",
    "\n",
    "exact_val = Exact_Expectation(Htot, initial_state, time, local_obs)\n",
    "\n",
    "error = exact_val - approximation\n",
    "\n",
    "relative_error = error/exact_val\n",
    "\n",
    "print(\"Error:\", error,\"Exact Value:\",\"Relative Error:\", relative_error , exact_val,\"Richardson Approximation:\", approximation)"
   ]
  },
  {
   "cell_type": "markdown",
   "id": "162f0f10-bab5-429f-b30a-d280cb4fbd91",
   "metadata": {},
   "source": [
    "# Polynomial Interpolation <a name=\"polynomial_interpolation\"></a>"
   ]
  },
  {
   "cell_type": "markdown",
   "id": "59a920ed-68d5-4848-a2d9-639f9ab685dd",
   "metadata": {},
   "source": [
    " We can use `scipy.interpolate` for the interpolating polynomials."
   ]
  },
  {
   "cell_type": "code",
   "execution_count": 18,
   "id": "aa37f39f-a0ad-4e71-a632-ca7acddcec11",
   "metadata": {},
   "outputs": [],
   "source": [
    "## Creates a list of n Chebyshev nodes in the interval [-halfwidth + center , halfwidth +center ]. \n",
    "# Input: a positive integer n and interval of given halfwidth and center,\n",
    "# Returns: a list of the n Chebyshev nodes (zeros of the nth degree chebyshev polynomial on that interval)\n",
    "def cheb_nodes(n, halfwidth = 1, center = 0):\n",
    "    nodes = np.zeros(n)\n",
    "    for j in range(n):\n",
    "        nodes[n-j-1] = center + halfwidth * np.cos((2*j+1)*np.pi/(2*n))\n",
    "    return nodes"
   ]
  },
  {
   "cell_type": "markdown",
   "id": "e826a3ff-9adb-468b-94ca-7404d9e5f174",
   "metadata": {},
   "source": [
    "## Computing the Interpolating Function"
   ]
  },
  {
   "cell_type": "code",
   "execution_count": 19,
   "id": "0f4f1079-d3ac-4f6a-b6c8-b0a62e1efd6e",
   "metadata": {},
   "outputs": [],
   "source": [
    "## Outputs the num_nodes degree Chebyshev approximation to the \"order\"-degree Trotter evolution.\n",
    "\n",
    "def degree_N_Chebyshev(num_nodes, interval_width, Hterms, initial_state, time, local_obs, order = 2):\n",
    "    \n",
    "    # Generate array of nodes and initialise array to contain output values.\n",
    "    slist = cheb_nodes(num_nodes, interval_width)\n",
    "    ylist = np.zeros(num_nodes)\n",
    "    \n",
    "    # Generate the values we wish to interpolate.\n",
    "    for k in range(0, num_nodes):\n",
    "        # Compute the Trotter estimate at each Chebyshev node.\n",
    "        ylist[k] = Trotterized_Expectation(Hterms, initial_state, time, slist[k], local_obs, order = trot_order)\n",
    "    \n",
    "    # Generate the interpolating function.\n",
    "    interpolant = interp.BarycentricInterpolator(slist,ylist)\n",
    "    \n",
    "    return interpolant\n",
    "\n",
    "\n",
    "## Outputs the extrapolated value at s=0.\n",
    "\n",
    "def extrapolated_value(num_nodes, interval_width, Hterms, initial_state, time, local_obs, order = 2):\n",
    "\n",
    "    Chebyshev_approx = degree_N_Chebyshev(num_nodes, interval_width, Hterms, initial_state, time, local_obs, order = 2)\n",
    "    \n",
    "    return Chebyshev_approx(0)\n",
    "    \n",
    "    \n",
    "def degree_N_Chebyshev_error(num_nodes, interval_width, Hterms, initial_state, time, local_obs, error_param, order = 2):\n",
    "    \n",
    "    # Generate array of nodes and initialise array to contain output values.\n",
    "    slist = cheb_nodes(num_nodes, interval_width)\n",
    "    ylist = np.zeros(num_nodes)\n",
    "    \n",
    "    # Generate the values we wish to interpolate.\n",
    "    for k in range(0, num_nodes):\n",
    "        # Compute the Trotter estimate at each Chebyshev node.\n",
    "        ylist[k] = Trotterized_Expectation(Hterms, initial_state, time, slist[k], local_obs, order = trot_order)+ np.random.uniform(-error_param, error_param)\n",
    "    \n",
    "    # Generate the interpolating function.\n",
    "    interpolant = interp.BarycentricInterpolator(slist,ylist)\n",
    "    \n",
    "    return interpolant    "
   ]
  },
  {
   "cell_type": "markdown",
   "id": "68502b54-5a56-4f6c-bc8e-fc19a8febf00",
   "metadata": {},
   "source": [
    "## Error Scaling with Degree of Richardson Approximation"
   ]
  },
  {
   "cell_type": "code",
   "execution_count": 20,
   "id": "a462f1c9-1eec-45d6-b6fc-ddd4a78d3b65",
   "metadata": {},
   "outputs": [
    {
     "name": "stdout",
     "output_type": "stream",
     "text": [
      "1.2689250173432802\n",
      "1.2689185088806734\n",
      "1.268931526420686\n",
      "1.2689170462216801\n",
      "1.2689250173432802\n",
      "1.2689329893870998\n",
      "1.2689165137503406\n",
      "1.2689214949124215\n",
      "1.2689285399541435\n",
      "1.268933521985744\n",
      "1.2689162636227203\n",
      "1.2689196071154312\n",
      "1.2689250173432802\n",
      "1.2689304279958404\n",
      "1.2689337721756648\n",
      "1.2689161267715883\n",
      "1.2689185088806734\n",
      "1.2689226350092113\n",
      "1.268927399759596\n",
      "1.268931526420686\n",
      "1.268933909061988\n",
      "1.268916043919502\n",
      "1.2689178211241245\n",
      "1.2689210236498898\n",
      "1.2689250173432802\n",
      "1.2689290112679208\n",
      "1.2689322143142614\n",
      "1.2689339919352072\n",
      "1.2689159900108173\n",
      "1.2689173642641918\n",
      "1.2689199036249916\n",
      "1.2689232216012327\n",
      "1.2689268131321585\n",
      "1.2689301314406785\n",
      "1.268932671272093\n",
      "1.2689340458579046\n",
      "1.2689159529907499\n",
      "1.2689170462216801\n",
      "1.268919100871551\n",
      "1.2689218691911506\n",
      "1.2689250173432802\n",
      "1.2689281656390268\n",
      "1.2689309343227202\n",
      "1.2689329893870998\n",
      "1.2689340828888707\n"
     ]
    },
    {
     "data": {
      "text/plain": [
       "Text(0.5, 1.0, 'Error at Different Circuit Depths')"
      ]
     },
     "execution_count": 20,
     "metadata": {},
     "output_type": "execute_result"
    },
    {
     "data": {
      "image/png": "[encoded data removed]",
      "text/plain": [
       "<Figure size 640x480 with 1 Axes>"
      ]
     },
     "metadata": {},
     "output_type": "display_data"
    }
   ],
   "source": [
    "## Here we see how the error changes with the number of interpolating nodes/the degree of the approximating polynomial.\n",
    "\n",
    "trot_order      = 2\n",
    "time            = 1\n",
    "s_min           = 1/min_step_no\n",
    "max_node_number = 10\n",
    "\n",
    "points_array = []\n",
    "estimated_value_list = []\n",
    "degree_array = []\n",
    "error_array = []\n",
    "best_data_val_array = []\n",
    "best_val_error_array = []\n",
    "\n",
    "\n",
    "# Exact expectation value.\n",
    "exact_val = Exact_Expectation(Htot, initial_state, time, local_obs)\n",
    "\n",
    "        \n",
    "# Generate a list of functions with increasing degree, then compute their estimate of the observable + error.\n",
    "for k in range(1, max_node_number):\n",
    "    \n",
    "    order = k\n",
    "    approximation = richardson_estimate(order, s_min, Hterms, initial_state, time, local_obs, trotter_order =2)\n",
    "    \n",
    "    # Calculate the estimated value from the s=0 value of the interpolation\n",
    "    estimated_value_list.append( approximation )\n",
    "    degree_array.append( k )\n",
    "    # Calculate the error relative to the exact value.\n",
    "    error_array.append( np.abs( exact_val - estimated_value_list[k-1] )  )\n",
    "    \n",
    "    # Now compute error associated with the best value from data for each corresponding degree approximation.\n",
    "    # This is essentially calculating the best measurement error.\n",
    "    \n",
    "    # Generate a list of points to be sampled from.\n",
    "    for m in range(1, max_node_number):\n",
    "        counter = m\n",
    "        sample_point = s_min*( np.sin(np.pi*(2*counter-1)/(4*order)) )\n",
    "        points_array.append( sample_point  )\n",
    "    \n",
    "    # Now find the minimum on that list, and check the error associated with measuring the observable there.\n",
    "    min_value_points_array = min(np.abs(points_array) )\n",
    "    best_data_val_array.append( Trotterized_Expectation(Hterms, initial_state, time, min_value_points_array, local_obs, order = trot_order)  )\n",
    "    best_val_error_array.append( np.abs( exact_val - best_data_val_array[k-1] )  )\n",
    "\n",
    "    \n",
    "    \n",
    "# Convert array into the circuit depth in terms of elementary exponentials.\n",
    "\n",
    "circuit_depth_array = min_step_number(nqubits, hlist, time)*(1/2)*np.array( degree_array )\n",
    "\n",
    "\n",
    "# Plot graphs.\n",
    "\n",
    "plt.semilogy(circuit_depth_array, error_array,  label=\"Extrapolated Error\")\n",
    "plt.semilogy(circuit_depth_array, best_val_error_array, label=\"Directly Measured Error\"  )\n",
    "plt.xlabel('Number of Trotter Steps')\n",
    "plt.ylabel('Observable Error')\n",
    "plt.legend()\n",
    "plt.title(\"Error at Different Circuit Depths\")"
   ]
  },
  {
   "cell_type": "markdown",
   "id": "002c3776-0b65-46de-861e-bfdc7c72440b",
   "metadata": {},
   "source": [
    "# Comparing Richardson and Polynomial Extrapolation Methods <a name=\"comparison\"></a>"
   ]
  },
  {
   "cell_type": "markdown",
   "id": "141ed0e8-5a1c-4621-963e-4b3804b54c7d",
   "metadata": {},
   "source": [
    "Here we compare the Richardson and Polynomial Extrapolation Methods"
   ]
  },
  {
   "cell_type": "code",
   "execution_count": 24,
   "id": "e6508791-43dc-4e17-bd12-eb32a48c4f13",
   "metadata": {},
   "outputs": [],
   "source": [
    "# Set initial parameters.\n",
    "trot_order    = 2 \n",
    "order         = 2\n",
    "time          = 1\n",
    "min_step_no   = min_step_number(nqubits, hlist, time, order = 2 )\n",
    "s_min         = 1/min_step_no\n",
    "failure_prob  = 0.01\n"
   ]
  },
  {
   "cell_type": "markdown",
   "id": "ce0384a5-3972-4f6e-a5d8-fca2bbd7b900",
   "metadata": {},
   "source": [
    "#### Initialise a Hamiltonian"
   ]
  },
  {
   "cell_type": "code",
   "execution_count": 145,
   "id": "53492c21-45e6-40f8-9b84-ddb51407c788",
   "metadata": {},
   "outputs": [],
   "source": [
    "## Initialise a set of Hamiltonian \n",
    "\n",
    "# System parameters.\n",
    "nqubits = 5\n",
    "h = 3 # Maximum single qubit potential strength\n",
    "\n",
    "# Define the Hamiltonian and the groupings of its terms.\n",
    "hlist = (np.random.rand(nqubits)*2 -1)*h\n",
    "Hterms = [Even_Heisenberg_Terms(nqubits), Odd_Heisenberg_Terms(nqubits), Potential_Heisenberg_Terms(nqubits, hlist)]\n",
    "Htot = np.sum(Hterms, axis = 0)\n",
    "\n",
    "\n",
    "# Choose local observable and initial state\n",
    "initial_state = sparse_bitstring([nqubits//2], nqubits)\n",
    "#local_obs = Htot \n",
    "\n",
    "local_obs_array1= [{0: 'Z'},{nqubits-1: 'Z'}, {1: 'X'} ]\n",
    "local_obs_array2= [{0: 'X'}, {1:'Y'}, {nqubits-1: 'I'}]\n",
    "local_obs = observable(local_obs_array1, nqubits) + observable(local_obs_array2, nqubits)\n",
    "local_obs_array= [{0: 'X'}, {1:'Y'}, {nqubits-1: 'I'}]\n",
    "#local_obs = observable(local_obs_array, nqubits)\n",
    "#local_obs = Magnetisation( nqubits )\n"
   ]
  },
  {
   "cell_type": "markdown",
   "id": "053048b2-99ce-4a78-a4db-d502c309f58f",
   "metadata": {},
   "source": [
    "#### Error Scaling with Degree of Richardson Approximation"
   ]
  },
  {
   "cell_type": "markdown",
   "id": "7d7fe11d-c4a9-4e78-9600-7507e5b2a700",
   "metadata": {},
   "source": [
    "#### Plot the Richardson Results"
   ]
  },
  {
   "cell_type": "code",
   "execution_count": 146,
   "id": "43d6ba16-5ee6-44a8-9502-5b7fa2595c3c",
   "metadata": {},
   "outputs": [],
   "source": [
    "points_array_Richardson = []\n",
    "depth_array_Richardson  = []\n",
    "estimated_value_list_Richardson = []\n",
    "degree_array_Richardson = []\n",
    "error_array_Richardson  = []\n",
    "best_data_val_array_Richardson  = []\n",
    "best_val_error_array_Richardson = []\n",
    "\n",
    "\n",
    "# Exact expectation value.\n",
    "exact_val = Exact_Expectation(Htot, initial_state, time, local_obs)\n",
    "\n",
    "# Generate a list of functions with increasing degree, then compute their estimate of the observable + error.\n",
    "for k in range(1, max_node_number):\n",
    "    \n",
    "    order = k\n",
    "    approximation = richardson_estimate(order, s_min, Hterms, initial_state, time, local_obs, trotter_order =2)\n",
    "    # Calculate the estimated value from the s=0 value of the interpolation\n",
    "    estimated_value_list_Richardson.append( approximation )\n",
    "    degree_array_Richardson.append( k )\n",
    "    # Calculate the error relative to the exact value.\n",
    "    error_array_Richardson.append( np.abs( exact_val - estimated_value_list_Richardson[k-1] )  )\n",
    "    \n",
    "    # Now compute error associated with the best value from data for each corresponding degree approximation.\n",
    "    # This is essentially calculating the best measurement error.\n",
    "    \n",
    "    # Generate a list of points to be sampled from.\n",
    "    points_array_Richardson.append([])\n",
    "    depth_array_Richardson.append([])\n",
    "    for m in range(1, order+1): #max_node_number):\n",
    "        counter = m\n",
    "        sample_point = s_min*( np.sin(np.pi*(2*counter-1)/(4*order)) )\n",
    "        #print(\"Sample point\", k, m, \":\", sample_point)\n",
    "        points_array_Richardson[k-1].append( sample_point  )\n",
    "        depth_array_Richardson[k-1].append( 1/sample_point )\n",
    "    \n",
    "    # Now find the minimum on that list, and check the error associated with measuring the observable there.\n",
    "    min_value_points_array = min(np.abs(points_array_Richardson[k-1]) )\n",
    "    best_data_val_array_Richardson.append( Trotterized_Expectation(Hterms, initial_state, time, min_value_points_array, local_obs, order = trot_order)  )\n",
    "    best_val_error_array_Richardson.append( np.abs( exact_val - best_data_val_array_Richardson[k-1] )  )\n",
    "\n",
    "# Convert array into the circuit depth in terms of elementary exponentials.\n",
    "\n",
    "circuit_depth_array_Richardson = min_step_no*(1/2)*np.array( degree_array )\n",
    "\n",
    "# Extract the maximum circuit depth for each Richardson run.\n",
    "maximum_depths_Richardson = [max(x) for x in depth_array_Richardson]\n"
   ]
  },
  {
   "cell_type": "code",
   "execution_count": 147,
   "id": "2be26d6b-66de-4701-ab89-9225603f5c54",
   "metadata": {},
   "outputs": [
    {
     "data": {
      "text/plain": [
       "Text(0.5, 1.0, 'Error at Different Circuit Depths')"
      ]
     },
     "execution_count": 147,
     "metadata": {},
     "output_type": "execute_result"
    },
    {
     "data": {
      "image/png": "[encoded data removed]",
      "text/plain": [
       "<Figure size 640x480 with 1 Axes>"
      ]
     },
     "metadata": {},
     "output_type": "display_data"
    }
   ],
   "source": [
    "# Plot graphs.\n",
    "plt.semilogy(maximum_depths_Richardson, error_array_Richardson,  label=\"Richardson Extrapolated Error\")\n",
    "plt.semilogy(maximum_depths_Richardson, best_val_error_array_Richardson, label=\"Directly Measured Error\"  )\n",
    "plt.xlabel('Number of Trotter Steps')\n",
    "plt.ylabel('Observable Error')\n",
    "plt.legend()\n",
    "plt.title(\"Error at Different Circuit Depths\")"
   ]
  },
  {
   "cell_type": "markdown",
   "id": "6b15d7fe-6a1d-403e-96cd-057fb40e259f",
   "metadata": {},
   "source": [
    "#### Error Scaling with Degree of Polynomial Interpolation"
   ]
  },
  {
   "cell_type": "code",
   "execution_count": 148,
   "id": "b1853da7-80b4-46fd-bdd2-d05b2957dd76",
   "metadata": {},
   "outputs": [
    {
     "name": "stdout",
     "output_type": "stream",
     "text": [
      "s_list 1 : [-0.05050763  0.05050763]\n",
      "s_list 2 : [-0.0659914  -0.02733453  0.02733453  0.0659914 ]\n",
      "s_list 3 : [-0.0689947  -0.05050763 -0.01848707  0.01848707  0.05050763  0.0689947 ]\n",
      "s_list 4 : [-0.07005609 -0.05939069 -0.03968359 -0.01393502  0.01393502  0.03968359\n",
      "  0.05939069  0.07005609]\n"
     ]
    }
   ],
   "source": [
    "Chebyshev_approx_array    = []\n",
    "estimated_value_list_poly = []\n",
    "degree_array_poly = []\n",
    "error_array_poly  = []\n",
    "best_data_val_array_poly  = []\n",
    "best_val_error_array_poly = []\n",
    "circuit_depth_array_poly  = []\n",
    "list_max_poly = []\n",
    "\n",
    "\n",
    "# Generate a list of functions with increasing degree, then compute their estimate of the observable + error.\n",
    "for k in range(1,int(max_node_number/2)):\n",
    "    # Cacluate the interpolating function for the degree 2*k Chebyshev interpolant.\n",
    "    Chebyshev_approx_array.append( degree_N_Chebyshev(2*k, s_min, Hterms, initial_state, time, local_obs, order = trot_order) )\n",
    "    # Calculate the estimated value from the s=0 value of the interpolation\n",
    "    estimated_value_list_poly.append( Chebyshev_approx_array[k-1](0) )\n",
    "    degree_array_poly.append( 2*k)\n",
    "    # Calculate the error relative to the exact value.\n",
    "    error_array_poly.append( np.abs( exact_val - estimated_value_list_poly[k-1] )  )\n",
    "    \n",
    "    # Now compute error associated with the best value from data for each corresponding degree approximation.\n",
    "    s_list = cheb_nodes(2*k, s_min)\n",
    "    print(\"s_list\", k, \":\", s_list)\n",
    "    list_max_poly.append( 1/min(abs(s_list)) )\n",
    "    best_data_val_array_poly.append( Trotterized_Expectation(Hterms, initial_state, time, s_list[k], local_obs, order = trot_order)  )\n",
    "    best_val_error_array_poly.append( np.abs( exact_val - best_data_val_array_poly[k-1] )  )\n",
    "\n",
    "\n",
    "# Convert array into the circuit depth in terms of elementary exponentials.\n",
    "circuit_depth_array_poly = min_step_no *(1/4)*np.array( degree_array_poly )\n",
    "    "
   ]
  },
  {
   "cell_type": "markdown",
   "id": "ba6f3639-8b7b-4ff7-9ea0-bd967aed3729",
   "metadata": {},
   "source": [
    "#### Plot Polynomial Interpolation Results"
   ]
  },
  {
   "cell_type": "code",
   "execution_count": 149,
   "id": "9843e95c-77db-4083-90eb-2237dd4dd15c",
   "metadata": {},
   "outputs": [
    {
     "data": {
      "text/plain": [
       "Text(0.5, 1.0, 'Error at Different Circuit Depths')"
      ]
     },
     "execution_count": 149,
     "metadata": {},
     "output_type": "execute_result"
    },
    {
     "data": {
      "image/png": "[encoded data removed]",
      "text/plain": [
       "<Figure size 640x480 with 1 Axes>"
      ]
     },
     "metadata": {},
     "output_type": "display_data"
    }
   ],
   "source": [
    "#plt.semilogy(circuit_depth_array_poly, error_array_poly,  label=\"Polynomial Extrapolated Error\")\n",
    "#plt.semilogy(circuit_depth_array_poly,  best_val_error_array_poly, label=\"Directly Measured Error\"  )\n",
    "plt.semilogy(list_max_poly, error_array_poly,  label=\"Polynomial Extrapolated Error\")\n",
    "plt.semilogy(list_max_poly,  best_val_error_array_poly, label=\"Directly Measured Error\"  )\n",
    "plt.xlabel('Number of Trotter Steps')\n",
    "plt.ylabel('Observable Error')\n",
    "plt.legend()\n",
    "plt.title(\"Error at Different Circuit Depths\")"
   ]
  },
  {
   "cell_type": "markdown",
   "id": "df12a410-5270-4b9f-828d-4be686c86681",
   "metadata": {},
   "source": [
    "#### Plot Richardson Extrapolation and Polynomial Interpolation Simultaneously"
   ]
  },
  {
   "cell_type": "code",
   "execution_count": 150,
   "id": "200bbcb4-abed-4ebd-9aba-a07ecf46784d",
   "metadata": {},
   "outputs": [
    {
     "data": {
      "text/plain": [
       "Text(0.5, 1.0, 'Error at Different Circuit Depths')"
      ]
     },
     "execution_count": 150,
     "metadata": {},
     "output_type": "execute_result"
    },
    {
     "data": {
      "image/png": "[encoded data removed]",
      "text/plain": [
       "<Figure size 640x480 with 1 Axes>"
      ]
     },
     "metadata": {},
     "output_type": "display_data"
    }
   ],
   "source": [
    "\n",
    "plt.semilogy(maximum_depths_Richardson, error_array_Richardson,  label=\"Richardson Extrapolation\", marker = 'v')\n",
    "plt.semilogy(maximum_depths_Richardson, best_val_error_array_Richardson, label=\"Directly Measured Error\", marker = '+')\n",
    "plt.semilogy(list_max_poly, error_array_poly,  label=\"Polynomial Extrapolation\", marker = 'x')\n",
    "#plt.semilogy(circuit_depth_array_poly,  best_val_error_array_poly, label=\"Directly Measured Error\"  )\n",
    "plt.xlabel('Number of Trotter Steps')\n",
    "plt.ylabel('Observable Error')\n",
    "plt.legend()\n",
    "plt.title(\"Error at Different Circuit Depths\")"
   ]
  },
  {
   "cell_type": "markdown",
   "id": "b6e6c491-1129-4031-abe9-3a3bce89b509",
   "metadata": {},
   "source": [
    "# Comparison with Different Sampling Points"
   ]
  },
  {
   "cell_type": "markdown",
   "id": "93d6d84a-d626-4aba-8b88-90d0712df74b",
   "metadata": {},
   "source": [
    "##### The previous routine incidentally used the same sampling points to give the same answers. Here we change this."
   ]
  },
  {
   "cell_type": "code",
   "execution_count": 225,
   "id": "7756c80c-cfaa-45cc-9801-097c29e5a82f",
   "metadata": {},
   "outputs": [],
   "source": [
    "## Define the relevant functions for the generic case.\n",
    "\n",
    "\n",
    "def generate_adjusted_nodes(s_min, order, type = 'regular' ):\n",
    "\n",
    "    points_array_Richardson = []\n",
    "\n",
    "    # Generate regular Chebyshev nodes:\n",
    "    if type == 'regular':\n",
    "        for j in range(1, order+1): \n",
    "            counter = j\n",
    "            sample_point = s_min*( np.sin(np.pi*(2*counter-1)/(4*order)) )\n",
    "            points_array_Richardson.append( sample_point  )\n",
    "\n",
    "    # Generate adjusted Chebyshev nodes:\n",
    "    elif type == 'adjusted':\n",
    "        for j in range(1, order+1): \n",
    "            counter = j\n",
    "            sample_point = s_min*( np.sin(np.pi*(2*counter-1)/(4*2*order)) )\n",
    "            points_array_Richardson.append( sample_point  )\n",
    "\n",
    "    # Generate rounded Chebyshev nodes:\n",
    "    elif type == 'rounded':\n",
    "        for j in range(1, order+1): \n",
    "            counter = j\n",
    "            K = np.log2(order)\n",
    "            sample_point = s_min*( np.sin(np.pi*(2*counter-1)/(4*2*order)) )\n",
    "            points_array_Richardson.append( np.floor(sample_point/K)  )\n",
    "\n",
    "    return points_array_Richardson\n",
    "\n",
    "# Given a list of sample points, returns the Vandermode matrix.\n",
    "def Vandermode_generator(s_list, order):\n",
    "\n",
    "    Vandermode_matrix = []\n",
    "    \n",
    "    # Now fill in the samples.\n",
    "    for j in range(order):\n",
    "        Vandermode_matrix.append([])\n",
    "        [Vandermode_matrix[j].append(x**(2*j)) for x in s_list ]\n",
    "\n",
    "    Vandermode_matrix = np.array( Vandermode_matrix )\n",
    "    \n",
    "    return Vandermode_matrix\n",
    "\n",
    "\n",
    "# Find Richardson extrapolation coefficients.\n",
    "def Richardson_coefficient_finder(s_list, order):\n",
    "    \n",
    "    # Generate the Vandermode matrix.\n",
    "    V = Vandermode_generator(s_list, order)\n",
    "\n",
    "    # Now solve for vector of a's.\n",
    "    single_element    = [0]*order\n",
    "    single_element[0] = 1\n",
    "    single_element = np.array(single_element)\n",
    "\n",
    "    a_array = np.linalg.inv(V) @ single_element\n",
    "\n",
    "    return a_array\n",
    "\n",
    "\n",
    "\n",
    "# Performs the Richardson extrapolation procedure with generic sampling points by inverting the Vandermode matrix.\n",
    "def richardson_estimate_generic(order, s_list, Hterms, initial_state, time, observable, trotter_order =2):\n",
    "    \n",
    "    #Generate the array of points we wish to use:\n",
    "    points_array = []\n",
    "    values_array = []\n",
    "    coefficient_array = []\n",
    "    estimate_array = []\n",
    "    estimate = 0\n",
    "\n",
    "    # Generate the expectation values of the Trotterization at the sample points.\n",
    "\n",
    "    for sample_point in s_list:\n",
    "        trotter_val = Trotterized_Expectation(Hterms, initial_state, time, sample_point, observable, order = trotter_order)\n",
    "        values_array.append( trotter_val )\n",
    "\n",
    "    #Generate Coefficients for the Estimate:\n",
    "    a_array = Richardson_coefficient_finder(s_list, order)\n",
    "    \n",
    "    #Generate the estimate:\n",
    "    for k in range(len(a_array)):\n",
    "        estimate += a_array[k]*values_array[k]\n",
    "        #coefficient = (((-1)**(counter+1))/order)*(1 / np.tan(np.pi*(2*counter-1)/(4*order) ))\n",
    "        #points_array.append( coefficient )\n",
    "        \n",
    "        #estimate += coefficient*trotter_val\n",
    "        #estimate_array.append(estimate)\n",
    "\n",
    "    \n",
    "    return estimate"
   ]
  },
  {
   "cell_type": "code",
   "execution_count": 151,
   "id": "c3a6e18d-cfd1-4a4a-b0c2-6695e826045d",
   "metadata": {},
   "outputs": [
    {
     "name": "stdout",
     "output_type": "stream",
     "text": [
      "[-0.07005609 -0.05939069 -0.03968359 -0.01393502  0.01393502  0.03968359\n",
      "  0.05939069  0.07005609]\n"
     ]
    }
   ],
   "source": [
    "s_list = cheb_nodes(2*k, s_min)\n",
    "print(s_list)"
   ]
  },
  {
   "cell_type": "code",
   "execution_count": 161,
   "id": "1e30df87-1da4-4d77-8350-2b56dc4683bc",
   "metadata": {},
   "outputs": [
    {
     "name": "stdout",
     "output_type": "stream",
     "text": [
      "[0.013935023001152017, 0.03968358807282873, 0.05939068659303894, 0.0700560914573736]\n",
      "Depths: [71.76163253676218, 25.199334247819642, 16.837656834181267, 14.274276214916458]\n"
     ]
    }
   ],
   "source": [
    "points_array_Richardson = []\n",
    "depth_array_Richardson = []\n",
    "order = 4\n",
    "\n",
    "for m in range(1, order+1): #max_node_number):\n",
    "    counter = m\n",
    "    sample_point = s_min*( np.sin(np.pi*(2*counter-1)/(4*order)) )\n",
    "    #print(\"Sample point\", k, m, \":\", sample_point)\n",
    "    points_array_Richardson.append( sample_point  )\n",
    "    depth_array_Richardson.append( 1/sample_point )\n",
    "\n",
    "print(points_array_Richardson)\n",
    "print(\"Depths:\",depth_array_Richardson)"
   ]
  },
  {
   "cell_type": "code",
   "execution_count": 163,
   "id": "c5d515fb-248a-4659-ba49-ea599ef80716",
   "metadata": {},
   "outputs": [
    {
     "name": "stdout",
     "output_type": "stream",
     "text": [
      "[0.013935023001152017, 0.03968358807282873, 0.05939068659303894, 0.0700560914573736]\n",
      "Depths [71.76163253676218, 25.199334247819642, 16.837656834181267, 14.274276214916458]\n"
     ]
    }
   ],
   "source": [
    "## New k' Richardson sampling points\n",
    "points_array_Richardson = []\n",
    "depth_array_Richardson = []\n",
    "order = 4\n",
    "\n",
    "for j in range(1, order+1): #max_node_number):\n",
    "    counter = j\n",
    "    sample_point = s_min*( np.sin(np.pi*(2*counter-1)/(4*2*order)) )\n",
    "    #print(\"Sample point\", k, m, \":\", sample_point)\n",
    "    points_array_Richardson.append( sample_point  )\n",
    "    depth_array_Richardson.append( 1/sample_point )\n",
    "\n",
    "print(points_array_Richardson)\n",
    "print(\"Depths\", depth_array_Richardson)"
   ]
  },
  {
   "cell_type": "code",
   "execution_count": null,
   "id": "48307106-b53f-431e-ad46-8d625f6a8be9",
   "metadata": {},
   "outputs": [],
   "source": []
  },
  {
   "cell_type": "code",
   "execution_count": 222,
   "id": "3f020aa1-7df3-4d9a-ba6f-b573e63fc64c",
   "metadata": {},
   "outputs": [
    {
     "name": "stdout",
     "output_type": "stream",
     "text": [
      "[ 1.25683487 -0.37415144  0.16704466 -0.04972809]\n"
     ]
    }
   ],
   "source": [
    "s_list = generate_adjusted_nodes(s_min, order=4, type = 'regular' )\n",
    "points_array2 = Richardson_coefficient_finder(s_list, order)\n",
    "print(points_array2)"
   ]
  },
  {
   "cell_type": "code",
   "execution_count": null,
   "id": "006afc6c-a60e-451b-9c5b-87bf0f18420f",
   "metadata": {},
   "outputs": [],
   "source": []
  },
  {
   "cell_type": "code",
   "execution_count": null,
   "id": "61fd5dd7-750c-4f08-95d8-b89ba10ae86a",
   "metadata": {},
   "outputs": [],
   "source": []
  },
  {
   "cell_type": "code",
   "execution_count": null,
   "id": "eb64b265-9a24-4b96-ac1b-dfb331278e4b",
   "metadata": {},
   "outputs": [],
   "source": []
  },
  {
   "cell_type": "markdown",
   "id": "19d25951-cfc5-47c7-9f99-2e4b32da9ead",
   "metadata": {},
   "source": [
    "# Tests "
   ]
  },
  {
   "cell_type": "code",
   "execution_count": 224,
   "id": "16b6aef7-6fd9-4ace-9d19-18e6a49b042d",
   "metadata": {},
   "outputs": [
    {
     "name": "stdout",
     "output_type": "stream",
     "text": [
      "[0.013935023001152017, 0.03968358807282873, 0.05939068659303894, 0.0700560914573736]\n",
      "[-0.07005609 -0.05939069 -0.03968359 -0.01393502  0.01393502  0.03968359\n",
      "  0.05939069  0.07005609]\n",
      "[1.256834873031462, -0.3741514406663723, 0.16704465947982475, -0.04972809184491452]\n",
      "[ 1.25683487 -0.37415144  0.16704466 -0.04972809]\n"
     ]
    }
   ],
   "source": [
    "## Test the point generation functions are consistent.\n",
    "\n",
    "print( generate_adjusted_nodes(s_min, order=4, type = 'regular' ) ) \n",
    "print( cheb_nodes(2*order, s_min) )\n",
    "\n",
    "\n",
    "## Check the coefficient generation is consistent.\n",
    "points_array = []\n",
    "for k in range(order):\n",
    "    counter = k+1\n",
    "    #Generate Coefficients for the Estimate:\n",
    "    coefficient = (((-1)**(counter+1))/order)*(1 / np.tan(np.pi*(2*counter-1)/(4*order) ))\n",
    "    points_array.append( coefficient )\n",
    "\n",
    "print(points_array)\n",
    "\n",
    "s_list = generate_adjusted_nodes(s_min, order=4, type = 'regular' )\n",
    "points_array2 = Richardson_coefficient_finder(s_list, order)\n",
    "print(points_array2)"
   ]
  },
  {
   "cell_type": "code",
   "execution_count": null,
   "id": "a27726c5-070e-4842-839c-45a4fb24832c",
   "metadata": {},
   "outputs": [],
   "source": [
    "## Test the generic Richardson extrapolation versus the specific case.\n",
    "\n",
    "richardson_estimate(order, s_min, Hterms, initial_state, time, observable, trotter_order =2)"
   ]
  }
 ],
 "metadata": {
  "kernelspec": {
   "display_name": "Python 3 (ipykernel)",
   "language": "python",
   "name": "python3"
  },
  "language_info": {
   "codemirror_mode": {
    "name": "ipython",
    "version": 3
   },
   "file_extension": ".py",
   "mimetype": "text/x-python",
   "name": "python",
   "nbconvert_exporter": "python",
   "pygments_lexer": "ipython3",
   "version": "3.11.7"
  }
 },
 "nbformat": 4,
 "nbformat_minor": 5
}
